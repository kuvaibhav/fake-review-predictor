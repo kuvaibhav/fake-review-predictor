{
  "nbformat": 4,
  "nbformat_minor": 0,
  "metadata": {
    "colab": {
      "name": "Bert_fake-review-tensorflow-mini.ipynb",
      "provenance": []
    },
    "kernelspec": {
      "name": "python3",
      "display_name": "Python 3"
    }
  },
  "cells": [
    {
      "cell_type": "code",
      "metadata": {
        "colab": {
          "base_uri": "https://localhost:8080/"
        },
        "id": "1k_tERuTvas6",
        "outputId": "88da56f7-dab3-457e-ffad-6e557c28a8b2"
      },
      "source": [
        "%tensorflow_version 1.x"
      ],
      "execution_count": 1,
      "outputs": [
        {
          "output_type": "stream",
          "text": [
            "TensorFlow 1.x selected.\n"
          ],
          "name": "stdout"
        }
      ]
    },
    {
      "cell_type": "code",
      "metadata": {
        "id": "e5LQGthywS3H"
      },
      "source": [
        "import tensorflow as tf"
      ],
      "execution_count": 2,
      "outputs": []
    },
    {
      "cell_type": "code",
      "metadata": {
        "id": "Rkc_5QGcwU7o"
      },
      "source": [
        "from sklearn.model_selection import train_test_split\r\n",
        "import pandas as pd\r\n",
        "import tensorflow_hub as hub\r\n",
        "from datetime import datetime"
      ],
      "execution_count": 3,
      "outputs": []
    },
    {
      "cell_type": "code",
      "metadata": {
        "colab": {
          "base_uri": "https://localhost:8080/"
        },
        "id": "he3UXkMHwYal",
        "outputId": "ef0ebde5-8561-4206-cdc1-9a592b02664d"
      },
      "source": [
        "!pip install bert-tensorflow==1.0.1"
      ],
      "execution_count": 4,
      "outputs": [
        {
          "output_type": "stream",
          "text": [
            "Collecting bert-tensorflow==1.0.1\n",
            "\u001b[?25l  Downloading https://files.pythonhosted.org/packages/a6/66/7eb4e8b6ea35b7cc54c322c816f976167a43019750279a8473d355800a93/bert_tensorflow-1.0.1-py2.py3-none-any.whl (67kB)\n",
            "\r\u001b[K     |████▉                           | 10kB 14.2MB/s eta 0:00:01\r\u001b[K     |█████████▊                      | 20kB 9.0MB/s eta 0:00:01\r\u001b[K     |██████████████▋                 | 30kB 8.7MB/s eta 0:00:01\r\u001b[K     |███████████████████▍            | 40kB 7.3MB/s eta 0:00:01\r\u001b[K     |████████████████████████▎       | 51kB 4.4MB/s eta 0:00:01\r\u001b[K     |█████████████████████████████▏  | 61kB 4.6MB/s eta 0:00:01\r\u001b[K     |████████████████████████████████| 71kB 3.1MB/s \n",
            "\u001b[?25hRequirement already satisfied: six in /usr/local/lib/python3.7/dist-packages (from bert-tensorflow==1.0.1) (1.15.0)\n",
            "Installing collected packages: bert-tensorflow\n",
            "Successfully installed bert-tensorflow-1.0.1\n"
          ],
          "name": "stdout"
        }
      ]
    },
    {
      "cell_type": "code",
      "metadata": {
        "colab": {
          "base_uri": "https://localhost:8080/"
        },
        "id": "H6NyY_XDwbtW",
        "outputId": "87c51113-e773-449e-afc3-2af8d8d1cd79"
      },
      "source": [
        "import bert\r\n",
        "from bert import run_classifier\r\n",
        "from bert import optimization\r\n",
        "from bert import tokenization"
      ],
      "execution_count": 5,
      "outputs": [
        {
          "output_type": "stream",
          "text": [
            "WARNING:tensorflow:From /usr/local/lib/python3.7/dist-packages/bert/optimization.py:87: The name tf.train.Optimizer is deprecated. Please use tf.compat.v1.train.Optimizer instead.\n",
            "\n"
          ],
          "name": "stdout"
        }
      ]
    },
    {
      "cell_type": "code",
      "metadata": {
        "colab": {
          "base_uri": "https://localhost:8080/"
        },
        "id": "Q80t9nhHwer3",
        "outputId": "4df87930-0143-4f3c-c770-852b8b0eb1e7"
      },
      "source": [
        "# Set the output directory for saving model file\r\n",
        "# Optionally, set a GCP bucket location\r\n",
        "\r\n",
        "OUTPUT_DIR = 'OUTPUT_DIR_NAME3'#@param {type:\"string\"}\r\n",
        "#@markdown Whether or not to clear/delete the directory and create a new one\r\n",
        "DO_DELETE = True #@param {type:\"boolean\"}\r\n",
        "#@markdown Set USE_BUCKET and BUCKET if you want to (optionally) store model output on GCP bucket.\r\n",
        "USE_BUCKET = False #@param {type:\"boolean\"}\r\n",
        "BUCKET = 'BUCKET_NAME' #@param {type:\"string\"}\r\n",
        "\r\n",
        "if USE_BUCKET:\r\n",
        "  OUTPUT_DIR = 'gs://{}/{}'.format(BUCKET, OUTPUT_DIR)\r\n",
        "  from google.colab import auth\r\n",
        "  auth.authenticate_user()\r\n",
        "\r\n",
        "if DO_DELETE:\r\n",
        "  try:\r\n",
        "    tf.gfile.DeleteRecursively(OUTPUT_DIR)\r\n",
        "  except:\r\n",
        "    # Doesn't matter if the directory didn't exist\r\n",
        "    pass\r\n",
        "tf.gfile.MakeDirs(OUTPUT_DIR)\r\n",
        "print('***** Model output directory: {} *****'.format(OUTPUT_DIR))"
      ],
      "execution_count": 6,
      "outputs": [
        {
          "output_type": "stream",
          "text": [
            "***** Model output directory: OUTPUT_DIR_NAME3 *****\n"
          ],
          "name": "stdout"
        }
      ]
    },
    {
      "cell_type": "code",
      "metadata": {
        "id": "luMjz3REwiu1"
      },
      "source": [
        "train = pd.read_csv('/content/colab-min-data.csv', sep=\",\", encoding='Latin-1')"
      ],
      "execution_count": 8,
      "outputs": []
    },
    {
      "cell_type": "code",
      "metadata": {
        "colab": {
          "base_uri": "https://localhost:8080/"
        },
        "id": "6HQD0X63wneE",
        "outputId": "318c782a-b0cb-40a4-b133-a6fff7ab87a0"
      },
      "source": [
        "train.head"
      ],
      "execution_count": 9,
      "outputs": [
        {
          "output_type": "execute_result",
          "data": {
            "text/plain": [
              "<bound method NDFrame.head of        user_id  prod_id  rating  ...  total day_of_week title_word_count\n",
              "0         5415      228       5  ...    NaN         NaN              NaN\n",
              "1         8757      228       5  ...    NaN         NaN              NaN\n",
              "2        55117      228       5  ...    NaN         NaN              NaN\n",
              "3        55118      228       5  ...    NaN         NaN              NaN\n",
              "4        55119      228       5  ...    NaN         NaN              NaN\n",
              "...        ...      ...     ...  ...    ...         ...              ...\n",
              "16365    41730      157       4  ...    NaN         NaN              NaN\n",
              "16366    56031      157       3  ...    NaN         NaN              NaN\n",
              "16367    76458      157       4  ...    NaN         NaN              NaN\n",
              "16368    20334      157       4  ...    NaN         NaN              NaN\n",
              "16369    72258      157       4  ...    NaN         NaN              NaN\n",
              "\n",
              "[16370 rows x 22 columns]>"
            ]
          },
          "metadata": {
            "tags": []
          },
          "execution_count": 9
        }
      ]
    },
    {
      "cell_type": "code",
      "metadata": {
        "id": "YGZUcC0twsmW"
      },
      "source": [
        "train.loc[train.label == 1, 'label'] = 0\r\n",
        "train.loc[train.label == -1, 'label'] = 1"
      ],
      "execution_count": 10,
      "outputs": []
    },
    {
      "cell_type": "code",
      "metadata": {
        "id": "hLmV8JOewvVh"
      },
      "source": [
        "train['date'] = pd.to_datetime(train['date'])"
      ],
      "execution_count": 11,
      "outputs": []
    },
    {
      "cell_type": "code",
      "metadata": {
        "id": "Qidekii2wxvh"
      },
      "source": [
        "train['day_of_week'] = train['date'].dt.day_name()"
      ],
      "execution_count": 12,
      "outputs": []
    },
    {
      "cell_type": "code",
      "metadata": {
        "colab": {
          "base_uri": "https://localhost:8080/"
        },
        "id": "jmiU7piOwzkI",
        "outputId": "7638e7df-0ced-4457-8ad5-8caebcb0b637"
      },
      "source": [
        "train.day_of_week.value_counts()[:10]"
      ],
      "execution_count": 13,
      "outputs": [
        {
          "output_type": "execute_result",
          "data": {
            "text/plain": [
              "Sunday       2568\n",
              "Monday       2557\n",
              "Tuesday      2391\n",
              "Thursday     2287\n",
              "Friday       2231\n",
              "Wednesday    2205\n",
              "Saturday     2131\n",
              "Name: day_of_week, dtype: int64"
            ]
          },
          "metadata": {
            "tags": []
          },
          "execution_count": 13
        }
      ]
    },
    {
      "cell_type": "code",
      "metadata": {
        "id": "1sLS-4KSw1fr"
      },
      "source": [
        "dofw = train.day_of_week.unique()"
      ],
      "execution_count": 14,
      "outputs": []
    },
    {
      "cell_type": "code",
      "metadata": {
        "colab": {
          "base_uri": "https://localhost:8080/"
        },
        "id": "mexLyaGZw4Q3",
        "outputId": "7c6238e7-80fd-4376-86be-794a17c431f1"
      },
      "source": [
        "for day in range(len(dofw)):\r\n",
        "        label=train['label'][train.day_of_week == dofw[day]]\r\n",
        "        fake=len(label[label==1])\r\n",
        "        real=len(label[label==0])\r\n",
        "        \r\n",
        "        print(\"***********Day is \",dofw[day])\r\n",
        "        print(\"fake is \",fake)\r\n",
        "        print(\"real is \",real)\r\n",
        "        print(\"tot is \",fake+real)\r\n",
        "        print(\"Ratio is \",100*(fake/(fake+real)))\r\n",
        "        print(\"len is \",len(label))"
      ],
      "execution_count": 15,
      "outputs": [
        {
          "output_type": "stream",
          "text": [
            "***********Day is  Thursday\n",
            "fake is  1425\n",
            "real is  862\n",
            "tot is  2287\n",
            "Ratio is  62.30870135548754\n",
            "len is  2287\n",
            "***********Day is  Sunday\n",
            "fake is  1439\n",
            "real is  1129\n",
            "tot is  2568\n",
            "Ratio is  56.035825545171335\n",
            "len is  2568\n",
            "***********Day is  Wednesday\n",
            "fake is  1338\n",
            "real is  867\n",
            "tot is  2205\n",
            "Ratio is  60.68027210884354\n",
            "len is  2205\n",
            "***********Day is  Tuesday\n",
            "fake is  1441\n",
            "real is  950\n",
            "tot is  2391\n",
            "Ratio is  60.2676704307821\n",
            "len is  2391\n",
            "***********Day is  Saturday\n",
            "fake is  1234\n",
            "real is  897\n",
            "tot is  2131\n",
            "Ratio is  57.90708587517598\n",
            "len is  2131\n",
            "***********Day is  Monday\n",
            "fake is  1502\n",
            "real is  1055\n",
            "tot is  2557\n",
            "Ratio is  58.74071177160736\n",
            "len is  2557\n",
            "***********Day is  Friday\n",
            "fake is  1390\n",
            "real is  841\n",
            "tot is  2231\n",
            "Ratio is  62.30389959659346\n",
            "len is  2231\n"
          ],
          "name": "stdout"
        }
      ]
    },
    {
      "cell_type": "code",
      "metadata": {
        "id": "XEsvFd0sxAQC"
      },
      "source": [
        "import string\r\n",
        "train['char_count'] = train['review'].apply(len)"
      ],
      "execution_count": 16,
      "outputs": []
    },
    {
      "cell_type": "code",
      "metadata": {
        "id": "AHNU5U2ay3VZ"
      },
      "source": [
        "train['word_count'] = train['review'].apply(lambda x: len(x.split()))"
      ],
      "execution_count": 17,
      "outputs": []
    },
    {
      "cell_type": "code",
      "metadata": {
        "id": "W4R_ZW5ry5z0"
      },
      "source": [
        "train['word_density'] = train['char_count'] / (train['word_count']+1)"
      ],
      "execution_count": 18,
      "outputs": []
    },
    {
      "cell_type": "code",
      "metadata": {
        "id": "N60jFMliy8ia"
      },
      "source": [
        "train['punctuation_count'] = train['review'].apply(lambda x: len(\"\".join(_ for _ in x if _ in string.punctuation)))"
      ],
      "execution_count": 19,
      "outputs": []
    },
    {
      "cell_type": "code",
      "metadata": {
        "id": "lt8mldQyzETZ"
      },
      "source": [
        "train['title_word_count'] = train['review'].apply(lambda x: len([wrd for wrd in x.split() if wrd.istitle()]))"
      ],
      "execution_count": 20,
      "outputs": []
    },
    {
      "cell_type": "code",
      "metadata": {
        "id": "aPRaStQKzHFh"
      },
      "source": [
        "train['upper_case_word_count'] = train['review'].apply(lambda x: len([wrd for wrd in x.split() if wrd.isupper()]))"
      ],
      "execution_count": 21,
      "outputs": []
    },
    {
      "cell_type": "code",
      "metadata": {
        "colab": {
          "base_uri": "https://localhost:8080/"
        },
        "id": "vp9NljYTzJrC",
        "outputId": "c3a0ac77-075d-4a53-d887-d762359ac78a"
      },
      "source": [
        "train['date'] = pd.to_datetime(train['date'])\r\n",
        "train['day_of_week'] = train['date'].dt.day_name()\r\n",
        "#train.day_of_week.value_counts()[:10]]\r\n",
        "dofw = train.day_of_week.unique()\r\n",
        "for day in range(len(dofw)):\r\n",
        "        label=train['label'][train.day_of_week == dofw[day]]\r\n",
        "        fake=len(label[label==1])\r\n",
        "        real=len(label[label==0])\r\n",
        "        \r\n",
        "        print(\"***********Day is \",dofw[day])\r\n",
        "        print(\"fake is \",fake)\r\n",
        "        print(\"real is \",real)\r\n",
        "        print(\"tot is \",fake+real)\r\n",
        "        print(\"len is \",len(label))"
      ],
      "execution_count": 22,
      "outputs": [
        {
          "output_type": "stream",
          "text": [
            "***********Day is  Thursday\n",
            "fake is  1425\n",
            "real is  862\n",
            "tot is  2287\n",
            "len is  2287\n",
            "***********Day is  Sunday\n",
            "fake is  1439\n",
            "real is  1129\n",
            "tot is  2568\n",
            "len is  2568\n",
            "***********Day is  Wednesday\n",
            "fake is  1338\n",
            "real is  867\n",
            "tot is  2205\n",
            "len is  2205\n",
            "***********Day is  Tuesday\n",
            "fake is  1441\n",
            "real is  950\n",
            "tot is  2391\n",
            "len is  2391\n",
            "***********Day is  Saturday\n",
            "fake is  1234\n",
            "real is  897\n",
            "tot is  2131\n",
            "len is  2131\n",
            "***********Day is  Monday\n",
            "fake is  1502\n",
            "real is  1055\n",
            "tot is  2557\n",
            "len is  2557\n",
            "***********Day is  Friday\n",
            "fake is  1390\n",
            "real is  841\n",
            "tot is  2231\n",
            "len is  2231\n"
          ],
          "name": "stdout"
        }
      ]
    },
    {
      "cell_type": "code",
      "metadata": {
        "id": "qf7CBUfYzMnu"
      },
      "source": [
        "train['user_id_no_of_review'] = train.groupby('user_id')['user_id'].transform('size')"
      ],
      "execution_count": 23,
      "outputs": []
    },
    {
      "cell_type": "code",
      "metadata": {
        "id": "fVf-jHF-zRMl"
      },
      "source": [
        "train['user_id_ave_rating'] = train.groupby('user_id')['rating'].transform('mean')"
      ],
      "execution_count": 24,
      "outputs": []
    },
    {
      "cell_type": "code",
      "metadata": {
        "id": "dw6MJg-XzS85"
      },
      "source": [
        "train['user_id_ave_no_words'] = train.groupby('user_id')['word_count'].transform('mean')\r\n",
        "train['user_id_max_review_a_day'] = train['user_id_no_of_review']\r\n",
        "grouped = train.groupby('user_id')"
      ],
      "execution_count": 25,
      "outputs": []
    },
    {
      "cell_type": "code",
      "metadata": {
        "id": "8X6kQ9-yzUjN"
      },
      "source": [
        "for name,group in grouped:\r\n",
        "    #print(name)\r\n",
        "    #print(group)\r\n",
        "    df2 = group.groupby('date').size().max()\r\n",
        "    #print(df2)\r\n",
        "    train.loc[train.user_id == name,'user_id_max_review_a_day'] = df2\r\n",
        "    #group['user_id_max_review_a_day']=df2"
      ],
      "execution_count": 26,
      "outputs": []
    },
    {
      "cell_type": "code",
      "metadata": {
        "id": "Vdtb85dWzXh7"
      },
      "source": [
        "train['prod_id_no_of_review'] = train.groupby('prod_id')['prod_id'].transform('size') + 1000.\r\n",
        "train['prod_id_ave_rating'] = train.groupby('prod_id')['rating'].transform('mean') + 1000.\r\n",
        "#train['prod_id_std_rating'] = train.groupby('prod_id')['rating'].transform('std') + 1000.\r\n",
        "train['prod_id_ave_no_words'] = train.groupby('prod_id')['word_count'].transform('mean') + 1000.\r\n",
        "train['prod_id_max_review_a_day'] = train['prod_id_no_of_review'] + 1000.\r\n",
        "grouped = train.groupby('prod_id')"
      ],
      "execution_count": 27,
      "outputs": []
    },
    {
      "cell_type": "code",
      "metadata": {
        "id": "g2HlhUpjztNk"
      },
      "source": [
        "train['total']=train.user_id.astype(str) + ' '+ train.prod_id.astype(str) + ' ' + train.rating.astype(str) + ' '+ \\\r\n",
        "train.user_id_no_of_review.astype(str) + ' ' + train.user_id_ave_rating.astype(str) + ' '+\\\r\n",
        "train.user_id_ave_no_words.astype(str) + ' ' + train.user_id_max_review_a_day.astype(str) + ' '+\\\r\n",
        "train.prod_id_no_of_review.astype(str) + ' ' + train.prod_id_ave_rating.astype(str) + ' '+\\\r\n",
        "train.prod_id_ave_no_words.astype(str) + ' ' + train.prod_id_max_review_a_day.astype(str) + ' '+\\\r\n",
        "train.day_of_week.astype(str) + ' '+train.review  "
      ],
      "execution_count": 28,
      "outputs": []
    },
    {
      "cell_type": "code",
      "metadata": {
        "colab": {
          "base_uri": "https://localhost:8080/"
        },
        "id": "h41y2CEVzvzL",
        "outputId": "0928f95b-463d-4b64-956f-f6c4d0dc3050"
      },
      "source": [
        "train.columns"
      ],
      "execution_count": 29,
      "outputs": [
        {
          "output_type": "execute_result",
          "data": {
            "text/plain": [
              "Index(['user_id', 'prod_id', 'rating', 'label', 'date', 'review', 'char_count',\n",
              "       'word_count', 'upper_case_word_count', 'word_density',\n",
              "       'punctuation_count', 'user_id_no_of_review', 'user_id_ave_rating',\n",
              "       'user_id_ave_no_words', 'user_id_max_review_a_day',\n",
              "       'prod_id_no_of_review', 'prod_id_ave_rating', 'prod_id_ave_no_words',\n",
              "       'prod_id_max_review_a_day', 'total', 'day_of_week', 'title_word_count'],\n",
              "      dtype='object')"
            ]
          },
          "metadata": {
            "tags": []
          },
          "execution_count": 29
        }
      ]
    },
    {
      "cell_type": "code",
      "metadata": {
        "id": "EXDYQSJfzziv"
      },
      "source": [
        "from sklearn.utils import shuffle\r\n",
        "train = shuffle(train, random_state=0)"
      ],
      "execution_count": 30,
      "outputs": []
    },
    {
      "cell_type": "code",
      "metadata": {
        "colab": {
          "base_uri": "https://localhost:8080/"
        },
        "id": "uCcWO5_Wz14c",
        "outputId": "b3b287b3-510e-41b0-d0be-0b751fff4a99"
      },
      "source": [
        "train.shape"
      ],
      "execution_count": 31,
      "outputs": [
        {
          "output_type": "execute_result",
          "data": {
            "text/plain": [
              "(16370, 22)"
            ]
          },
          "metadata": {
            "tags": []
          },
          "execution_count": 31
        }
      ]
    },
    {
      "cell_type": "code",
      "metadata": {
        "id": "1M_YR5Tqz50n"
      },
      "source": [
        "test = train[7001:12000]\r\n",
        "valid = train[12001:]\r\n",
        "train = train[:7000]"
      ],
      "execution_count": 32,
      "outputs": []
    },
    {
      "cell_type": "code",
      "metadata": {
        "id": "5NeKeN_Z0U4A"
      },
      "source": [
        "DATA_COLUMN = 'total'\r\n",
        "LABEL_COLUMN = 'label'\r\n",
        "# label_list is the list of labels, i.e. True, False or 0, 1 or 'dog', 'cat'\r\n",
        "label_list = [0, 1]"
      ],
      "execution_count": 33,
      "outputs": []
    },
    {
      "cell_type": "code",
      "metadata": {
        "id": "-kmNURxm0YE3"
      },
      "source": [
        "# Use the InputExample class from BERT's run_classifier code to create examples from the data\r\n",
        "train_InputExamples = train.apply(lambda x: bert.run_classifier.InputExample(guid=None, # Globally unique ID for bookkeeping, unused in this example\r\n",
        "                                                                   text_a = x[DATA_COLUMN], \r\n",
        "                                                                   text_b = None, \r\n",
        "                                                                   label = x[LABEL_COLUMN]), axis = 1)"
      ],
      "execution_count": 34,
      "outputs": []
    },
    {
      "cell_type": "code",
      "metadata": {
        "id": "VSpPGnY_0aHZ"
      },
      "source": [
        "valid_InputExamples = valid.apply(lambda x: bert.run_classifier.InputExample(guid=None, \r\n",
        "                                                                   text_a = x[DATA_COLUMN], \r\n",
        "                                                                   text_b = None, \r\n",
        "                                                                   label = x[LABEL_COLUMN]), axis = 1)\r\n",
        "\r\n",
        "test_InputExamples = test.apply(lambda x: bert.run_classifier.InputExample(guid=None, \r\n",
        "                                                                   text_a = x[DATA_COLUMN], \r\n",
        "                                                                   text_b = None, \r\n",
        "                                                                   label = x[LABEL_COLUMN]), axis = 1)"
      ],
      "execution_count": 35,
      "outputs": []
    },
    {
      "cell_type": "code",
      "metadata": {
        "colab": {
          "base_uri": "https://localhost:8080/"
        },
        "id": "ivTpRayG0cj5",
        "outputId": "bdf13c88-c93e-4cc8-cac3-9c2a387443e4"
      },
      "source": [
        "# This is a path to an uncased (all lowercase) version of BERT\r\n",
        "BERT_MODEL_HUB = \"https://tfhub.dev/google/bert_uncased_L-12_H-768_A-12/1\"\r\n",
        "\r\n",
        "def create_tokenizer_from_hub_module():\r\n",
        "  \"\"\"Get the vocab file and casing info from the Hub module.\"\"\"\r\n",
        "  with tf.Graph().as_default():\r\n",
        "    bert_module = hub.Module(BERT_MODEL_HUB)\r\n",
        "    tokenization_info = bert_module(signature=\"tokenization_info\", as_dict=True)\r\n",
        "    with tf.Session() as sess:\r\n",
        "      vocab_file, do_lower_case = sess.run([tokenization_info[\"vocab_file\"],\r\n",
        "                                            tokenization_info[\"do_lower_case\"]])\r\n",
        "      \r\n",
        "  return bert.tokenization.FullTokenizer(\r\n",
        "      vocab_file=vocab_file, do_lower_case=do_lower_case)\r\n",
        "\r\n",
        "tokenizer = create_tokenizer_from_hub_module()"
      ],
      "execution_count": 36,
      "outputs": [
        {
          "output_type": "stream",
          "text": [
            "INFO:tensorflow:Saver not created because there are no variables in the graph to restore\n"
          ],
          "name": "stdout"
        },
        {
          "output_type": "stream",
          "text": [
            "INFO:tensorflow:Saver not created because there are no variables in the graph to restore\n"
          ],
          "name": "stderr"
        },
        {
          "output_type": "stream",
          "text": [
            "WARNING:tensorflow:From /usr/local/lib/python3.7/dist-packages/bert/tokenization.py:125: The name tf.gfile.GFile is deprecated. Please use tf.io.gfile.GFile instead.\n",
            "\n"
          ],
          "name": "stdout"
        },
        {
          "output_type": "stream",
          "text": [
            "WARNING:tensorflow:From /usr/local/lib/python3.7/dist-packages/bert/tokenization.py:125: The name tf.gfile.GFile is deprecated. Please use tf.io.gfile.GFile instead.\n",
            "\n"
          ],
          "name": "stderr"
        }
      ]
    },
    {
      "cell_type": "code",
      "metadata": {
        "colab": {
          "base_uri": "https://localhost:8080/"
        },
        "id": "roWNRQWM0f_J",
        "outputId": "a6717717-cb6b-410c-b4df-1050d65ffb86"
      },
      "source": [
        "MAX_SEQ_LENGTH = 128\r\n",
        "# Convert our train and test features to InputFeatures that BERT understands.\r\n",
        "train_features = bert.run_classifier.convert_examples_to_features(train_InputExamples, label_list, MAX_SEQ_LENGTH, tokenizer)"
      ],
      "execution_count": 37,
      "outputs": [
        {
          "output_type": "stream",
          "text": [
            "WARNING:tensorflow:From /usr/local/lib/python3.7/dist-packages/bert/run_classifier.py:774: The name tf.logging.info is deprecated. Please use tf.compat.v1.logging.info instead.\n",
            "\n"
          ],
          "name": "stdout"
        },
        {
          "output_type": "stream",
          "text": [
            "WARNING:tensorflow:From /usr/local/lib/python3.7/dist-packages/bert/run_classifier.py:774: The name tf.logging.info is deprecated. Please use tf.compat.v1.logging.info instead.\n",
            "\n"
          ],
          "name": "stderr"
        },
        {
          "output_type": "stream",
          "text": [
            "INFO:tensorflow:Writing example 0 of 7000\n"
          ],
          "name": "stdout"
        },
        {
          "output_type": "stream",
          "text": [
            "INFO:tensorflow:Writing example 0 of 7000\n"
          ],
          "name": "stderr"
        },
        {
          "output_type": "stream",
          "text": [
            "INFO:tensorflow:*** Example ***\n"
          ],
          "name": "stdout"
        },
        {
          "output_type": "stream",
          "text": [
            "INFO:tensorflow:*** Example ***\n"
          ],
          "name": "stderr"
        },
        {
          "output_type": "stream",
          "text": [
            "INFO:tensorflow:guid: None\n"
          ],
          "name": "stdout"
        },
        {
          "output_type": "stream",
          "text": [
            "INFO:tensorflow:guid: None\n"
          ],
          "name": "stderr"
        },
        {
          "output_type": "stream",
          "text": [
            "INFO:tensorflow:tokens: [CLS] 87 ##16 ##2 43 ##9 4 1 4 . 0 74 . 0 1 109 ##4 . 0 100 ##3 . 93 ##6 ##17 ##0 ##21 ##27 ##66 109 ##9 . 45 ##7 ##44 ##6 ##80 ##85 ##10 ##7 209 ##4 . 0 sunday dear owner of soc ##o restaurant , please consider expanding to dc . i promise we ' ll welcome you with open arms ! the food was great , vibe is cool , and i swear the hi ##bis ##cus tea must have crack in it because i ordered 6 of them . i went for sunday br ##un ##ch while visiting ny and fell in love . i had the red velvet chicken and wa ##ffle plate , the sweet wings [SEP]\n"
          ],
          "name": "stdout"
        },
        {
          "output_type": "stream",
          "text": [
            "INFO:tensorflow:tokens: [CLS] 87 ##16 ##2 43 ##9 4 1 4 . 0 74 . 0 1 109 ##4 . 0 100 ##3 . 93 ##6 ##17 ##0 ##21 ##27 ##66 109 ##9 . 45 ##7 ##44 ##6 ##80 ##85 ##10 ##7 209 ##4 . 0 sunday dear owner of soc ##o restaurant , please consider expanding to dc . i promise we ' ll welcome you with open arms ! the food was great , vibe is cool , and i swear the hi ##bis ##cus tea must have crack in it because i ordered 6 of them . i went for sunday br ##un ##ch while visiting ny and fell in love . i had the red velvet chicken and wa ##ffle plate , the sweet wings [SEP]\n"
          ],
          "name": "stderr"
        },
        {
          "output_type": "stream",
          "text": [
            "INFO:tensorflow:input_ids: 101 6584 16048 2475 4724 2683 1018 1015 1018 1012 1014 6356 1012 1014 1015 11518 2549 1012 1014 2531 2509 1012 6109 2575 16576 2692 17465 22907 28756 11518 2683 1012 3429 2581 22932 2575 17914 27531 10790 2581 19348 2549 1012 1014 4465 6203 3954 1997 27084 2080 4825 1010 3531 5136 9186 2000 5887 1012 1045 4872 2057 1005 2222 6160 2017 2007 2330 2608 999 1996 2833 2001 2307 1010 21209 2003 4658 1010 1998 1045 8415 1996 7632 18477 7874 5572 2442 2031 8579 1999 2009 2138 1045 3641 1020 1997 2068 1012 1045 2253 2005 4465 7987 4609 2818 2096 5873 6396 1998 3062 1999 2293 1012 1045 2018 1996 2417 10966 7975 1998 11333 18142 5127 1010 1996 4086 4777 102\n"
          ],
          "name": "stdout"
        },
        {
          "output_type": "stream",
          "text": [
            "INFO:tensorflow:input_ids: 101 6584 16048 2475 4724 2683 1018 1015 1018 1012 1014 6356 1012 1014 1015 11518 2549 1012 1014 2531 2509 1012 6109 2575 16576 2692 17465 22907 28756 11518 2683 1012 3429 2581 22932 2575 17914 27531 10790 2581 19348 2549 1012 1014 4465 6203 3954 1997 27084 2080 4825 1010 3531 5136 9186 2000 5887 1012 1045 4872 2057 1005 2222 6160 2017 2007 2330 2608 999 1996 2833 2001 2307 1010 21209 2003 4658 1010 1998 1045 8415 1996 7632 18477 7874 5572 2442 2031 8579 1999 2009 2138 1045 3641 1020 1997 2068 1012 1045 2253 2005 4465 7987 4609 2818 2096 5873 6396 1998 3062 1999 2293 1012 1045 2018 1996 2417 10966 7975 1998 11333 18142 5127 1010 1996 4086 4777 102\n"
          ],
          "name": "stderr"
        },
        {
          "output_type": "stream",
          "text": [
            "INFO:tensorflow:input_mask: 1 1 1 1 1 1 1 1 1 1 1 1 1 1 1 1 1 1 1 1 1 1 1 1 1 1 1 1 1 1 1 1 1 1 1 1 1 1 1 1 1 1 1 1 1 1 1 1 1 1 1 1 1 1 1 1 1 1 1 1 1 1 1 1 1 1 1 1 1 1 1 1 1 1 1 1 1 1 1 1 1 1 1 1 1 1 1 1 1 1 1 1 1 1 1 1 1 1 1 1 1 1 1 1 1 1 1 1 1 1 1 1 1 1 1 1 1 1 1 1 1 1 1 1 1 1 1 1\n"
          ],
          "name": "stdout"
        },
        {
          "output_type": "stream",
          "text": [
            "INFO:tensorflow:input_mask: 1 1 1 1 1 1 1 1 1 1 1 1 1 1 1 1 1 1 1 1 1 1 1 1 1 1 1 1 1 1 1 1 1 1 1 1 1 1 1 1 1 1 1 1 1 1 1 1 1 1 1 1 1 1 1 1 1 1 1 1 1 1 1 1 1 1 1 1 1 1 1 1 1 1 1 1 1 1 1 1 1 1 1 1 1 1 1 1 1 1 1 1 1 1 1 1 1 1 1 1 1 1 1 1 1 1 1 1 1 1 1 1 1 1 1 1 1 1 1 1 1 1 1 1 1 1 1 1\n"
          ],
          "name": "stderr"
        },
        {
          "output_type": "stream",
          "text": [
            "INFO:tensorflow:segment_ids: 0 0 0 0 0 0 0 0 0 0 0 0 0 0 0 0 0 0 0 0 0 0 0 0 0 0 0 0 0 0 0 0 0 0 0 0 0 0 0 0 0 0 0 0 0 0 0 0 0 0 0 0 0 0 0 0 0 0 0 0 0 0 0 0 0 0 0 0 0 0 0 0 0 0 0 0 0 0 0 0 0 0 0 0 0 0 0 0 0 0 0 0 0 0 0 0 0 0 0 0 0 0 0 0 0 0 0 0 0 0 0 0 0 0 0 0 0 0 0 0 0 0 0 0 0 0 0 0\n"
          ],
          "name": "stdout"
        },
        {
          "output_type": "stream",
          "text": [
            "INFO:tensorflow:segment_ids: 0 0 0 0 0 0 0 0 0 0 0 0 0 0 0 0 0 0 0 0 0 0 0 0 0 0 0 0 0 0 0 0 0 0 0 0 0 0 0 0 0 0 0 0 0 0 0 0 0 0 0 0 0 0 0 0 0 0 0 0 0 0 0 0 0 0 0 0 0 0 0 0 0 0 0 0 0 0 0 0 0 0 0 0 0 0 0 0 0 0 0 0 0 0 0 0 0 0 0 0 0 0 0 0 0 0 0 0 0 0 0 0 0 0 0 0 0 0 0 0 0 0 0 0 0 0 0 0\n"
          ],
          "name": "stderr"
        },
        {
          "output_type": "stream",
          "text": [
            "INFO:tensorflow:label: 1 (id = 1)\n"
          ],
          "name": "stdout"
        },
        {
          "output_type": "stream",
          "text": [
            "INFO:tensorflow:label: 1 (id = 1)\n"
          ],
          "name": "stderr"
        },
        {
          "output_type": "stream",
          "text": [
            "INFO:tensorflow:*** Example ***\n"
          ],
          "name": "stdout"
        },
        {
          "output_type": "stream",
          "text": [
            "INFO:tensorflow:*** Example ***\n"
          ],
          "name": "stderr"
        },
        {
          "output_type": "stream",
          "text": [
            "INFO:tensorflow:guid: None\n"
          ],
          "name": "stdout"
        },
        {
          "output_type": "stream",
          "text": [
            "INFO:tensorflow:guid: None\n"
          ],
          "name": "stderr"
        },
        {
          "output_type": "stream",
          "text": [
            "INFO:tensorflow:tokens: [CLS] 405 ##6 36 ##3 5 2 4 . 5 51 . 5 1 307 ##5 . 0 100 ##3 . 99 ##0 ##36 ##14 ##45 ##7 ##8 ##32 111 ##4 . 980 ##24 ##0 ##9 ##6 ##38 ##55 ##5 407 ##5 . 0 wednesday i wandered in here for late breakfast on a saturday because i was in soho and hadn ' t eaten yet . i had the buck ##w ##hea ##t cr ##ep ##es with scrambled eggs , ham and gr ##uy ##ere . it was good and definitely hit the spot - but next time i would probably try something else . i hear the sunday br ##un ##ch is better and my friend rave ##s about their french onion soup so i [SEP]\n"
          ],
          "name": "stdout"
        },
        {
          "output_type": "stream",
          "text": [
            "INFO:tensorflow:tokens: [CLS] 405 ##6 36 ##3 5 2 4 . 5 51 . 5 1 307 ##5 . 0 100 ##3 . 99 ##0 ##36 ##14 ##45 ##7 ##8 ##32 111 ##4 . 980 ##24 ##0 ##9 ##6 ##38 ##55 ##5 407 ##5 . 0 wednesday i wandered in here for late breakfast on a saturday because i was in soho and hadn ' t eaten yet . i had the buck ##w ##hea ##t cr ##ep ##es with scrambled eggs , ham and gr ##uy ##ere . it was good and definitely hit the spot - but next time i would probably try something else . i hear the sunday br ##un ##ch is better and my friend rave ##s about their french onion soup so i [SEP]\n"
          ],
          "name": "stderr"
        },
        {
          "output_type": "stream",
          "text": [
            "INFO:tensorflow:input_ids: 101 23988 2575 4029 2509 1019 1016 1018 1012 1019 4868 1012 1019 1015 24559 2629 1012 1014 2531 2509 1012 5585 2692 21619 16932 19961 2581 2620 16703 11118 2549 1012 25195 18827 2692 2683 2575 22025 24087 2629 28941 2629 1012 1014 9317 1045 13289 1999 2182 2005 2397 6350 2006 1037 5095 2138 1045 2001 1999 23771 1998 2910 1005 1056 8828 2664 1012 1045 2018 1996 10131 2860 20192 2102 13675 13699 2229 2007 13501 6763 1010 10654 1998 24665 26230 7869 1012 2009 2001 2204 1998 5791 2718 1996 3962 1011 2021 2279 2051 1045 2052 2763 3046 2242 2842 1012 1045 2963 1996 4465 7987 4609 2818 2003 2488 1998 2026 2767 23289 2015 2055 2037 2413 20949 11350 2061 1045 102\n"
          ],
          "name": "stdout"
        },
        {
          "output_type": "stream",
          "text": [
            "INFO:tensorflow:input_ids: 101 23988 2575 4029 2509 1019 1016 1018 1012 1019 4868 1012 1019 1015 24559 2629 1012 1014 2531 2509 1012 5585 2692 21619 16932 19961 2581 2620 16703 11118 2549 1012 25195 18827 2692 2683 2575 22025 24087 2629 28941 2629 1012 1014 9317 1045 13289 1999 2182 2005 2397 6350 2006 1037 5095 2138 1045 2001 1999 23771 1998 2910 1005 1056 8828 2664 1012 1045 2018 1996 10131 2860 20192 2102 13675 13699 2229 2007 13501 6763 1010 10654 1998 24665 26230 7869 1012 2009 2001 2204 1998 5791 2718 1996 3962 1011 2021 2279 2051 1045 2052 2763 3046 2242 2842 1012 1045 2963 1996 4465 7987 4609 2818 2003 2488 1998 2026 2767 23289 2015 2055 2037 2413 20949 11350 2061 1045 102\n"
          ],
          "name": "stderr"
        },
        {
          "output_type": "stream",
          "text": [
            "INFO:tensorflow:input_mask: 1 1 1 1 1 1 1 1 1 1 1 1 1 1 1 1 1 1 1 1 1 1 1 1 1 1 1 1 1 1 1 1 1 1 1 1 1 1 1 1 1 1 1 1 1 1 1 1 1 1 1 1 1 1 1 1 1 1 1 1 1 1 1 1 1 1 1 1 1 1 1 1 1 1 1 1 1 1 1 1 1 1 1 1 1 1 1 1 1 1 1 1 1 1 1 1 1 1 1 1 1 1 1 1 1 1 1 1 1 1 1 1 1 1 1 1 1 1 1 1 1 1 1 1 1 1 1 1\n"
          ],
          "name": "stdout"
        },
        {
          "output_type": "stream",
          "text": [
            "INFO:tensorflow:input_mask: 1 1 1 1 1 1 1 1 1 1 1 1 1 1 1 1 1 1 1 1 1 1 1 1 1 1 1 1 1 1 1 1 1 1 1 1 1 1 1 1 1 1 1 1 1 1 1 1 1 1 1 1 1 1 1 1 1 1 1 1 1 1 1 1 1 1 1 1 1 1 1 1 1 1 1 1 1 1 1 1 1 1 1 1 1 1 1 1 1 1 1 1 1 1 1 1 1 1 1 1 1 1 1 1 1 1 1 1 1 1 1 1 1 1 1 1 1 1 1 1 1 1 1 1 1 1 1 1\n"
          ],
          "name": "stderr"
        },
        {
          "output_type": "stream",
          "text": [
            "INFO:tensorflow:segment_ids: 0 0 0 0 0 0 0 0 0 0 0 0 0 0 0 0 0 0 0 0 0 0 0 0 0 0 0 0 0 0 0 0 0 0 0 0 0 0 0 0 0 0 0 0 0 0 0 0 0 0 0 0 0 0 0 0 0 0 0 0 0 0 0 0 0 0 0 0 0 0 0 0 0 0 0 0 0 0 0 0 0 0 0 0 0 0 0 0 0 0 0 0 0 0 0 0 0 0 0 0 0 0 0 0 0 0 0 0 0 0 0 0 0 0 0 0 0 0 0 0 0 0 0 0 0 0 0 0\n"
          ],
          "name": "stdout"
        },
        {
          "output_type": "stream",
          "text": [
            "INFO:tensorflow:segment_ids: 0 0 0 0 0 0 0 0 0 0 0 0 0 0 0 0 0 0 0 0 0 0 0 0 0 0 0 0 0 0 0 0 0 0 0 0 0 0 0 0 0 0 0 0 0 0 0 0 0 0 0 0 0 0 0 0 0 0 0 0 0 0 0 0 0 0 0 0 0 0 0 0 0 0 0 0 0 0 0 0 0 0 0 0 0 0 0 0 0 0 0 0 0 0 0 0 0 0 0 0 0 0 0 0 0 0 0 0 0 0 0 0 0 0 0 0 0 0 0 0 0 0 0 0 0 0 0 0\n"
          ],
          "name": "stderr"
        },
        {
          "output_type": "stream",
          "text": [
            "INFO:tensorflow:label: 0 (id = 0)\n"
          ],
          "name": "stdout"
        },
        {
          "output_type": "stream",
          "text": [
            "INFO:tensorflow:label: 0 (id = 0)\n"
          ],
          "name": "stderr"
        },
        {
          "output_type": "stream",
          "text": [
            "INFO:tensorflow:*** Example ***\n"
          ],
          "name": "stdout"
        },
        {
          "output_type": "stream",
          "text": [
            "INFO:tensorflow:*** Example ***\n"
          ],
          "name": "stderr"
        },
        {
          "output_type": "stream",
          "text": [
            "INFO:tensorflow:guid: None\n"
          ],
          "name": "stdout"
        },
        {
          "output_type": "stream",
          "text": [
            "INFO:tensorflow:guid: None\n"
          ],
          "name": "stderr"
        },
        {
          "output_type": "stream",
          "text": [
            "INFO:tensorflow:tokens: [CLS] 73 ##46 ##6 351 5 1 5 . 0 29 . 0 1 151 ##9 . 0 100 ##3 . 93 ##25 ##6 ##26 ##20 ##42 ##39 110 ##2 . 93 ##8 ##34 ##29 ##6 ##7 ##24 ##48 251 ##9 . 0 monday rude service . cr ##ammed tables . med ##io ##cre food . no substitution ##s on the menu - - not even easy ones . furniture and table ##ware in bad condition . dirty bathroom - - yu ##ck ! not going back . [SEP]\n"
          ],
          "name": "stdout"
        },
        {
          "output_type": "stream",
          "text": [
            "INFO:tensorflow:tokens: [CLS] 73 ##46 ##6 351 5 1 5 . 0 29 . 0 1 151 ##9 . 0 100 ##3 . 93 ##25 ##6 ##26 ##20 ##42 ##39 110 ##2 . 93 ##8 ##34 ##29 ##6 ##7 ##24 ##48 251 ##9 . 0 monday rude service . cr ##ammed tables . med ##io ##cre food . no substitution ##s on the menu - - not even easy ones . furniture and table ##ware in bad condition . dirty bathroom - - yu ##ck ! not going back . [SEP]\n"
          ],
          "name": "stderr"
        },
        {
          "output_type": "stream",
          "text": [
            "INFO:tensorflow:input_ids: 101 6421 21472 2575 28474 1019 1015 1019 1012 1014 2756 1012 1014 1015 16528 2683 1012 1014 2531 2509 1012 6109 17788 2575 23833 11387 20958 23499 7287 2475 1012 6109 2620 22022 24594 2575 2581 18827 18139 22582 2683 1012 1014 6928 12726 2326 1012 13675 27479 7251 1012 19960 3695 16748 2833 1012 2053 20885 2015 2006 1996 12183 1011 1011 2025 2130 3733 3924 1012 7390 1998 2795 8059 1999 2919 4650 1012 6530 5723 1011 1011 9805 3600 999 2025 2183 2067 1012 102 0 0 0 0 0 0 0 0 0 0 0 0 0 0 0 0 0 0 0 0 0 0 0 0 0 0 0 0 0 0 0 0 0 0 0 0 0 0 0\n"
          ],
          "name": "stdout"
        },
        {
          "output_type": "stream",
          "text": [
            "INFO:tensorflow:input_ids: 101 6421 21472 2575 28474 1019 1015 1019 1012 1014 2756 1012 1014 1015 16528 2683 1012 1014 2531 2509 1012 6109 17788 2575 23833 11387 20958 23499 7287 2475 1012 6109 2620 22022 24594 2575 2581 18827 18139 22582 2683 1012 1014 6928 12726 2326 1012 13675 27479 7251 1012 19960 3695 16748 2833 1012 2053 20885 2015 2006 1996 12183 1011 1011 2025 2130 3733 3924 1012 7390 1998 2795 8059 1999 2919 4650 1012 6530 5723 1011 1011 9805 3600 999 2025 2183 2067 1012 102 0 0 0 0 0 0 0 0 0 0 0 0 0 0 0 0 0 0 0 0 0 0 0 0 0 0 0 0 0 0 0 0 0 0 0 0 0 0 0\n"
          ],
          "name": "stderr"
        },
        {
          "output_type": "stream",
          "text": [
            "INFO:tensorflow:input_mask: 1 1 1 1 1 1 1 1 1 1 1 1 1 1 1 1 1 1 1 1 1 1 1 1 1 1 1 1 1 1 1 1 1 1 1 1 1 1 1 1 1 1 1 1 1 1 1 1 1 1 1 1 1 1 1 1 1 1 1 1 1 1 1 1 1 1 1 1 1 1 1 1 1 1 1 1 1 1 1 1 1 1 1 1 1 1 1 1 1 0 0 0 0 0 0 0 0 0 0 0 0 0 0 0 0 0 0 0 0 0 0 0 0 0 0 0 0 0 0 0 0 0 0 0 0 0 0 0\n"
          ],
          "name": "stdout"
        },
        {
          "output_type": "stream",
          "text": [
            "INFO:tensorflow:input_mask: 1 1 1 1 1 1 1 1 1 1 1 1 1 1 1 1 1 1 1 1 1 1 1 1 1 1 1 1 1 1 1 1 1 1 1 1 1 1 1 1 1 1 1 1 1 1 1 1 1 1 1 1 1 1 1 1 1 1 1 1 1 1 1 1 1 1 1 1 1 1 1 1 1 1 1 1 1 1 1 1 1 1 1 1 1 1 1 1 1 0 0 0 0 0 0 0 0 0 0 0 0 0 0 0 0 0 0 0 0 0 0 0 0 0 0 0 0 0 0 0 0 0 0 0 0 0 0 0\n"
          ],
          "name": "stderr"
        },
        {
          "output_type": "stream",
          "text": [
            "INFO:tensorflow:segment_ids: 0 0 0 0 0 0 0 0 0 0 0 0 0 0 0 0 0 0 0 0 0 0 0 0 0 0 0 0 0 0 0 0 0 0 0 0 0 0 0 0 0 0 0 0 0 0 0 0 0 0 0 0 0 0 0 0 0 0 0 0 0 0 0 0 0 0 0 0 0 0 0 0 0 0 0 0 0 0 0 0 0 0 0 0 0 0 0 0 0 0 0 0 0 0 0 0 0 0 0 0 0 0 0 0 0 0 0 0 0 0 0 0 0 0 0 0 0 0 0 0 0 0 0 0 0 0 0 0\n"
          ],
          "name": "stdout"
        },
        {
          "output_type": "stream",
          "text": [
            "INFO:tensorflow:segment_ids: 0 0 0 0 0 0 0 0 0 0 0 0 0 0 0 0 0 0 0 0 0 0 0 0 0 0 0 0 0 0 0 0 0 0 0 0 0 0 0 0 0 0 0 0 0 0 0 0 0 0 0 0 0 0 0 0 0 0 0 0 0 0 0 0 0 0 0 0 0 0 0 0 0 0 0 0 0 0 0 0 0 0 0 0 0 0 0 0 0 0 0 0 0 0 0 0 0 0 0 0 0 0 0 0 0 0 0 0 0 0 0 0 0 0 0 0 0 0 0 0 0 0 0 0 0 0 0 0\n"
          ],
          "name": "stderr"
        },
        {
          "output_type": "stream",
          "text": [
            "INFO:tensorflow:label: 0 (id = 0)\n"
          ],
          "name": "stdout"
        },
        {
          "output_type": "stream",
          "text": [
            "INFO:tensorflow:label: 0 (id = 0)\n"
          ],
          "name": "stderr"
        },
        {
          "output_type": "stream",
          "text": [
            "INFO:tensorflow:*** Example ***\n"
          ],
          "name": "stdout"
        },
        {
          "output_type": "stream",
          "text": [
            "INFO:tensorflow:*** Example ***\n"
          ],
          "name": "stderr"
        },
        {
          "output_type": "stream",
          "text": [
            "INFO:tensorflow:guid: None\n"
          ],
          "name": "stdout"
        },
        {
          "output_type": "stream",
          "text": [
            "INFO:tensorflow:guid: None\n"
          ],
          "name": "stderr"
        },
        {
          "output_type": "stream",
          "text": [
            "INFO:tensorflow:tokens: [CLS] 124 ##8 ##1 356 1 1 1 . 0 28 . 0 1 111 ##4 . 0 100 ##3 . 93 ##85 ##9 ##64 ##9 ##12 ##28 110 ##1 . 71 ##9 ##29 ##8 ##24 ##56 ##14 211 ##4 . 0 sunday does all the simple things right . good vibe . reasonable prices . at ##ten ##tive staff . good music . i ' m too young to be a regular here but this is a quality joint . [SEP]\n"
          ],
          "name": "stdout"
        },
        {
          "output_type": "stream",
          "text": [
            "INFO:tensorflow:tokens: [CLS] 124 ##8 ##1 356 1 1 1 . 0 28 . 0 1 111 ##4 . 0 100 ##3 . 93 ##85 ##9 ##64 ##9 ##12 ##28 110 ##1 . 71 ##9 ##29 ##8 ##24 ##56 ##14 211 ##4 . 0 sunday does all the simple things right . good vibe . reasonable prices . at ##ten ##tive staff . good music . i ' m too young to be a regular here but this is a quality joint . [SEP]\n"
          ],
          "name": "stderr"
        },
        {
          "output_type": "stream",
          "text": [
            "INFO:tensorflow:input_ids: 101 13412 2620 2487 27509 1015 1015 1015 1012 1014 2654 1012 1014 1015 11118 2549 1012 1014 2531 2509 1012 6109 27531 2683 21084 2683 12521 22407 7287 2487 1012 6390 2683 24594 2620 18827 26976 16932 19235 2549 1012 1014 4465 2515 2035 1996 3722 2477 2157 1012 2204 21209 1012 9608 7597 1012 2012 6528 6024 3095 1012 2204 2189 1012 1045 1005 1049 2205 2402 2000 2022 1037 3180 2182 2021 2023 2003 1037 3737 4101 1012 102 0 0 0 0 0 0 0 0 0 0 0 0 0 0 0 0 0 0 0 0 0 0 0 0 0 0 0 0 0 0 0 0 0 0 0 0 0 0 0 0 0 0 0 0 0 0\n"
          ],
          "name": "stdout"
        },
        {
          "output_type": "stream",
          "text": [
            "INFO:tensorflow:input_ids: 101 13412 2620 2487 27509 1015 1015 1015 1012 1014 2654 1012 1014 1015 11118 2549 1012 1014 2531 2509 1012 6109 27531 2683 21084 2683 12521 22407 7287 2487 1012 6390 2683 24594 2620 18827 26976 16932 19235 2549 1012 1014 4465 2515 2035 1996 3722 2477 2157 1012 2204 21209 1012 9608 7597 1012 2012 6528 6024 3095 1012 2204 2189 1012 1045 1005 1049 2205 2402 2000 2022 1037 3180 2182 2021 2023 2003 1037 3737 4101 1012 102 0 0 0 0 0 0 0 0 0 0 0 0 0 0 0 0 0 0 0 0 0 0 0 0 0 0 0 0 0 0 0 0 0 0 0 0 0 0 0 0 0 0 0 0 0 0\n"
          ],
          "name": "stderr"
        },
        {
          "output_type": "stream",
          "text": [
            "INFO:tensorflow:input_mask: 1 1 1 1 1 1 1 1 1 1 1 1 1 1 1 1 1 1 1 1 1 1 1 1 1 1 1 1 1 1 1 1 1 1 1 1 1 1 1 1 1 1 1 1 1 1 1 1 1 1 1 1 1 1 1 1 1 1 1 1 1 1 1 1 1 1 1 1 1 1 1 1 1 1 1 1 1 1 1 1 1 1 0 0 0 0 0 0 0 0 0 0 0 0 0 0 0 0 0 0 0 0 0 0 0 0 0 0 0 0 0 0 0 0 0 0 0 0 0 0 0 0 0 0 0 0 0 0\n"
          ],
          "name": "stdout"
        },
        {
          "output_type": "stream",
          "text": [
            "INFO:tensorflow:input_mask: 1 1 1 1 1 1 1 1 1 1 1 1 1 1 1 1 1 1 1 1 1 1 1 1 1 1 1 1 1 1 1 1 1 1 1 1 1 1 1 1 1 1 1 1 1 1 1 1 1 1 1 1 1 1 1 1 1 1 1 1 1 1 1 1 1 1 1 1 1 1 1 1 1 1 1 1 1 1 1 1 1 1 0 0 0 0 0 0 0 0 0 0 0 0 0 0 0 0 0 0 0 0 0 0 0 0 0 0 0 0 0 0 0 0 0 0 0 0 0 0 0 0 0 0 0 0 0 0\n"
          ],
          "name": "stderr"
        },
        {
          "output_type": "stream",
          "text": [
            "INFO:tensorflow:segment_ids: 0 0 0 0 0 0 0 0 0 0 0 0 0 0 0 0 0 0 0 0 0 0 0 0 0 0 0 0 0 0 0 0 0 0 0 0 0 0 0 0 0 0 0 0 0 0 0 0 0 0 0 0 0 0 0 0 0 0 0 0 0 0 0 0 0 0 0 0 0 0 0 0 0 0 0 0 0 0 0 0 0 0 0 0 0 0 0 0 0 0 0 0 0 0 0 0 0 0 0 0 0 0 0 0 0 0 0 0 0 0 0 0 0 0 0 0 0 0 0 0 0 0 0 0 0 0 0 0\n"
          ],
          "name": "stdout"
        },
        {
          "output_type": "stream",
          "text": [
            "INFO:tensorflow:segment_ids: 0 0 0 0 0 0 0 0 0 0 0 0 0 0 0 0 0 0 0 0 0 0 0 0 0 0 0 0 0 0 0 0 0 0 0 0 0 0 0 0 0 0 0 0 0 0 0 0 0 0 0 0 0 0 0 0 0 0 0 0 0 0 0 0 0 0 0 0 0 0 0 0 0 0 0 0 0 0 0 0 0 0 0 0 0 0 0 0 0 0 0 0 0 0 0 0 0 0 0 0 0 0 0 0 0 0 0 0 0 0 0 0 0 0 0 0 0 0 0 0 0 0 0 0 0 0 0 0\n"
          ],
          "name": "stderr"
        },
        {
          "output_type": "stream",
          "text": [
            "INFO:tensorflow:label: 0 (id = 0)\n"
          ],
          "name": "stdout"
        },
        {
          "output_type": "stream",
          "text": [
            "INFO:tensorflow:label: 0 (id = 0)\n"
          ],
          "name": "stderr"
        },
        {
          "output_type": "stream",
          "text": [
            "INFO:tensorflow:*** Example ***\n"
          ],
          "name": "stdout"
        },
        {
          "output_type": "stream",
          "text": [
            "INFO:tensorflow:*** Example ***\n"
          ],
          "name": "stderr"
        },
        {
          "output_type": "stream",
          "text": [
            "INFO:tensorflow:guid: None\n"
          ],
          "name": "stdout"
        },
        {
          "output_type": "stream",
          "text": [
            "INFO:tensorflow:guid: None\n"
          ],
          "name": "stderr"
        },
        {
          "output_type": "stream",
          "text": [
            "INFO:tensorflow:tokens: [CLS] 83 ##41 ##4 41 ##4 3 1 3 . 0 76 . 0 1 119 ##4 . 0 100 ##3 . 75 ##7 ##7 ##31 ##9 ##58 ##7 ##6 ##29 108 ##5 . 350 ##51 ##54 ##6 ##39 ##17 ##4 219 ##4 . 0 wednesday i like the concept . the meat ##balls are good . i had the chicken meat ##balls with pest ##o sauce and a side of mas ##hed potatoes . it was on top of a delicious ar ##ug ##ula salad with vegetables . i also had an ice cream sand ##w ##hic ##h . the prices are fair . you can go in there and fill yourself up with really good food for under 15 bucks . if anyone is in [SEP]\n"
          ],
          "name": "stdout"
        },
        {
          "output_type": "stream",
          "text": [
            "INFO:tensorflow:tokens: [CLS] 83 ##41 ##4 41 ##4 3 1 3 . 0 76 . 0 1 119 ##4 . 0 100 ##3 . 75 ##7 ##7 ##31 ##9 ##58 ##7 ##6 ##29 108 ##5 . 350 ##51 ##54 ##6 ##39 ##17 ##4 219 ##4 . 0 wednesday i like the concept . the meat ##balls are good . i had the chicken meat ##balls with pest ##o sauce and a side of mas ##hed potatoes . it was on top of a delicious ar ##ug ##ula salad with vegetables . i also had an ice cream sand ##w ##hic ##h . the prices are fair . you can go in there and fill yourself up with really good food for under 15 bucks . if anyone is in [SEP]\n"
          ],
          "name": "stderr"
        },
        {
          "output_type": "stream",
          "text": [
            "INFO:tensorflow:input_ids: 101 6640 23632 2549 4601 2549 1017 1015 1017 1012 1014 6146 1012 1014 1015 13285 2549 1012 1014 2531 2509 1012 4293 2581 2581 21486 2683 27814 2581 2575 24594 10715 2629 1012 8698 22203 27009 2575 23499 16576 2549 20636 2549 1012 1014 9317 1045 2066 1996 4145 1012 1996 6240 18510 2024 2204 1012 1045 2018 1996 7975 6240 18510 2007 20739 2080 12901 1998 1037 2217 1997 16137 9072 14629 1012 2009 2001 2006 2327 1997 1037 12090 12098 15916 7068 16521 2007 11546 1012 1045 2036 2018 2019 3256 6949 5472 2860 16066 2232 1012 1996 7597 2024 4189 1012 2017 2064 2175 1999 2045 1998 6039 4426 2039 2007 2428 2204 2833 2005 2104 2321 14189 1012 2065 3087 2003 1999 102\n"
          ],
          "name": "stdout"
        },
        {
          "output_type": "stream",
          "text": [
            "INFO:tensorflow:input_ids: 101 6640 23632 2549 4601 2549 1017 1015 1017 1012 1014 6146 1012 1014 1015 13285 2549 1012 1014 2531 2509 1012 4293 2581 2581 21486 2683 27814 2581 2575 24594 10715 2629 1012 8698 22203 27009 2575 23499 16576 2549 20636 2549 1012 1014 9317 1045 2066 1996 4145 1012 1996 6240 18510 2024 2204 1012 1045 2018 1996 7975 6240 18510 2007 20739 2080 12901 1998 1037 2217 1997 16137 9072 14629 1012 2009 2001 2006 2327 1997 1037 12090 12098 15916 7068 16521 2007 11546 1012 1045 2036 2018 2019 3256 6949 5472 2860 16066 2232 1012 1996 7597 2024 4189 1012 2017 2064 2175 1999 2045 1998 6039 4426 2039 2007 2428 2204 2833 2005 2104 2321 14189 1012 2065 3087 2003 1999 102\n"
          ],
          "name": "stderr"
        },
        {
          "output_type": "stream",
          "text": [
            "INFO:tensorflow:input_mask: 1 1 1 1 1 1 1 1 1 1 1 1 1 1 1 1 1 1 1 1 1 1 1 1 1 1 1 1 1 1 1 1 1 1 1 1 1 1 1 1 1 1 1 1 1 1 1 1 1 1 1 1 1 1 1 1 1 1 1 1 1 1 1 1 1 1 1 1 1 1 1 1 1 1 1 1 1 1 1 1 1 1 1 1 1 1 1 1 1 1 1 1 1 1 1 1 1 1 1 1 1 1 1 1 1 1 1 1 1 1 1 1 1 1 1 1 1 1 1 1 1 1 1 1 1 1 1 1\n"
          ],
          "name": "stdout"
        },
        {
          "output_type": "stream",
          "text": [
            "INFO:tensorflow:input_mask: 1 1 1 1 1 1 1 1 1 1 1 1 1 1 1 1 1 1 1 1 1 1 1 1 1 1 1 1 1 1 1 1 1 1 1 1 1 1 1 1 1 1 1 1 1 1 1 1 1 1 1 1 1 1 1 1 1 1 1 1 1 1 1 1 1 1 1 1 1 1 1 1 1 1 1 1 1 1 1 1 1 1 1 1 1 1 1 1 1 1 1 1 1 1 1 1 1 1 1 1 1 1 1 1 1 1 1 1 1 1 1 1 1 1 1 1 1 1 1 1 1 1 1 1 1 1 1 1\n"
          ],
          "name": "stderr"
        },
        {
          "output_type": "stream",
          "text": [
            "INFO:tensorflow:segment_ids: 0 0 0 0 0 0 0 0 0 0 0 0 0 0 0 0 0 0 0 0 0 0 0 0 0 0 0 0 0 0 0 0 0 0 0 0 0 0 0 0 0 0 0 0 0 0 0 0 0 0 0 0 0 0 0 0 0 0 0 0 0 0 0 0 0 0 0 0 0 0 0 0 0 0 0 0 0 0 0 0 0 0 0 0 0 0 0 0 0 0 0 0 0 0 0 0 0 0 0 0 0 0 0 0 0 0 0 0 0 0 0 0 0 0 0 0 0 0 0 0 0 0 0 0 0 0 0 0\n"
          ],
          "name": "stdout"
        },
        {
          "output_type": "stream",
          "text": [
            "INFO:tensorflow:segment_ids: 0 0 0 0 0 0 0 0 0 0 0 0 0 0 0 0 0 0 0 0 0 0 0 0 0 0 0 0 0 0 0 0 0 0 0 0 0 0 0 0 0 0 0 0 0 0 0 0 0 0 0 0 0 0 0 0 0 0 0 0 0 0 0 0 0 0 0 0 0 0 0 0 0 0 0 0 0 0 0 0 0 0 0 0 0 0 0 0 0 0 0 0 0 0 0 0 0 0 0 0 0 0 0 0 0 0 0 0 0 0 0 0 0 0 0 0 0 0 0 0 0 0 0 0 0 0 0 0\n"
          ],
          "name": "stderr"
        },
        {
          "output_type": "stream",
          "text": [
            "INFO:tensorflow:label: 1 (id = 1)\n"
          ],
          "name": "stdout"
        },
        {
          "output_type": "stream",
          "text": [
            "INFO:tensorflow:label: 1 (id = 1)\n"
          ],
          "name": "stderr"
        }
      ]
    },
    {
      "cell_type": "code",
      "metadata": {
        "colab": {
          "base_uri": "https://localhost:8080/"
        },
        "id": "2gwXCnF20m5o",
        "outputId": "a87be885-d11f-44b0-d2c4-f894c54e8887"
      },
      "source": [
        "valid_features = bert.run_classifier.convert_examples_to_features(valid_InputExamples, label_list, MAX_SEQ_LENGTH, tokenizer)"
      ],
      "execution_count": 38,
      "outputs": [
        {
          "output_type": "stream",
          "text": [
            "INFO:tensorflow:Writing example 0 of 4369\n"
          ],
          "name": "stdout"
        },
        {
          "output_type": "stream",
          "text": [
            "INFO:tensorflow:Writing example 0 of 4369\n"
          ],
          "name": "stderr"
        },
        {
          "output_type": "stream",
          "text": [
            "INFO:tensorflow:*** Example ***\n"
          ],
          "name": "stdout"
        },
        {
          "output_type": "stream",
          "text": [
            "INFO:tensorflow:*** Example ***\n"
          ],
          "name": "stderr"
        },
        {
          "output_type": "stream",
          "text": [
            "INFO:tensorflow:guid: None\n"
          ],
          "name": "stdout"
        },
        {
          "output_type": "stream",
          "text": [
            "INFO:tensorflow:guid: None\n"
          ],
          "name": "stderr"
        },
        {
          "output_type": "stream",
          "text": [
            "INFO:tensorflow:tokens: [CLS] 41 ##6 ##2 250 5 3 5 . 0 152 . 0 2 113 ##8 . 0 100 ##4 . 333 ##33 ##33 ##33 ##33 ##34 110 ##9 . 43 ##47 ##8 ##26 ##0 ##86 ##9 ##57 213 ##8 . 0 tuesday we went here for our first year anniversary together . the first and only time i ' ve had french food was 13 years ago , while i was in france . this was the first time outside of a cr ##ois ##sant or two that i was eating french food in nyc . we ordered the roasted bee ##t salad and soft shell crab as app ##eti ##zers . i enjoyed the bee ##t salad but thought that the crab tasted more italian [SEP]\n"
          ],
          "name": "stdout"
        },
        {
          "output_type": "stream",
          "text": [
            "INFO:tensorflow:tokens: [CLS] 41 ##6 ##2 250 5 3 5 . 0 152 . 0 2 113 ##8 . 0 100 ##4 . 333 ##33 ##33 ##33 ##33 ##34 110 ##9 . 43 ##47 ##8 ##26 ##0 ##86 ##9 ##57 213 ##8 . 0 tuesday we went here for our first year anniversary together . the first and only time i ' ve had french food was 13 years ago , while i was in france . this was the first time outside of a cr ##ois ##sant or two that i was eating french food in nyc . we ordered the roasted bee ##t salad and soft shell crab as app ##eti ##zers . i enjoyed the bee ##t salad but thought that the crab tasted more italian [SEP]\n"
          ],
          "name": "stderr"
        },
        {
          "output_type": "stream",
          "text": [
            "INFO:tensorflow:input_ids: 101 4601 2575 2475 5539 1019 1017 1019 1012 1014 15017 1012 1014 1016 12104 2620 1012 1014 2531 2549 1012 21211 22394 22394 22394 22394 22022 7287 2683 1012 4724 22610 2620 23833 2692 20842 2683 28311 19883 2620 1012 1014 9857 2057 2253 2182 2005 2256 2034 2095 5315 2362 1012 1996 2034 1998 2069 2051 1045 1005 2310 2018 2413 2833 2001 2410 2086 3283 1010 2096 1045 2001 1999 2605 1012 2023 2001 1996 2034 2051 2648 1997 1037 13675 10054 22341 2030 2048 2008 1045 2001 5983 2413 2833 1999 16392 1012 2057 3641 1996 28115 10506 2102 16521 1998 3730 5806 18081 2004 10439 20624 16750 1012 1045 5632 1996 10506 2102 16521 2021 2245 2008 1996 18081 12595 2062 3059 102\n"
          ],
          "name": "stdout"
        },
        {
          "output_type": "stream",
          "text": [
            "INFO:tensorflow:input_ids: 101 4601 2575 2475 5539 1019 1017 1019 1012 1014 15017 1012 1014 1016 12104 2620 1012 1014 2531 2549 1012 21211 22394 22394 22394 22394 22022 7287 2683 1012 4724 22610 2620 23833 2692 20842 2683 28311 19883 2620 1012 1014 9857 2057 2253 2182 2005 2256 2034 2095 5315 2362 1012 1996 2034 1998 2069 2051 1045 1005 2310 2018 2413 2833 2001 2410 2086 3283 1010 2096 1045 2001 1999 2605 1012 2023 2001 1996 2034 2051 2648 1997 1037 13675 10054 22341 2030 2048 2008 1045 2001 5983 2413 2833 1999 16392 1012 2057 3641 1996 28115 10506 2102 16521 1998 3730 5806 18081 2004 10439 20624 16750 1012 1045 5632 1996 10506 2102 16521 2021 2245 2008 1996 18081 12595 2062 3059 102\n"
          ],
          "name": "stderr"
        },
        {
          "output_type": "stream",
          "text": [
            "INFO:tensorflow:input_mask: 1 1 1 1 1 1 1 1 1 1 1 1 1 1 1 1 1 1 1 1 1 1 1 1 1 1 1 1 1 1 1 1 1 1 1 1 1 1 1 1 1 1 1 1 1 1 1 1 1 1 1 1 1 1 1 1 1 1 1 1 1 1 1 1 1 1 1 1 1 1 1 1 1 1 1 1 1 1 1 1 1 1 1 1 1 1 1 1 1 1 1 1 1 1 1 1 1 1 1 1 1 1 1 1 1 1 1 1 1 1 1 1 1 1 1 1 1 1 1 1 1 1 1 1 1 1 1 1\n"
          ],
          "name": "stdout"
        },
        {
          "output_type": "stream",
          "text": [
            "INFO:tensorflow:input_mask: 1 1 1 1 1 1 1 1 1 1 1 1 1 1 1 1 1 1 1 1 1 1 1 1 1 1 1 1 1 1 1 1 1 1 1 1 1 1 1 1 1 1 1 1 1 1 1 1 1 1 1 1 1 1 1 1 1 1 1 1 1 1 1 1 1 1 1 1 1 1 1 1 1 1 1 1 1 1 1 1 1 1 1 1 1 1 1 1 1 1 1 1 1 1 1 1 1 1 1 1 1 1 1 1 1 1 1 1 1 1 1 1 1 1 1 1 1 1 1 1 1 1 1 1 1 1 1 1\n"
          ],
          "name": "stderr"
        },
        {
          "output_type": "stream",
          "text": [
            "INFO:tensorflow:segment_ids: 0 0 0 0 0 0 0 0 0 0 0 0 0 0 0 0 0 0 0 0 0 0 0 0 0 0 0 0 0 0 0 0 0 0 0 0 0 0 0 0 0 0 0 0 0 0 0 0 0 0 0 0 0 0 0 0 0 0 0 0 0 0 0 0 0 0 0 0 0 0 0 0 0 0 0 0 0 0 0 0 0 0 0 0 0 0 0 0 0 0 0 0 0 0 0 0 0 0 0 0 0 0 0 0 0 0 0 0 0 0 0 0 0 0 0 0 0 0 0 0 0 0 0 0 0 0 0 0\n"
          ],
          "name": "stdout"
        },
        {
          "output_type": "stream",
          "text": [
            "INFO:tensorflow:segment_ids: 0 0 0 0 0 0 0 0 0 0 0 0 0 0 0 0 0 0 0 0 0 0 0 0 0 0 0 0 0 0 0 0 0 0 0 0 0 0 0 0 0 0 0 0 0 0 0 0 0 0 0 0 0 0 0 0 0 0 0 0 0 0 0 0 0 0 0 0 0 0 0 0 0 0 0 0 0 0 0 0 0 0 0 0 0 0 0 0 0 0 0 0 0 0 0 0 0 0 0 0 0 0 0 0 0 0 0 0 0 0 0 0 0 0 0 0 0 0 0 0 0 0 0 0 0 0 0 0\n"
          ],
          "name": "stderr"
        },
        {
          "output_type": "stream",
          "text": [
            "INFO:tensorflow:label: 1 (id = 1)\n"
          ],
          "name": "stdout"
        },
        {
          "output_type": "stream",
          "text": [
            "INFO:tensorflow:label: 1 (id = 1)\n"
          ],
          "name": "stderr"
        },
        {
          "output_type": "stream",
          "text": [
            "INFO:tensorflow:*** Example ***\n"
          ],
          "name": "stdout"
        },
        {
          "output_type": "stream",
          "text": [
            "INFO:tensorflow:*** Example ***\n"
          ],
          "name": "stderr"
        },
        {
          "output_type": "stream",
          "text": [
            "INFO:tensorflow:guid: None\n"
          ],
          "name": "stdout"
        },
        {
          "output_type": "stream",
          "text": [
            "INFO:tensorflow:guid: None\n"
          ],
          "name": "stderr"
        },
        {
          "output_type": "stream",
          "text": [
            "INFO:tensorflow:tokens: [CLS] 56 ##48 ##0 43 ##9 5 2 5 . 0 209 . 0 2 109 ##4 . 0 100 ##3 . 93 ##6 ##17 ##0 ##21 ##27 ##66 109 ##9 . 45 ##7 ##44 ##6 ##80 ##85 ##10 ##7 209 ##4 . 0 wednesday by far one of my favorite spots my first choice for date nice would like if they honor ur open table reservation even tho ur running late the lobster shrimp & grit ##s om ##g . . . . . . . . . . . . . . the red velvet wa ##ffle ##s with butter ##mi ##lk fried chicken - heaven - & the mac and cheese - yes ##ss ##ss ##ss ##s god jam ##bala ##ya hmm ##mm ##m [SEP]\n"
          ],
          "name": "stdout"
        },
        {
          "output_type": "stream",
          "text": [
            "INFO:tensorflow:tokens: [CLS] 56 ##48 ##0 43 ##9 5 2 5 . 0 209 . 0 2 109 ##4 . 0 100 ##3 . 93 ##6 ##17 ##0 ##21 ##27 ##66 109 ##9 . 45 ##7 ##44 ##6 ##80 ##85 ##10 ##7 209 ##4 . 0 wednesday by far one of my favorite spots my first choice for date nice would like if they honor ur open table reservation even tho ur running late the lobster shrimp & grit ##s om ##g . . . . . . . . . . . . . . the red velvet wa ##ffle ##s with butter ##mi ##lk fried chicken - heaven - & the mac and cheese - yes ##ss ##ss ##ss ##s god jam ##bala ##ya hmm ##mm ##m [SEP]\n"
          ],
          "name": "stderr"
        },
        {
          "output_type": "stream",
          "text": [
            "INFO:tensorflow:input_ids: 101 5179 18139 2692 4724 2683 1019 1016 1019 1012 1014 19348 1012 1014 1016 11518 2549 1012 1014 2531 2509 1012 6109 2575 16576 2692 17465 22907 28756 11518 2683 1012 3429 2581 22932 2575 17914 27531 10790 2581 19348 2549 1012 1014 9317 2011 2521 2028 1997 2026 5440 7516 2026 2034 3601 2005 3058 3835 2052 2066 2065 2027 3932 24471 2330 2795 11079 2130 27793 24471 2770 2397 1996 27940 20130 1004 24842 2015 18168 2290 1012 1012 1012 1012 1012 1012 1012 1012 1012 1012 1012 1012 1012 1012 1996 2417 10966 11333 18142 2015 2007 12136 4328 13687 13017 7975 1011 6014 1011 1004 1996 6097 1998 8808 1011 2748 4757 4757 4757 2015 2643 9389 25060 3148 17012 7382 2213 102\n"
          ],
          "name": "stdout"
        },
        {
          "output_type": "stream",
          "text": [
            "INFO:tensorflow:input_ids: 101 5179 18139 2692 4724 2683 1019 1016 1019 1012 1014 19348 1012 1014 1016 11518 2549 1012 1014 2531 2509 1012 6109 2575 16576 2692 17465 22907 28756 11518 2683 1012 3429 2581 22932 2575 17914 27531 10790 2581 19348 2549 1012 1014 9317 2011 2521 2028 1997 2026 5440 7516 2026 2034 3601 2005 3058 3835 2052 2066 2065 2027 3932 24471 2330 2795 11079 2130 27793 24471 2770 2397 1996 27940 20130 1004 24842 2015 18168 2290 1012 1012 1012 1012 1012 1012 1012 1012 1012 1012 1012 1012 1012 1012 1996 2417 10966 11333 18142 2015 2007 12136 4328 13687 13017 7975 1011 6014 1011 1004 1996 6097 1998 8808 1011 2748 4757 4757 4757 2015 2643 9389 25060 3148 17012 7382 2213 102\n"
          ],
          "name": "stderr"
        },
        {
          "output_type": "stream",
          "text": [
            "INFO:tensorflow:input_mask: 1 1 1 1 1 1 1 1 1 1 1 1 1 1 1 1 1 1 1 1 1 1 1 1 1 1 1 1 1 1 1 1 1 1 1 1 1 1 1 1 1 1 1 1 1 1 1 1 1 1 1 1 1 1 1 1 1 1 1 1 1 1 1 1 1 1 1 1 1 1 1 1 1 1 1 1 1 1 1 1 1 1 1 1 1 1 1 1 1 1 1 1 1 1 1 1 1 1 1 1 1 1 1 1 1 1 1 1 1 1 1 1 1 1 1 1 1 1 1 1 1 1 1 1 1 1 1 1\n"
          ],
          "name": "stdout"
        },
        {
          "output_type": "stream",
          "text": [
            "INFO:tensorflow:input_mask: 1 1 1 1 1 1 1 1 1 1 1 1 1 1 1 1 1 1 1 1 1 1 1 1 1 1 1 1 1 1 1 1 1 1 1 1 1 1 1 1 1 1 1 1 1 1 1 1 1 1 1 1 1 1 1 1 1 1 1 1 1 1 1 1 1 1 1 1 1 1 1 1 1 1 1 1 1 1 1 1 1 1 1 1 1 1 1 1 1 1 1 1 1 1 1 1 1 1 1 1 1 1 1 1 1 1 1 1 1 1 1 1 1 1 1 1 1 1 1 1 1 1 1 1 1 1 1 1\n"
          ],
          "name": "stderr"
        },
        {
          "output_type": "stream",
          "text": [
            "INFO:tensorflow:segment_ids: 0 0 0 0 0 0 0 0 0 0 0 0 0 0 0 0 0 0 0 0 0 0 0 0 0 0 0 0 0 0 0 0 0 0 0 0 0 0 0 0 0 0 0 0 0 0 0 0 0 0 0 0 0 0 0 0 0 0 0 0 0 0 0 0 0 0 0 0 0 0 0 0 0 0 0 0 0 0 0 0 0 0 0 0 0 0 0 0 0 0 0 0 0 0 0 0 0 0 0 0 0 0 0 0 0 0 0 0 0 0 0 0 0 0 0 0 0 0 0 0 0 0 0 0 0 0 0 0\n"
          ],
          "name": "stdout"
        },
        {
          "output_type": "stream",
          "text": [
            "INFO:tensorflow:segment_ids: 0 0 0 0 0 0 0 0 0 0 0 0 0 0 0 0 0 0 0 0 0 0 0 0 0 0 0 0 0 0 0 0 0 0 0 0 0 0 0 0 0 0 0 0 0 0 0 0 0 0 0 0 0 0 0 0 0 0 0 0 0 0 0 0 0 0 0 0 0 0 0 0 0 0 0 0 0 0 0 0 0 0 0 0 0 0 0 0 0 0 0 0 0 0 0 0 0 0 0 0 0 0 0 0 0 0 0 0 0 0 0 0 0 0 0 0 0 0 0 0 0 0 0 0 0 0 0 0\n"
          ],
          "name": "stderr"
        },
        {
          "output_type": "stream",
          "text": [
            "INFO:tensorflow:label: 1 (id = 1)\n"
          ],
          "name": "stdout"
        },
        {
          "output_type": "stream",
          "text": [
            "INFO:tensorflow:label: 1 (id = 1)\n"
          ],
          "name": "stderr"
        },
        {
          "output_type": "stream",
          "text": [
            "INFO:tensorflow:*** Example ***\n"
          ],
          "name": "stdout"
        },
        {
          "output_type": "stream",
          "text": [
            "INFO:tensorflow:*** Example ***\n"
          ],
          "name": "stderr"
        },
        {
          "output_type": "stream",
          "text": [
            "INFO:tensorflow:guid: None\n"
          ],
          "name": "stdout"
        },
        {
          "output_type": "stream",
          "text": [
            "INFO:tensorflow:guid: None\n"
          ],
          "name": "stderr"
        },
        {
          "output_type": "stream",
          "text": [
            "INFO:tensorflow:tokens: [CLS] 70 ##53 ##7 330 5 1 5 . 0 112 . 0 1 102 ##6 . 0 100 ##3 . 38 ##46 ##15 ##38 ##46 ##15 ##4 111 ##4 . 80 ##7 ##6 ##9 ##23 ##0 ##7 ##6 ##9 ##24 202 ##6 . 0 saturday cafe ##cit ##o is a wonderful restaurant , great bar with excellent drinks , and a perfect place for me to un ##wind after a long day at work or to begin my night on the weekend . the food quality is excellent , the mo ##jit ##os to die for , and the management is incredibly friendly and professional . i love the steak sandwich with delicious plant ##ain chips made in house accompanied by a fresh garlic mo ##jit [SEP]\n"
          ],
          "name": "stdout"
        },
        {
          "output_type": "stream",
          "text": [
            "INFO:tensorflow:tokens: [CLS] 70 ##53 ##7 330 5 1 5 . 0 112 . 0 1 102 ##6 . 0 100 ##3 . 38 ##46 ##15 ##38 ##46 ##15 ##4 111 ##4 . 80 ##7 ##6 ##9 ##23 ##0 ##7 ##6 ##9 ##24 202 ##6 . 0 saturday cafe ##cit ##o is a wonderful restaurant , great bar with excellent drinks , and a perfect place for me to un ##wind after a long day at work or to begin my night on the weekend . the food quality is excellent , the mo ##jit ##os to die for , and the management is incredibly friendly and professional . i love the steak sandwich with delicious plant ##ain chips made in house accompanied by a fresh garlic mo ##jit [SEP]\n"
          ],
          "name": "stderr"
        },
        {
          "output_type": "stream",
          "text": [
            "INFO:tensorflow:input_ids: 101 3963 22275 2581 14210 1019 1015 1019 1012 1014 11176 1012 1014 1015 9402 2575 1012 1014 2531 2509 1012 4229 21472 16068 22025 21472 16068 2549 11118 2549 1012 3770 2581 2575 2683 21926 2692 2581 2575 2683 18827 16798 2575 1012 1014 5095 7668 26243 2080 2003 1037 6919 4825 1010 2307 3347 2007 6581 8974 1010 1998 1037 3819 2173 2005 2033 2000 4895 11101 2044 1037 2146 2154 2012 2147 2030 2000 4088 2026 2305 2006 1996 5353 1012 1996 2833 3737 2003 6581 1010 1996 9587 18902 2891 2000 3280 2005 1010 1998 1996 2968 2003 11757 5379 1998 2658 1012 1045 2293 1996 21475 11642 2007 12090 3269 8113 11772 2081 1999 2160 5642 2011 1037 4840 20548 9587 18902 102\n"
          ],
          "name": "stdout"
        },
        {
          "output_type": "stream",
          "text": [
            "INFO:tensorflow:input_ids: 101 3963 22275 2581 14210 1019 1015 1019 1012 1014 11176 1012 1014 1015 9402 2575 1012 1014 2531 2509 1012 4229 21472 16068 22025 21472 16068 2549 11118 2549 1012 3770 2581 2575 2683 21926 2692 2581 2575 2683 18827 16798 2575 1012 1014 5095 7668 26243 2080 2003 1037 6919 4825 1010 2307 3347 2007 6581 8974 1010 1998 1037 3819 2173 2005 2033 2000 4895 11101 2044 1037 2146 2154 2012 2147 2030 2000 4088 2026 2305 2006 1996 5353 1012 1996 2833 3737 2003 6581 1010 1996 9587 18902 2891 2000 3280 2005 1010 1998 1996 2968 2003 11757 5379 1998 2658 1012 1045 2293 1996 21475 11642 2007 12090 3269 8113 11772 2081 1999 2160 5642 2011 1037 4840 20548 9587 18902 102\n"
          ],
          "name": "stderr"
        },
        {
          "output_type": "stream",
          "text": [
            "INFO:tensorflow:input_mask: 1 1 1 1 1 1 1 1 1 1 1 1 1 1 1 1 1 1 1 1 1 1 1 1 1 1 1 1 1 1 1 1 1 1 1 1 1 1 1 1 1 1 1 1 1 1 1 1 1 1 1 1 1 1 1 1 1 1 1 1 1 1 1 1 1 1 1 1 1 1 1 1 1 1 1 1 1 1 1 1 1 1 1 1 1 1 1 1 1 1 1 1 1 1 1 1 1 1 1 1 1 1 1 1 1 1 1 1 1 1 1 1 1 1 1 1 1 1 1 1 1 1 1 1 1 1 1 1\n"
          ],
          "name": "stdout"
        },
        {
          "output_type": "stream",
          "text": [
            "INFO:tensorflow:input_mask: 1 1 1 1 1 1 1 1 1 1 1 1 1 1 1 1 1 1 1 1 1 1 1 1 1 1 1 1 1 1 1 1 1 1 1 1 1 1 1 1 1 1 1 1 1 1 1 1 1 1 1 1 1 1 1 1 1 1 1 1 1 1 1 1 1 1 1 1 1 1 1 1 1 1 1 1 1 1 1 1 1 1 1 1 1 1 1 1 1 1 1 1 1 1 1 1 1 1 1 1 1 1 1 1 1 1 1 1 1 1 1 1 1 1 1 1 1 1 1 1 1 1 1 1 1 1 1 1\n"
          ],
          "name": "stderr"
        },
        {
          "output_type": "stream",
          "text": [
            "INFO:tensorflow:segment_ids: 0 0 0 0 0 0 0 0 0 0 0 0 0 0 0 0 0 0 0 0 0 0 0 0 0 0 0 0 0 0 0 0 0 0 0 0 0 0 0 0 0 0 0 0 0 0 0 0 0 0 0 0 0 0 0 0 0 0 0 0 0 0 0 0 0 0 0 0 0 0 0 0 0 0 0 0 0 0 0 0 0 0 0 0 0 0 0 0 0 0 0 0 0 0 0 0 0 0 0 0 0 0 0 0 0 0 0 0 0 0 0 0 0 0 0 0 0 0 0 0 0 0 0 0 0 0 0 0\n"
          ],
          "name": "stdout"
        },
        {
          "output_type": "stream",
          "text": [
            "INFO:tensorflow:segment_ids: 0 0 0 0 0 0 0 0 0 0 0 0 0 0 0 0 0 0 0 0 0 0 0 0 0 0 0 0 0 0 0 0 0 0 0 0 0 0 0 0 0 0 0 0 0 0 0 0 0 0 0 0 0 0 0 0 0 0 0 0 0 0 0 0 0 0 0 0 0 0 0 0 0 0 0 0 0 0 0 0 0 0 0 0 0 0 0 0 0 0 0 0 0 0 0 0 0 0 0 0 0 0 0 0 0 0 0 0 0 0 0 0 0 0 0 0 0 0 0 0 0 0 0 0 0 0 0 0\n"
          ],
          "name": "stderr"
        },
        {
          "output_type": "stream",
          "text": [
            "INFO:tensorflow:label: 1 (id = 1)\n"
          ],
          "name": "stdout"
        },
        {
          "output_type": "stream",
          "text": [
            "INFO:tensorflow:label: 1 (id = 1)\n"
          ],
          "name": "stderr"
        },
        {
          "output_type": "stream",
          "text": [
            "INFO:tensorflow:*** Example ***\n"
          ],
          "name": "stdout"
        },
        {
          "output_type": "stream",
          "text": [
            "INFO:tensorflow:*** Example ***\n"
          ],
          "name": "stderr"
        },
        {
          "output_type": "stream",
          "text": [
            "INFO:tensorflow:guid: None\n"
          ],
          "name": "stdout"
        },
        {
          "output_type": "stream",
          "text": [
            "INFO:tensorflow:guid: None\n"
          ],
          "name": "stderr"
        },
        {
          "output_type": "stream",
          "text": [
            "INFO:tensorflow:tokens: [CLS] 76 ##10 ##5 36 ##3 5 1 5 . 0 149 . 0 1 307 ##5 . 0 100 ##3 . 99 ##0 ##36 ##14 ##45 ##7 ##8 ##32 111 ##4 . 980 ##24 ##0 ##9 ##6 ##38 ##55 ##5 407 ##5 . 0 thursday i have one tradition when i visit new york - i go to soho and have lunch at balthazar . it started in the 90 ' s when the art scene was still happening , before the galleries closed their doors and migrated to chelsea . at the time it was considered the ultimate hot spot , with lots of celebrities and no way to get a reservation . i went once and was lucky enough to sit in the bar [SEP]\n"
          ],
          "name": "stdout"
        },
        {
          "output_type": "stream",
          "text": [
            "INFO:tensorflow:tokens: [CLS] 76 ##10 ##5 36 ##3 5 1 5 . 0 149 . 0 1 307 ##5 . 0 100 ##3 . 99 ##0 ##36 ##14 ##45 ##7 ##8 ##32 111 ##4 . 980 ##24 ##0 ##9 ##6 ##38 ##55 ##5 407 ##5 . 0 thursday i have one tradition when i visit new york - i go to soho and have lunch at balthazar . it started in the 90 ' s when the art scene was still happening , before the galleries closed their doors and migrated to chelsea . at the time it was considered the ultimate hot spot , with lots of celebrities and no way to get a reservation . i went once and was lucky enough to sit in the bar [SEP]\n"
          ],
          "name": "stderr"
        },
        {
          "output_type": "stream",
          "text": [
            "INFO:tensorflow:input_ids: 101 6146 10790 2629 4029 2509 1019 1015 1019 1012 1014 17332 1012 1014 1015 24559 2629 1012 1014 2531 2509 1012 5585 2692 21619 16932 19961 2581 2620 16703 11118 2549 1012 25195 18827 2692 2683 2575 22025 24087 2629 28941 2629 1012 1014 9432 1045 2031 2028 4535 2043 1045 3942 2047 2259 1011 1045 2175 2000 23771 1998 2031 6265 2012 25021 1012 2009 2318 1999 1996 3938 1005 1055 2043 1996 2396 3496 2001 2145 6230 1010 2077 1996 11726 2701 2037 4303 1998 13447 2000 9295 1012 2012 1996 2051 2009 2001 2641 1996 7209 2980 3962 1010 2007 7167 1997 12330 1998 2053 2126 2000 2131 1037 11079 1012 1045 2253 2320 1998 2001 5341 2438 2000 4133 1999 1996 3347 102\n"
          ],
          "name": "stdout"
        },
        {
          "output_type": "stream",
          "text": [
            "INFO:tensorflow:input_ids: 101 6146 10790 2629 4029 2509 1019 1015 1019 1012 1014 17332 1012 1014 1015 24559 2629 1012 1014 2531 2509 1012 5585 2692 21619 16932 19961 2581 2620 16703 11118 2549 1012 25195 18827 2692 2683 2575 22025 24087 2629 28941 2629 1012 1014 9432 1045 2031 2028 4535 2043 1045 3942 2047 2259 1011 1045 2175 2000 23771 1998 2031 6265 2012 25021 1012 2009 2318 1999 1996 3938 1005 1055 2043 1996 2396 3496 2001 2145 6230 1010 2077 1996 11726 2701 2037 4303 1998 13447 2000 9295 1012 2012 1996 2051 2009 2001 2641 1996 7209 2980 3962 1010 2007 7167 1997 12330 1998 2053 2126 2000 2131 1037 11079 1012 1045 2253 2320 1998 2001 5341 2438 2000 4133 1999 1996 3347 102\n"
          ],
          "name": "stderr"
        },
        {
          "output_type": "stream",
          "text": [
            "INFO:tensorflow:input_mask: 1 1 1 1 1 1 1 1 1 1 1 1 1 1 1 1 1 1 1 1 1 1 1 1 1 1 1 1 1 1 1 1 1 1 1 1 1 1 1 1 1 1 1 1 1 1 1 1 1 1 1 1 1 1 1 1 1 1 1 1 1 1 1 1 1 1 1 1 1 1 1 1 1 1 1 1 1 1 1 1 1 1 1 1 1 1 1 1 1 1 1 1 1 1 1 1 1 1 1 1 1 1 1 1 1 1 1 1 1 1 1 1 1 1 1 1 1 1 1 1 1 1 1 1 1 1 1 1\n"
          ],
          "name": "stdout"
        },
        {
          "output_type": "stream",
          "text": [
            "INFO:tensorflow:input_mask: 1 1 1 1 1 1 1 1 1 1 1 1 1 1 1 1 1 1 1 1 1 1 1 1 1 1 1 1 1 1 1 1 1 1 1 1 1 1 1 1 1 1 1 1 1 1 1 1 1 1 1 1 1 1 1 1 1 1 1 1 1 1 1 1 1 1 1 1 1 1 1 1 1 1 1 1 1 1 1 1 1 1 1 1 1 1 1 1 1 1 1 1 1 1 1 1 1 1 1 1 1 1 1 1 1 1 1 1 1 1 1 1 1 1 1 1 1 1 1 1 1 1 1 1 1 1 1 1\n"
          ],
          "name": "stderr"
        },
        {
          "output_type": "stream",
          "text": [
            "INFO:tensorflow:segment_ids: 0 0 0 0 0 0 0 0 0 0 0 0 0 0 0 0 0 0 0 0 0 0 0 0 0 0 0 0 0 0 0 0 0 0 0 0 0 0 0 0 0 0 0 0 0 0 0 0 0 0 0 0 0 0 0 0 0 0 0 0 0 0 0 0 0 0 0 0 0 0 0 0 0 0 0 0 0 0 0 0 0 0 0 0 0 0 0 0 0 0 0 0 0 0 0 0 0 0 0 0 0 0 0 0 0 0 0 0 0 0 0 0 0 0 0 0 0 0 0 0 0 0 0 0 0 0 0 0\n"
          ],
          "name": "stdout"
        },
        {
          "output_type": "stream",
          "text": [
            "INFO:tensorflow:segment_ids: 0 0 0 0 0 0 0 0 0 0 0 0 0 0 0 0 0 0 0 0 0 0 0 0 0 0 0 0 0 0 0 0 0 0 0 0 0 0 0 0 0 0 0 0 0 0 0 0 0 0 0 0 0 0 0 0 0 0 0 0 0 0 0 0 0 0 0 0 0 0 0 0 0 0 0 0 0 0 0 0 0 0 0 0 0 0 0 0 0 0 0 0 0 0 0 0 0 0 0 0 0 0 0 0 0 0 0 0 0 0 0 0 0 0 0 0 0 0 0 0 0 0 0 0 0 0 0 0\n"
          ],
          "name": "stderr"
        },
        {
          "output_type": "stream",
          "text": [
            "INFO:tensorflow:label: 0 (id = 0)\n"
          ],
          "name": "stdout"
        },
        {
          "output_type": "stream",
          "text": [
            "INFO:tensorflow:label: 0 (id = 0)\n"
          ],
          "name": "stderr"
        },
        {
          "output_type": "stream",
          "text": [
            "INFO:tensorflow:*** Example ***\n"
          ],
          "name": "stdout"
        },
        {
          "output_type": "stream",
          "text": [
            "INFO:tensorflow:*** Example ***\n"
          ],
          "name": "stderr"
        },
        {
          "output_type": "stream",
          "text": [
            "INFO:tensorflow:guid: None\n"
          ],
          "name": "stdout"
        },
        {
          "output_type": "stream",
          "text": [
            "INFO:tensorflow:guid: None\n"
          ],
          "name": "stderr"
        },
        {
          "output_type": "stream",
          "text": [
            "INFO:tensorflow:tokens: [CLS] 118 ##55 ##8 278 4 1 4 . 0 42 . 0 1 105 ##3 . 0 100 ##3 . 77 ##35 ##8 ##49 ##0 ##56 ##60 ##4 109 ##7 . 47 ##16 ##9 ##8 ##11 ##32 ##0 ##7 ##6 205 ##3 . 0 tuesday this place was very ta ##sty ! the fish ta ##co and em ##pan ##ada ##s were delicious but the pork ta ##co was just so - so . i had the margarita - sang ##ria was sweet and strong . the service was fast and everyone was polite . will definitely come back for round 2 ! [SEP]\n"
          ],
          "name": "stdout"
        },
        {
          "output_type": "stream",
          "text": [
            "INFO:tensorflow:tokens: [CLS] 118 ##55 ##8 278 4 1 4 . 0 42 . 0 1 105 ##3 . 0 100 ##3 . 77 ##35 ##8 ##49 ##0 ##56 ##60 ##4 109 ##7 . 47 ##16 ##9 ##8 ##11 ##32 ##0 ##7 ##6 205 ##3 . 0 tuesday this place was very ta ##sty ! the fish ta ##co and em ##pan ##ada ##s were delicious but the pork ta ##co was just so - so . i had the margarita - sang ##ria was sweet and strong . the service was fast and everyone was polite . will definitely come back for round 2 ! [SEP]\n"
          ],
          "name": "stderr"
        },
        {
          "output_type": "stream",
          "text": [
            "INFO:tensorflow:input_ids: 101 12963 24087 2620 24709 1018 1015 1018 1012 1014 4413 1012 1014 1015 8746 2509 1012 1014 2531 2509 1012 6255 19481 2620 26224 2692 26976 16086 2549 11518 2581 1012 4700 16048 2683 2620 14526 16703 2692 2581 2575 16327 2509 1012 1014 9857 2023 2173 2001 2200 11937 21756 999 1996 3869 11937 3597 1998 7861 9739 8447 2015 2020 12090 2021 1996 15960 11937 3597 2001 2074 2061 1011 2061 1012 1045 2018 1996 24570 1011 6369 4360 2001 4086 1998 2844 1012 1996 2326 2001 3435 1998 3071 2001 13205 1012 2097 5791 2272 2067 2005 2461 1016 999 102 0 0 0 0 0 0 0 0 0 0 0 0 0 0 0 0 0 0 0 0 0 0 0\n"
          ],
          "name": "stdout"
        },
        {
          "output_type": "stream",
          "text": [
            "INFO:tensorflow:input_ids: 101 12963 24087 2620 24709 1018 1015 1018 1012 1014 4413 1012 1014 1015 8746 2509 1012 1014 2531 2509 1012 6255 19481 2620 26224 2692 26976 16086 2549 11518 2581 1012 4700 16048 2683 2620 14526 16703 2692 2581 2575 16327 2509 1012 1014 9857 2023 2173 2001 2200 11937 21756 999 1996 3869 11937 3597 1998 7861 9739 8447 2015 2020 12090 2021 1996 15960 11937 3597 2001 2074 2061 1011 2061 1012 1045 2018 1996 24570 1011 6369 4360 2001 4086 1998 2844 1012 1996 2326 2001 3435 1998 3071 2001 13205 1012 2097 5791 2272 2067 2005 2461 1016 999 102 0 0 0 0 0 0 0 0 0 0 0 0 0 0 0 0 0 0 0 0 0 0 0\n"
          ],
          "name": "stderr"
        },
        {
          "output_type": "stream",
          "text": [
            "INFO:tensorflow:input_mask: 1 1 1 1 1 1 1 1 1 1 1 1 1 1 1 1 1 1 1 1 1 1 1 1 1 1 1 1 1 1 1 1 1 1 1 1 1 1 1 1 1 1 1 1 1 1 1 1 1 1 1 1 1 1 1 1 1 1 1 1 1 1 1 1 1 1 1 1 1 1 1 1 1 1 1 1 1 1 1 1 1 1 1 1 1 1 1 1 1 1 1 1 1 1 1 1 1 1 1 1 1 1 1 1 1 0 0 0 0 0 0 0 0 0 0 0 0 0 0 0 0 0 0 0 0 0 0 0\n"
          ],
          "name": "stdout"
        },
        {
          "output_type": "stream",
          "text": [
            "INFO:tensorflow:input_mask: 1 1 1 1 1 1 1 1 1 1 1 1 1 1 1 1 1 1 1 1 1 1 1 1 1 1 1 1 1 1 1 1 1 1 1 1 1 1 1 1 1 1 1 1 1 1 1 1 1 1 1 1 1 1 1 1 1 1 1 1 1 1 1 1 1 1 1 1 1 1 1 1 1 1 1 1 1 1 1 1 1 1 1 1 1 1 1 1 1 1 1 1 1 1 1 1 1 1 1 1 1 1 1 1 1 0 0 0 0 0 0 0 0 0 0 0 0 0 0 0 0 0 0 0 0 0 0 0\n"
          ],
          "name": "stderr"
        },
        {
          "output_type": "stream",
          "text": [
            "INFO:tensorflow:segment_ids: 0 0 0 0 0 0 0 0 0 0 0 0 0 0 0 0 0 0 0 0 0 0 0 0 0 0 0 0 0 0 0 0 0 0 0 0 0 0 0 0 0 0 0 0 0 0 0 0 0 0 0 0 0 0 0 0 0 0 0 0 0 0 0 0 0 0 0 0 0 0 0 0 0 0 0 0 0 0 0 0 0 0 0 0 0 0 0 0 0 0 0 0 0 0 0 0 0 0 0 0 0 0 0 0 0 0 0 0 0 0 0 0 0 0 0 0 0 0 0 0 0 0 0 0 0 0 0 0\n"
          ],
          "name": "stdout"
        },
        {
          "output_type": "stream",
          "text": [
            "INFO:tensorflow:segment_ids: 0 0 0 0 0 0 0 0 0 0 0 0 0 0 0 0 0 0 0 0 0 0 0 0 0 0 0 0 0 0 0 0 0 0 0 0 0 0 0 0 0 0 0 0 0 0 0 0 0 0 0 0 0 0 0 0 0 0 0 0 0 0 0 0 0 0 0 0 0 0 0 0 0 0 0 0 0 0 0 0 0 0 0 0 0 0 0 0 0 0 0 0 0 0 0 0 0 0 0 0 0 0 0 0 0 0 0 0 0 0 0 0 0 0 0 0 0 0 0 0 0 0 0 0 0 0 0 0\n"
          ],
          "name": "stderr"
        },
        {
          "output_type": "stream",
          "text": [
            "INFO:tensorflow:label: 1 (id = 1)\n"
          ],
          "name": "stdout"
        },
        {
          "output_type": "stream",
          "text": [
            "INFO:tensorflow:label: 1 (id = 1)\n"
          ],
          "name": "stderr"
        }
      ]
    },
    {
      "cell_type": "code",
      "metadata": {
        "colab": {
          "base_uri": "https://localhost:8080/"
        },
        "id": "ZjCDfrxB00XX",
        "outputId": "764643a9-98f6-4e21-9eca-3e09322a04c9"
      },
      "source": [
        "test_features = bert.run_classifier.convert_examples_to_features(test_InputExamples, label_list, MAX_SEQ_LENGTH, tokenizer)"
      ],
      "execution_count": 39,
      "outputs": [
        {
          "output_type": "stream",
          "text": [
            "INFO:tensorflow:Writing example 0 of 4999\n"
          ],
          "name": "stdout"
        },
        {
          "output_type": "stream",
          "text": [
            "INFO:tensorflow:Writing example 0 of 4999\n"
          ],
          "name": "stderr"
        },
        {
          "output_type": "stream",
          "text": [
            "INFO:tensorflow:*** Example ***\n"
          ],
          "name": "stdout"
        },
        {
          "output_type": "stream",
          "text": [
            "INFO:tensorflow:*** Example ***\n"
          ],
          "name": "stderr"
        },
        {
          "output_type": "stream",
          "text": [
            "INFO:tensorflow:guid: None\n"
          ],
          "name": "stdout"
        },
        {
          "output_type": "stream",
          "text": [
            "INFO:tensorflow:guid: None\n"
          ],
          "name": "stderr"
        },
        {
          "output_type": "stream",
          "text": [
            "INFO:tensorflow:tokens: [CLS] 159 ##01 36 ##3 2 1 2 . 0 74 . 0 1 307 ##5 . 0 100 ##3 . 99 ##0 ##36 ##14 ##45 ##7 ##8 ##32 111 ##4 . 980 ##24 ##0 ##9 ##6 ##38 ##55 ##5 407 ##5 . 0 monday possibly one of the most expensive restaurants i ' ve been too , but completely worth it . completely packed on a tuesday night , the waitress was wonderful , and when we had a problem with our food not being prepared to our liking , they brought us a whole new meal and gave us dessert on the house . i got the duck shepard ##s pie , which was delicious , the dessert we got was the chocolate mo ##uss [SEP]\n"
          ],
          "name": "stdout"
        },
        {
          "output_type": "stream",
          "text": [
            "INFO:tensorflow:tokens: [CLS] 159 ##01 36 ##3 2 1 2 . 0 74 . 0 1 307 ##5 . 0 100 ##3 . 99 ##0 ##36 ##14 ##45 ##7 ##8 ##32 111 ##4 . 980 ##24 ##0 ##9 ##6 ##38 ##55 ##5 407 ##5 . 0 monday possibly one of the most expensive restaurants i ' ve been too , but completely worth it . completely packed on a tuesday night , the waitress was wonderful , and when we had a problem with our food not being prepared to our liking , they brought us a whole new meal and gave us dessert on the house . i got the duck shepard ##s pie , which was delicious , the dessert we got was the chocolate mo ##uss [SEP]\n"
          ],
          "name": "stderr"
        },
        {
          "output_type": "stream",
          "text": [
            "INFO:tensorflow:input_ids: 101 18914 24096 4029 2509 1016 1015 1016 1012 1014 6356 1012 1014 1015 24559 2629 1012 1014 2531 2509 1012 5585 2692 21619 16932 19961 2581 2620 16703 11118 2549 1012 25195 18827 2692 2683 2575 22025 24087 2629 28941 2629 1012 1014 6928 4298 2028 1997 1996 2087 6450 7884 1045 1005 2310 2042 2205 1010 2021 3294 4276 2009 1012 3294 8966 2006 1037 9857 2305 1010 1996 13877 2001 6919 1010 1998 2043 2057 2018 1037 3291 2007 2256 2833 2025 2108 4810 2000 2256 16663 1010 2027 2716 2149 1037 2878 2047 7954 1998 2435 2149 18064 2006 1996 2160 1012 1045 2288 1996 9457 22189 2015 11345 1010 2029 2001 12090 1010 1996 18064 2057 2288 2001 1996 7967 9587 17854 102\n"
          ],
          "name": "stdout"
        },
        {
          "output_type": "stream",
          "text": [
            "INFO:tensorflow:input_ids: 101 18914 24096 4029 2509 1016 1015 1016 1012 1014 6356 1012 1014 1015 24559 2629 1012 1014 2531 2509 1012 5585 2692 21619 16932 19961 2581 2620 16703 11118 2549 1012 25195 18827 2692 2683 2575 22025 24087 2629 28941 2629 1012 1014 6928 4298 2028 1997 1996 2087 6450 7884 1045 1005 2310 2042 2205 1010 2021 3294 4276 2009 1012 3294 8966 2006 1037 9857 2305 1010 1996 13877 2001 6919 1010 1998 2043 2057 2018 1037 3291 2007 2256 2833 2025 2108 4810 2000 2256 16663 1010 2027 2716 2149 1037 2878 2047 7954 1998 2435 2149 18064 2006 1996 2160 1012 1045 2288 1996 9457 22189 2015 11345 1010 2029 2001 12090 1010 1996 18064 2057 2288 2001 1996 7967 9587 17854 102\n"
          ],
          "name": "stderr"
        },
        {
          "output_type": "stream",
          "text": [
            "INFO:tensorflow:input_mask: 1 1 1 1 1 1 1 1 1 1 1 1 1 1 1 1 1 1 1 1 1 1 1 1 1 1 1 1 1 1 1 1 1 1 1 1 1 1 1 1 1 1 1 1 1 1 1 1 1 1 1 1 1 1 1 1 1 1 1 1 1 1 1 1 1 1 1 1 1 1 1 1 1 1 1 1 1 1 1 1 1 1 1 1 1 1 1 1 1 1 1 1 1 1 1 1 1 1 1 1 1 1 1 1 1 1 1 1 1 1 1 1 1 1 1 1 1 1 1 1 1 1 1 1 1 1 1 1\n"
          ],
          "name": "stdout"
        },
        {
          "output_type": "stream",
          "text": [
            "INFO:tensorflow:input_mask: 1 1 1 1 1 1 1 1 1 1 1 1 1 1 1 1 1 1 1 1 1 1 1 1 1 1 1 1 1 1 1 1 1 1 1 1 1 1 1 1 1 1 1 1 1 1 1 1 1 1 1 1 1 1 1 1 1 1 1 1 1 1 1 1 1 1 1 1 1 1 1 1 1 1 1 1 1 1 1 1 1 1 1 1 1 1 1 1 1 1 1 1 1 1 1 1 1 1 1 1 1 1 1 1 1 1 1 1 1 1 1 1 1 1 1 1 1 1 1 1 1 1 1 1 1 1 1 1\n"
          ],
          "name": "stderr"
        },
        {
          "output_type": "stream",
          "text": [
            "INFO:tensorflow:segment_ids: 0 0 0 0 0 0 0 0 0 0 0 0 0 0 0 0 0 0 0 0 0 0 0 0 0 0 0 0 0 0 0 0 0 0 0 0 0 0 0 0 0 0 0 0 0 0 0 0 0 0 0 0 0 0 0 0 0 0 0 0 0 0 0 0 0 0 0 0 0 0 0 0 0 0 0 0 0 0 0 0 0 0 0 0 0 0 0 0 0 0 0 0 0 0 0 0 0 0 0 0 0 0 0 0 0 0 0 0 0 0 0 0 0 0 0 0 0 0 0 0 0 0 0 0 0 0 0 0\n"
          ],
          "name": "stdout"
        },
        {
          "output_type": "stream",
          "text": [
            "INFO:tensorflow:segment_ids: 0 0 0 0 0 0 0 0 0 0 0 0 0 0 0 0 0 0 0 0 0 0 0 0 0 0 0 0 0 0 0 0 0 0 0 0 0 0 0 0 0 0 0 0 0 0 0 0 0 0 0 0 0 0 0 0 0 0 0 0 0 0 0 0 0 0 0 0 0 0 0 0 0 0 0 0 0 0 0 0 0 0 0 0 0 0 0 0 0 0 0 0 0 0 0 0 0 0 0 0 0 0 0 0 0 0 0 0 0 0 0 0 0 0 0 0 0 0 0 0 0 0 0 0 0 0 0 0\n"
          ],
          "name": "stderr"
        },
        {
          "output_type": "stream",
          "text": [
            "INFO:tensorflow:label: 0 (id = 0)\n"
          ],
          "name": "stdout"
        },
        {
          "output_type": "stream",
          "text": [
            "INFO:tensorflow:label: 0 (id = 0)\n"
          ],
          "name": "stderr"
        },
        {
          "output_type": "stream",
          "text": [
            "INFO:tensorflow:*** Example ***\n"
          ],
          "name": "stdout"
        },
        {
          "output_type": "stream",
          "text": [
            "INFO:tensorflow:*** Example ***\n"
          ],
          "name": "stderr"
        },
        {
          "output_type": "stream",
          "text": [
            "INFO:tensorflow:guid: None\n"
          ],
          "name": "stdout"
        },
        {
          "output_type": "stream",
          "text": [
            "INFO:tensorflow:guid: None\n"
          ],
          "name": "stderr"
        },
        {
          "output_type": "stream",
          "text": [
            "INFO:tensorflow:tokens: [CLS] 120 ##50 ##6 60 ##7 4 1 4 . 0 345 . 0 1 105 ##6 . 0 100 ##4 . 339 ##28 ##57 ##14 ##28 ##57 109 ##9 . 1785 ##7 ##14 ##28 ##57 ##13 205 ##6 . 0 thursday very cozy little restaurant with more outdoor seating than indoors . the decor is very home ##y and displays photos and post ##cards i ' m assuming the owners received from their customers . this place is cash only , but they do have an atm next to the bathroom . for dinner , pat ##es et traditions offers various cr ##ep ##es , salad ##s , and pasta ##s . definitely go for the cr ##ep ##es as , in my opinion , they [SEP]\n"
          ],
          "name": "stdout"
        },
        {
          "output_type": "stream",
          "text": [
            "INFO:tensorflow:tokens: [CLS] 120 ##50 ##6 60 ##7 4 1 4 . 0 345 . 0 1 105 ##6 . 0 100 ##4 . 339 ##28 ##57 ##14 ##28 ##57 109 ##9 . 1785 ##7 ##14 ##28 ##57 ##13 205 ##6 . 0 thursday very cozy little restaurant with more outdoor seating than indoors . the decor is very home ##y and displays photos and post ##cards i ' m assuming the owners received from their customers . this place is cash only , but they do have an atm next to the bathroom . for dinner , pat ##es et traditions offers various cr ##ep ##es , salad ##s , and pasta ##s . definitely go for the cr ##ep ##es as , in my opinion , they [SEP]\n"
          ],
          "name": "stderr"
        },
        {
          "output_type": "stream",
          "text": [
            "INFO:tensorflow:input_ids: 101 6036 12376 2575 3438 2581 1018 1015 1018 1012 1014 23785 1012 1014 1015 8746 2575 1012 1014 2531 2549 1012 28977 22407 28311 16932 22407 28311 11518 2683 1012 17262 2581 16932 22407 28311 17134 16327 2575 1012 1014 9432 2200 26931 2210 4825 2007 2062 7254 10747 2084 24274 1012 1996 25545 2003 2200 2188 2100 1998 8834 7760 1998 2695 17965 1045 1005 1049 10262 1996 5608 2363 2013 2037 6304 1012 2023 2173 2003 5356 2069 1010 2021 2027 2079 2031 2019 27218 2279 2000 1996 5723 1012 2005 4596 1010 6986 2229 3802 7443 4107 2536 13675 13699 2229 1010 16521 2015 1010 1998 24857 2015 1012 5791 2175 2005 1996 13675 13699 2229 2004 1010 1999 2026 5448 1010 2027 102\n"
          ],
          "name": "stdout"
        },
        {
          "output_type": "stream",
          "text": [
            "INFO:tensorflow:input_ids: 101 6036 12376 2575 3438 2581 1018 1015 1018 1012 1014 23785 1012 1014 1015 8746 2575 1012 1014 2531 2549 1012 28977 22407 28311 16932 22407 28311 11518 2683 1012 17262 2581 16932 22407 28311 17134 16327 2575 1012 1014 9432 2200 26931 2210 4825 2007 2062 7254 10747 2084 24274 1012 1996 25545 2003 2200 2188 2100 1998 8834 7760 1998 2695 17965 1045 1005 1049 10262 1996 5608 2363 2013 2037 6304 1012 2023 2173 2003 5356 2069 1010 2021 2027 2079 2031 2019 27218 2279 2000 1996 5723 1012 2005 4596 1010 6986 2229 3802 7443 4107 2536 13675 13699 2229 1010 16521 2015 1010 1998 24857 2015 1012 5791 2175 2005 1996 13675 13699 2229 2004 1010 1999 2026 5448 1010 2027 102\n"
          ],
          "name": "stderr"
        },
        {
          "output_type": "stream",
          "text": [
            "INFO:tensorflow:input_mask: 1 1 1 1 1 1 1 1 1 1 1 1 1 1 1 1 1 1 1 1 1 1 1 1 1 1 1 1 1 1 1 1 1 1 1 1 1 1 1 1 1 1 1 1 1 1 1 1 1 1 1 1 1 1 1 1 1 1 1 1 1 1 1 1 1 1 1 1 1 1 1 1 1 1 1 1 1 1 1 1 1 1 1 1 1 1 1 1 1 1 1 1 1 1 1 1 1 1 1 1 1 1 1 1 1 1 1 1 1 1 1 1 1 1 1 1 1 1 1 1 1 1 1 1 1 1 1 1\n"
          ],
          "name": "stdout"
        },
        {
          "output_type": "stream",
          "text": [
            "INFO:tensorflow:input_mask: 1 1 1 1 1 1 1 1 1 1 1 1 1 1 1 1 1 1 1 1 1 1 1 1 1 1 1 1 1 1 1 1 1 1 1 1 1 1 1 1 1 1 1 1 1 1 1 1 1 1 1 1 1 1 1 1 1 1 1 1 1 1 1 1 1 1 1 1 1 1 1 1 1 1 1 1 1 1 1 1 1 1 1 1 1 1 1 1 1 1 1 1 1 1 1 1 1 1 1 1 1 1 1 1 1 1 1 1 1 1 1 1 1 1 1 1 1 1 1 1 1 1 1 1 1 1 1 1\n"
          ],
          "name": "stderr"
        },
        {
          "output_type": "stream",
          "text": [
            "INFO:tensorflow:segment_ids: 0 0 0 0 0 0 0 0 0 0 0 0 0 0 0 0 0 0 0 0 0 0 0 0 0 0 0 0 0 0 0 0 0 0 0 0 0 0 0 0 0 0 0 0 0 0 0 0 0 0 0 0 0 0 0 0 0 0 0 0 0 0 0 0 0 0 0 0 0 0 0 0 0 0 0 0 0 0 0 0 0 0 0 0 0 0 0 0 0 0 0 0 0 0 0 0 0 0 0 0 0 0 0 0 0 0 0 0 0 0 0 0 0 0 0 0 0 0 0 0 0 0 0 0 0 0 0 0\n"
          ],
          "name": "stdout"
        },
        {
          "output_type": "stream",
          "text": [
            "INFO:tensorflow:segment_ids: 0 0 0 0 0 0 0 0 0 0 0 0 0 0 0 0 0 0 0 0 0 0 0 0 0 0 0 0 0 0 0 0 0 0 0 0 0 0 0 0 0 0 0 0 0 0 0 0 0 0 0 0 0 0 0 0 0 0 0 0 0 0 0 0 0 0 0 0 0 0 0 0 0 0 0 0 0 0 0 0 0 0 0 0 0 0 0 0 0 0 0 0 0 0 0 0 0 0 0 0 0 0 0 0 0 0 0 0 0 0 0 0 0 0 0 0 0 0 0 0 0 0 0 0 0 0 0 0\n"
          ],
          "name": "stderr"
        },
        {
          "output_type": "stream",
          "text": [
            "INFO:tensorflow:label: 1 (id = 1)\n"
          ],
          "name": "stdout"
        },
        {
          "output_type": "stream",
          "text": [
            "INFO:tensorflow:label: 1 (id = 1)\n"
          ],
          "name": "stderr"
        },
        {
          "output_type": "stream",
          "text": [
            "INFO:tensorflow:*** Example ***\n"
          ],
          "name": "stdout"
        },
        {
          "output_type": "stream",
          "text": [
            "INFO:tensorflow:*** Example ***\n"
          ],
          "name": "stderr"
        },
        {
          "output_type": "stream",
          "text": [
            "INFO:tensorflow:guid: None\n"
          ],
          "name": "stdout"
        },
        {
          "output_type": "stream",
          "text": [
            "INFO:tensorflow:guid: None\n"
          ],
          "name": "stderr"
        },
        {
          "output_type": "stream",
          "text": [
            "INFO:tensorflow:tokens: [CLS] 700 ##6 ##1 61 ##4 5 1 5 . 0 129 . 0 1 103 ##7 . 0 100 ##3 . 97 ##29 ##7 ##29 ##7 ##29 ##7 ##3 107 ##2 . 75 ##6 ##75 ##6 ##75 ##6 ##75 ##6 ##7 203 ##7 . 0 thursday i went to miriam ' s expecting a nice time and maybe some food . my friend and i were in the area and decided we wanted to get a drink to cool down . then , we felt the racism of the staff . we were told that there was no space at the bar ( there were 3 stool ##s open ) and that we couldn ' t sit down because of their reservations ( it was 5 [SEP]\n"
          ],
          "name": "stdout"
        },
        {
          "output_type": "stream",
          "text": [
            "INFO:tensorflow:tokens: [CLS] 700 ##6 ##1 61 ##4 5 1 5 . 0 129 . 0 1 103 ##7 . 0 100 ##3 . 97 ##29 ##7 ##29 ##7 ##29 ##7 ##3 107 ##2 . 75 ##6 ##75 ##6 ##75 ##6 ##75 ##6 ##7 203 ##7 . 0 thursday i went to miriam ' s expecting a nice time and maybe some food . my friend and i were in the area and decided we wanted to get a drink to cool down . then , we felt the racism of the staff . we were told that there was no space at the bar ( there were 3 stool ##s open ) and that we couldn ' t sit down because of their reservations ( it was 5 [SEP]\n"
          ],
          "name": "stderr"
        },
        {
          "output_type": "stream",
          "text": [
            "INFO:tensorflow:input_ids: 101 6352 2575 2487 6079 2549 1019 1015 1019 1012 1014 14378 1012 1014 1015 9800 2581 1012 1014 2531 2509 1012 5989 24594 2581 24594 2581 24594 2581 2509 10550 2475 1012 4293 2575 23352 2575 23352 2575 23352 2575 2581 18540 2581 1012 1014 9432 1045 2253 2000 16925 1005 1055 8074 1037 3835 2051 1998 2672 2070 2833 1012 2026 2767 1998 1045 2020 1999 1996 2181 1998 2787 2057 2359 2000 2131 1037 4392 2000 4658 2091 1012 2059 1010 2057 2371 1996 14398 1997 1996 3095 1012 2057 2020 2409 2008 2045 2001 2053 2686 2012 1996 3347 1006 2045 2020 1017 14708 2015 2330 1007 1998 2008 2057 2481 1005 1056 4133 2091 2138 1997 2037 17829 1006 2009 2001 1019 102\n"
          ],
          "name": "stdout"
        },
        {
          "output_type": "stream",
          "text": [
            "INFO:tensorflow:input_ids: 101 6352 2575 2487 6079 2549 1019 1015 1019 1012 1014 14378 1012 1014 1015 9800 2581 1012 1014 2531 2509 1012 5989 24594 2581 24594 2581 24594 2581 2509 10550 2475 1012 4293 2575 23352 2575 23352 2575 23352 2575 2581 18540 2581 1012 1014 9432 1045 2253 2000 16925 1005 1055 8074 1037 3835 2051 1998 2672 2070 2833 1012 2026 2767 1998 1045 2020 1999 1996 2181 1998 2787 2057 2359 2000 2131 1037 4392 2000 4658 2091 1012 2059 1010 2057 2371 1996 14398 1997 1996 3095 1012 2057 2020 2409 2008 2045 2001 2053 2686 2012 1996 3347 1006 2045 2020 1017 14708 2015 2330 1007 1998 2008 2057 2481 1005 1056 4133 2091 2138 1997 2037 17829 1006 2009 2001 1019 102\n"
          ],
          "name": "stderr"
        },
        {
          "output_type": "stream",
          "text": [
            "INFO:tensorflow:input_mask: 1 1 1 1 1 1 1 1 1 1 1 1 1 1 1 1 1 1 1 1 1 1 1 1 1 1 1 1 1 1 1 1 1 1 1 1 1 1 1 1 1 1 1 1 1 1 1 1 1 1 1 1 1 1 1 1 1 1 1 1 1 1 1 1 1 1 1 1 1 1 1 1 1 1 1 1 1 1 1 1 1 1 1 1 1 1 1 1 1 1 1 1 1 1 1 1 1 1 1 1 1 1 1 1 1 1 1 1 1 1 1 1 1 1 1 1 1 1 1 1 1 1 1 1 1 1 1 1\n"
          ],
          "name": "stdout"
        },
        {
          "output_type": "stream",
          "text": [
            "INFO:tensorflow:input_mask: 1 1 1 1 1 1 1 1 1 1 1 1 1 1 1 1 1 1 1 1 1 1 1 1 1 1 1 1 1 1 1 1 1 1 1 1 1 1 1 1 1 1 1 1 1 1 1 1 1 1 1 1 1 1 1 1 1 1 1 1 1 1 1 1 1 1 1 1 1 1 1 1 1 1 1 1 1 1 1 1 1 1 1 1 1 1 1 1 1 1 1 1 1 1 1 1 1 1 1 1 1 1 1 1 1 1 1 1 1 1 1 1 1 1 1 1 1 1 1 1 1 1 1 1 1 1 1 1\n"
          ],
          "name": "stderr"
        },
        {
          "output_type": "stream",
          "text": [
            "INFO:tensorflow:segment_ids: 0 0 0 0 0 0 0 0 0 0 0 0 0 0 0 0 0 0 0 0 0 0 0 0 0 0 0 0 0 0 0 0 0 0 0 0 0 0 0 0 0 0 0 0 0 0 0 0 0 0 0 0 0 0 0 0 0 0 0 0 0 0 0 0 0 0 0 0 0 0 0 0 0 0 0 0 0 0 0 0 0 0 0 0 0 0 0 0 0 0 0 0 0 0 0 0 0 0 0 0 0 0 0 0 0 0 0 0 0 0 0 0 0 0 0 0 0 0 0 0 0 0 0 0 0 0 0 0\n"
          ],
          "name": "stdout"
        },
        {
          "output_type": "stream",
          "text": [
            "INFO:tensorflow:segment_ids: 0 0 0 0 0 0 0 0 0 0 0 0 0 0 0 0 0 0 0 0 0 0 0 0 0 0 0 0 0 0 0 0 0 0 0 0 0 0 0 0 0 0 0 0 0 0 0 0 0 0 0 0 0 0 0 0 0 0 0 0 0 0 0 0 0 0 0 0 0 0 0 0 0 0 0 0 0 0 0 0 0 0 0 0 0 0 0 0 0 0 0 0 0 0 0 0 0 0 0 0 0 0 0 0 0 0 0 0 0 0 0 0 0 0 0 0 0 0 0 0 0 0 0 0 0 0 0 0\n"
          ],
          "name": "stderr"
        },
        {
          "output_type": "stream",
          "text": [
            "INFO:tensorflow:label: 1 (id = 1)\n"
          ],
          "name": "stdout"
        },
        {
          "output_type": "stream",
          "text": [
            "INFO:tensorflow:label: 1 (id = 1)\n"
          ],
          "name": "stderr"
        },
        {
          "output_type": "stream",
          "text": [
            "INFO:tensorflow:*** Example ***\n"
          ],
          "name": "stdout"
        },
        {
          "output_type": "stream",
          "text": [
            "INFO:tensorflow:*** Example ***\n"
          ],
          "name": "stderr"
        },
        {
          "output_type": "stream",
          "text": [
            "INFO:tensorflow:guid: None\n"
          ],
          "name": "stdout"
        },
        {
          "output_type": "stream",
          "text": [
            "INFO:tensorflow:guid: None\n"
          ],
          "name": "stderr"
        },
        {
          "output_type": "stream",
          "text": [
            "INFO:tensorflow:tokens: [CLS] 74 ##24 ##4 35 ##3 5 1 5 . 0 197 . 0 1 1778 . 0 100 ##4 . 329 ##0 ##48 ##8 ##43 ##18 ##7 ##7 111 ##8 . 57 ##32 ##64 ##7 ##8 ##14 ##9 ##1 277 ##8 . 0 sunday it might be un ##wise to be a buzz - kill for a place as revered as luca ##li , but to be completely frank , the pizza did not live up to its billing , and certainly not its price . to be clear : the pizza here is excellent . but you ' ve had better , and if you haven ' t , you should keep looking . usually packed , i went most recently on a tuesday night [SEP]\n"
          ],
          "name": "stdout"
        },
        {
          "output_type": "stream",
          "text": [
            "INFO:tensorflow:tokens: [CLS] 74 ##24 ##4 35 ##3 5 1 5 . 0 197 . 0 1 1778 . 0 100 ##4 . 329 ##0 ##48 ##8 ##43 ##18 ##7 ##7 111 ##8 . 57 ##32 ##64 ##7 ##8 ##14 ##9 ##1 277 ##8 . 0 sunday it might be un ##wise to be a buzz - kill for a place as revered as luca ##li , but to be completely frank , the pizza did not live up to its billing , and certainly not its price . to be clear : the pizza here is excellent . but you ' ve had better , and if you haven ' t , you should keep looking . usually packed , i went most recently on a tuesday night [SEP]\n"
          ],
          "name": "stderr"
        },
        {
          "output_type": "stream",
          "text": [
            "INFO:tensorflow:input_ids: 101 6356 18827 2549 3486 2509 1019 1015 1019 1012 1014 19975 1012 1014 1015 16331 1012 1014 2531 2549 1012 29567 2692 18139 2620 23777 15136 2581 2581 11118 2620 1012 5401 16703 21084 2581 2620 16932 2683 2487 25578 2620 1012 1014 4465 2009 2453 2022 4895 14244 2000 2022 1037 12610 1011 3102 2005 1037 2173 2004 23886 2004 15604 3669 1010 2021 2000 2022 3294 3581 1010 1996 10733 2106 2025 2444 2039 2000 2049 25640 1010 1998 5121 2025 2049 3976 1012 2000 2022 3154 1024 1996 10733 2182 2003 6581 1012 2021 2017 1005 2310 2018 2488 1010 1998 2065 2017 4033 1005 1056 1010 2017 2323 2562 2559 1012 2788 8966 1010 1045 2253 2087 3728 2006 1037 9857 2305 102\n"
          ],
          "name": "stdout"
        },
        {
          "output_type": "stream",
          "text": [
            "INFO:tensorflow:input_ids: 101 6356 18827 2549 3486 2509 1019 1015 1019 1012 1014 19975 1012 1014 1015 16331 1012 1014 2531 2549 1012 29567 2692 18139 2620 23777 15136 2581 2581 11118 2620 1012 5401 16703 21084 2581 2620 16932 2683 2487 25578 2620 1012 1014 4465 2009 2453 2022 4895 14244 2000 2022 1037 12610 1011 3102 2005 1037 2173 2004 23886 2004 15604 3669 1010 2021 2000 2022 3294 3581 1010 1996 10733 2106 2025 2444 2039 2000 2049 25640 1010 1998 5121 2025 2049 3976 1012 2000 2022 3154 1024 1996 10733 2182 2003 6581 1012 2021 2017 1005 2310 2018 2488 1010 1998 2065 2017 4033 1005 1056 1010 2017 2323 2562 2559 1012 2788 8966 1010 1045 2253 2087 3728 2006 1037 9857 2305 102\n"
          ],
          "name": "stderr"
        },
        {
          "output_type": "stream",
          "text": [
            "INFO:tensorflow:input_mask: 1 1 1 1 1 1 1 1 1 1 1 1 1 1 1 1 1 1 1 1 1 1 1 1 1 1 1 1 1 1 1 1 1 1 1 1 1 1 1 1 1 1 1 1 1 1 1 1 1 1 1 1 1 1 1 1 1 1 1 1 1 1 1 1 1 1 1 1 1 1 1 1 1 1 1 1 1 1 1 1 1 1 1 1 1 1 1 1 1 1 1 1 1 1 1 1 1 1 1 1 1 1 1 1 1 1 1 1 1 1 1 1 1 1 1 1 1 1 1 1 1 1 1 1 1 1 1 1\n"
          ],
          "name": "stdout"
        },
        {
          "output_type": "stream",
          "text": [
            "INFO:tensorflow:input_mask: 1 1 1 1 1 1 1 1 1 1 1 1 1 1 1 1 1 1 1 1 1 1 1 1 1 1 1 1 1 1 1 1 1 1 1 1 1 1 1 1 1 1 1 1 1 1 1 1 1 1 1 1 1 1 1 1 1 1 1 1 1 1 1 1 1 1 1 1 1 1 1 1 1 1 1 1 1 1 1 1 1 1 1 1 1 1 1 1 1 1 1 1 1 1 1 1 1 1 1 1 1 1 1 1 1 1 1 1 1 1 1 1 1 1 1 1 1 1 1 1 1 1 1 1 1 1 1 1\n"
          ],
          "name": "stderr"
        },
        {
          "output_type": "stream",
          "text": [
            "INFO:tensorflow:segment_ids: 0 0 0 0 0 0 0 0 0 0 0 0 0 0 0 0 0 0 0 0 0 0 0 0 0 0 0 0 0 0 0 0 0 0 0 0 0 0 0 0 0 0 0 0 0 0 0 0 0 0 0 0 0 0 0 0 0 0 0 0 0 0 0 0 0 0 0 0 0 0 0 0 0 0 0 0 0 0 0 0 0 0 0 0 0 0 0 0 0 0 0 0 0 0 0 0 0 0 0 0 0 0 0 0 0 0 0 0 0 0 0 0 0 0 0 0 0 0 0 0 0 0 0 0 0 0 0 0\n"
          ],
          "name": "stdout"
        },
        {
          "output_type": "stream",
          "text": [
            "INFO:tensorflow:segment_ids: 0 0 0 0 0 0 0 0 0 0 0 0 0 0 0 0 0 0 0 0 0 0 0 0 0 0 0 0 0 0 0 0 0 0 0 0 0 0 0 0 0 0 0 0 0 0 0 0 0 0 0 0 0 0 0 0 0 0 0 0 0 0 0 0 0 0 0 0 0 0 0 0 0 0 0 0 0 0 0 0 0 0 0 0 0 0 0 0 0 0 0 0 0 0 0 0 0 0 0 0 0 0 0 0 0 0 0 0 0 0 0 0 0 0 0 0 0 0 0 0 0 0 0 0 0 0 0 0\n"
          ],
          "name": "stderr"
        },
        {
          "output_type": "stream",
          "text": [
            "INFO:tensorflow:label: 0 (id = 0)\n"
          ],
          "name": "stdout"
        },
        {
          "output_type": "stream",
          "text": [
            "INFO:tensorflow:label: 0 (id = 0)\n"
          ],
          "name": "stderr"
        },
        {
          "output_type": "stream",
          "text": [
            "INFO:tensorflow:*** Example ***\n"
          ],
          "name": "stdout"
        },
        {
          "output_type": "stream",
          "text": [
            "INFO:tensorflow:*** Example ***\n"
          ],
          "name": "stderr"
        },
        {
          "output_type": "stream",
          "text": [
            "INFO:tensorflow:guid: None\n"
          ],
          "name": "stdout"
        },
        {
          "output_type": "stream",
          "text": [
            "INFO:tensorflow:guid: None\n"
          ],
          "name": "stderr"
        },
        {
          "output_type": "stream",
          "text": [
            "INFO:tensorflow:tokens: [CLS] 61 ##85 ##0 54 ##8 4 1 4 . 0 43 . 0 1 110 ##5 . 0 100 ##3 . 91 ##42 ##85 ##7 ##14 ##28 ##57 106 ##8 . 05 ##7 ##14 ##28 ##57 ##14 ##3 210 ##5 . 0 tuesday it ' s my favorite place in korea town . they have cheap price with a variety of all the korean foods ! whenever i bring my friends , they love this place . it ' s also a best place to take out luc ##h box or to - go food for home . [SEP]\n"
          ],
          "name": "stdout"
        },
        {
          "output_type": "stream",
          "text": [
            "INFO:tensorflow:tokens: [CLS] 61 ##85 ##0 54 ##8 4 1 4 . 0 43 . 0 1 110 ##5 . 0 100 ##3 . 91 ##42 ##85 ##7 ##14 ##28 ##57 106 ##8 . 05 ##7 ##14 ##28 ##57 ##14 ##3 210 ##5 . 0 tuesday it ' s my favorite place in korea town . they have cheap price with a variety of all the korean foods ! whenever i bring my friends , they love this place . it ' s also a best place to take out luc ##h box or to - go food for home . [SEP]\n"
          ],
          "name": "stderr"
        },
        {
          "output_type": "stream",
          "text": [
            "INFO:tensorflow:input_ids: 101 6079 27531 2692 5139 2620 1018 1015 1018 1012 1014 4724 1012 1014 1015 7287 2629 1012 1014 2531 2509 1012 6205 20958 27531 2581 16932 22407 28311 10114 2620 1012 5709 2581 16932 22407 28311 16932 2509 12875 2629 1012 1014 9857 2009 1005 1055 2026 5440 2173 1999 4420 2237 1012 2027 2031 10036 3976 2007 1037 3528 1997 2035 1996 4759 9440 999 7188 1045 3288 2026 2814 1010 2027 2293 2023 2173 1012 2009 1005 1055 2036 1037 2190 2173 2000 2202 2041 12776 2232 3482 2030 2000 1011 2175 2833 2005 2188 1012 102 0 0 0 0 0 0 0 0 0 0 0 0 0 0 0 0 0 0 0 0 0 0 0 0 0 0 0 0\n"
          ],
          "name": "stdout"
        },
        {
          "output_type": "stream",
          "text": [
            "INFO:tensorflow:input_ids: 101 6079 27531 2692 5139 2620 1018 1015 1018 1012 1014 4724 1012 1014 1015 7287 2629 1012 1014 2531 2509 1012 6205 20958 27531 2581 16932 22407 28311 10114 2620 1012 5709 2581 16932 22407 28311 16932 2509 12875 2629 1012 1014 9857 2009 1005 1055 2026 5440 2173 1999 4420 2237 1012 2027 2031 10036 3976 2007 1037 3528 1997 2035 1996 4759 9440 999 7188 1045 3288 2026 2814 1010 2027 2293 2023 2173 1012 2009 1005 1055 2036 1037 2190 2173 2000 2202 2041 12776 2232 3482 2030 2000 1011 2175 2833 2005 2188 1012 102 0 0 0 0 0 0 0 0 0 0 0 0 0 0 0 0 0 0 0 0 0 0 0 0 0 0 0 0\n"
          ],
          "name": "stderr"
        },
        {
          "output_type": "stream",
          "text": [
            "INFO:tensorflow:input_mask: 1 1 1 1 1 1 1 1 1 1 1 1 1 1 1 1 1 1 1 1 1 1 1 1 1 1 1 1 1 1 1 1 1 1 1 1 1 1 1 1 1 1 1 1 1 1 1 1 1 1 1 1 1 1 1 1 1 1 1 1 1 1 1 1 1 1 1 1 1 1 1 1 1 1 1 1 1 1 1 1 1 1 1 1 1 1 1 1 1 1 1 1 1 1 1 1 1 1 1 1 0 0 0 0 0 0 0 0 0 0 0 0 0 0 0 0 0 0 0 0 0 0 0 0 0 0 0 0\n"
          ],
          "name": "stdout"
        },
        {
          "output_type": "stream",
          "text": [
            "INFO:tensorflow:input_mask: 1 1 1 1 1 1 1 1 1 1 1 1 1 1 1 1 1 1 1 1 1 1 1 1 1 1 1 1 1 1 1 1 1 1 1 1 1 1 1 1 1 1 1 1 1 1 1 1 1 1 1 1 1 1 1 1 1 1 1 1 1 1 1 1 1 1 1 1 1 1 1 1 1 1 1 1 1 1 1 1 1 1 1 1 1 1 1 1 1 1 1 1 1 1 1 1 1 1 1 1 0 0 0 0 0 0 0 0 0 0 0 0 0 0 0 0 0 0 0 0 0 0 0 0 0 0 0 0\n"
          ],
          "name": "stderr"
        },
        {
          "output_type": "stream",
          "text": [
            "INFO:tensorflow:segment_ids: 0 0 0 0 0 0 0 0 0 0 0 0 0 0 0 0 0 0 0 0 0 0 0 0 0 0 0 0 0 0 0 0 0 0 0 0 0 0 0 0 0 0 0 0 0 0 0 0 0 0 0 0 0 0 0 0 0 0 0 0 0 0 0 0 0 0 0 0 0 0 0 0 0 0 0 0 0 0 0 0 0 0 0 0 0 0 0 0 0 0 0 0 0 0 0 0 0 0 0 0 0 0 0 0 0 0 0 0 0 0 0 0 0 0 0 0 0 0 0 0 0 0 0 0 0 0 0 0\n"
          ],
          "name": "stdout"
        },
        {
          "output_type": "stream",
          "text": [
            "INFO:tensorflow:segment_ids: 0 0 0 0 0 0 0 0 0 0 0 0 0 0 0 0 0 0 0 0 0 0 0 0 0 0 0 0 0 0 0 0 0 0 0 0 0 0 0 0 0 0 0 0 0 0 0 0 0 0 0 0 0 0 0 0 0 0 0 0 0 0 0 0 0 0 0 0 0 0 0 0 0 0 0 0 0 0 0 0 0 0 0 0 0 0 0 0 0 0 0 0 0 0 0 0 0 0 0 0 0 0 0 0 0 0 0 0 0 0 0 0 0 0 0 0 0 0 0 0 0 0 0 0 0 0 0 0\n"
          ],
          "name": "stderr"
        },
        {
          "output_type": "stream",
          "text": [
            "INFO:tensorflow:label: 1 (id = 1)\n"
          ],
          "name": "stdout"
        },
        {
          "output_type": "stream",
          "text": [
            "INFO:tensorflow:label: 1 (id = 1)\n"
          ],
          "name": "stderr"
        }
      ]
    },
    {
      "cell_type": "code",
      "metadata": {
        "colab": {
          "base_uri": "https://localhost:8080/",
          "height": 1000
        },
        "id": "fLpnRFSV05Ee",
        "outputId": "f0fe5413-0d48-4cce-ed5c-985e0baa3955"
      },
      "source": [
        "valid"
      ],
      "execution_count": 40,
      "outputs": [
        {
          "output_type": "execute_result",
          "data": {
            "text/html": [
              "<div>\n",
              "<style scoped>\n",
              "    .dataframe tbody tr th:only-of-type {\n",
              "        vertical-align: middle;\n",
              "    }\n",
              "\n",
              "    .dataframe tbody tr th {\n",
              "        vertical-align: top;\n",
              "    }\n",
              "\n",
              "    .dataframe thead th {\n",
              "        text-align: right;\n",
              "    }\n",
              "</style>\n",
              "<table border=\"1\" class=\"dataframe\">\n",
              "  <thead>\n",
              "    <tr style=\"text-align: right;\">\n",
              "      <th></th>\n",
              "      <th>user_id</th>\n",
              "      <th>prod_id</th>\n",
              "      <th>rating</th>\n",
              "      <th>label</th>\n",
              "      <th>date</th>\n",
              "      <th>review</th>\n",
              "      <th>char_count</th>\n",
              "      <th>word_count</th>\n",
              "      <th>upper_case_word_count</th>\n",
              "      <th>word_density</th>\n",
              "      <th>punctuation_count</th>\n",
              "      <th>user_id_no_of_review</th>\n",
              "      <th>user_id_ave_rating</th>\n",
              "      <th>user_id_ave_no_words</th>\n",
              "      <th>user_id_max_review_a_day</th>\n",
              "      <th>prod_id_no_of_review</th>\n",
              "      <th>prod_id_ave_rating</th>\n",
              "      <th>prod_id_ave_no_words</th>\n",
              "      <th>prod_id_max_review_a_day</th>\n",
              "      <th>total</th>\n",
              "      <th>day_of_week</th>\n",
              "      <th>title_word_count</th>\n",
              "    </tr>\n",
              "  </thead>\n",
              "  <tbody>\n",
              "    <tr>\n",
              "      <th>516</th>\n",
              "      <td>4162</td>\n",
              "      <td>250</td>\n",
              "      <td>5</td>\n",
              "      <td>1</td>\n",
              "      <td>2014-02-25</td>\n",
              "      <td>We went here for our first year anniversary to...</td>\n",
              "      <td>1556</td>\n",
              "      <td>282</td>\n",
              "      <td>10</td>\n",
              "      <td>5.498233</td>\n",
              "      <td>40</td>\n",
              "      <td>3</td>\n",
              "      <td>5.0</td>\n",
              "      <td>152.0</td>\n",
              "      <td>2</td>\n",
              "      <td>1138.0</td>\n",
              "      <td>1004.333333</td>\n",
              "      <td>1109.434783</td>\n",
              "      <td>2138.0</td>\n",
              "      <td>4162 250 5 3 5.0 152.0 2 1138.0 1004.333333333...</td>\n",
              "      <td>Tuesday</td>\n",
              "      <td>34</td>\n",
              "    </tr>\n",
              "    <tr>\n",
              "      <th>7036</th>\n",
              "      <td>56480</td>\n",
              "      <td>439</td>\n",
              "      <td>5</td>\n",
              "      <td>1</td>\n",
              "      <td>2011-11-23</td>\n",
              "      <td>By far one of my favorite spots my first choic...</td>\n",
              "      <td>383</td>\n",
              "      <td>70</td>\n",
              "      <td>3</td>\n",
              "      <td>5.394366</td>\n",
              "      <td>22</td>\n",
              "      <td>2</td>\n",
              "      <td>5.0</td>\n",
              "      <td>209.0</td>\n",
              "      <td>2</td>\n",
              "      <td>1094.0</td>\n",
              "      <td>1003.936170</td>\n",
              "      <td>1099.457447</td>\n",
              "      <td>2094.0</td>\n",
              "      <td>56480 439 5 2 5.0 209.0 2 1094.0 1003.93617021...</td>\n",
              "      <td>Wednesday</td>\n",
              "      <td>7</td>\n",
              "    </tr>\n",
              "    <tr>\n",
              "      <th>3033</th>\n",
              "      <td>70537</td>\n",
              "      <td>330</td>\n",
              "      <td>5</td>\n",
              "      <td>1</td>\n",
              "      <td>2012-07-14</td>\n",
              "      <td>Cafecito is a wonderful restaurant, great bar ...</td>\n",
              "      <td>652</td>\n",
              "      <td>112</td>\n",
              "      <td>2</td>\n",
              "      <td>5.769912</td>\n",
              "      <td>12</td>\n",
              "      <td>1</td>\n",
              "      <td>5.0</td>\n",
              "      <td>112.0</td>\n",
              "      <td>1</td>\n",
              "      <td>1026.0</td>\n",
              "      <td>1003.384615</td>\n",
              "      <td>1114.807692</td>\n",
              "      <td>2026.0</td>\n",
              "      <td>70537 330 5 1 5.0 112.0 1 1026.0 1003.38461538...</td>\n",
              "      <td>Saturday</td>\n",
              "      <td>6</td>\n",
              "    </tr>\n",
              "    <tr>\n",
              "      <th>15458</th>\n",
              "      <td>76105</td>\n",
              "      <td>363</td>\n",
              "      <td>5</td>\n",
              "      <td>0</td>\n",
              "      <td>2009-09-17</td>\n",
              "      <td>I have one tradition when I visit New York- I ...</td>\n",
              "      <td>839</td>\n",
              "      <td>149</td>\n",
              "      <td>5</td>\n",
              "      <td>5.593333</td>\n",
              "      <td>22</td>\n",
              "      <td>1</td>\n",
              "      <td>5.0</td>\n",
              "      <td>149.0</td>\n",
              "      <td>1</td>\n",
              "      <td>3075.0</td>\n",
              "      <td>1003.990361</td>\n",
              "      <td>1114.980241</td>\n",
              "      <td>4075.0</td>\n",
              "      <td>76105 363 5 1 5.0 149.0 1 3075.0 1003.99036144...</td>\n",
              "      <td>Thursday</td>\n",
              "      <td>19</td>\n",
              "    </tr>\n",
              "    <tr>\n",
              "      <th>8091</th>\n",
              "      <td>118558</td>\n",
              "      <td>278</td>\n",
              "      <td>4</td>\n",
              "      <td>1</td>\n",
              "      <td>2014-08-19</td>\n",
              "      <td>This place was very tasty! The fish taco and e...</td>\n",
              "      <td>238</td>\n",
              "      <td>42</td>\n",
              "      <td>1</td>\n",
              "      <td>5.534884</td>\n",
              "      <td>7</td>\n",
              "      <td>1</td>\n",
              "      <td>4.0</td>\n",
              "      <td>42.0</td>\n",
              "      <td>1</td>\n",
              "      <td>1053.0</td>\n",
              "      <td>1003.773585</td>\n",
              "      <td>1097.471698</td>\n",
              "      <td>2053.0</td>\n",
              "      <td>118558 278 4 1 4.0 42.0 1 1053.0 1003.77358490...</td>\n",
              "      <td>Tuesday</td>\n",
              "      <td>5</td>\n",
              "    </tr>\n",
              "    <tr>\n",
              "      <th>...</th>\n",
              "      <td>...</td>\n",
              "      <td>...</td>\n",
              "      <td>...</td>\n",
              "      <td>...</td>\n",
              "      <td>...</td>\n",
              "      <td>...</td>\n",
              "      <td>...</td>\n",
              "      <td>...</td>\n",
              "      <td>...</td>\n",
              "      <td>...</td>\n",
              "      <td>...</td>\n",
              "      <td>...</td>\n",
              "      <td>...</td>\n",
              "      <td>...</td>\n",
              "      <td>...</td>\n",
              "      <td>...</td>\n",
              "      <td>...</td>\n",
              "      <td>...</td>\n",
              "      <td>...</td>\n",
              "      <td>...</td>\n",
              "      <td>...</td>\n",
              "      <td>...</td>\n",
              "    </tr>\n",
              "    <tr>\n",
              "      <th>13123</th>\n",
              "      <td>4181</td>\n",
              "      <td>632</td>\n",
              "      <td>4</td>\n",
              "      <td>1</td>\n",
              "      <td>2014-07-24</td>\n",
              "      <td>We wanted a real New York pizza and we found i...</td>\n",
              "      <td>187</td>\n",
              "      <td>34</td>\n",
              "      <td>0</td>\n",
              "      <td>5.342857</td>\n",
              "      <td>12</td>\n",
              "      <td>10</td>\n",
              "      <td>4.4</td>\n",
              "      <td>60.0</td>\n",
              "      <td>2</td>\n",
              "      <td>1056.0</td>\n",
              "      <td>1004.196429</td>\n",
              "      <td>1068.767857</td>\n",
              "      <td>2056.0</td>\n",
              "      <td>4181 632 4 10 4.4 60.0 2 1056.0 1004.196428571...</td>\n",
              "      <td>Thursday</td>\n",
              "      <td>5</td>\n",
              "    </tr>\n",
              "    <tr>\n",
              "      <th>3264</th>\n",
              "      <td>71687</td>\n",
              "      <td>674</td>\n",
              "      <td>5</td>\n",
              "      <td>1</td>\n",
              "      <td>2011-07-19</td>\n",
              "      <td>We went here for the crepes, and it certainly ...</td>\n",
              "      <td>617</td>\n",
              "      <td>111</td>\n",
              "      <td>0</td>\n",
              "      <td>5.508929</td>\n",
              "      <td>22</td>\n",
              "      <td>1</td>\n",
              "      <td>5.0</td>\n",
              "      <td>111.0</td>\n",
              "      <td>1</td>\n",
              "      <td>1012.0</td>\n",
              "      <td>1004.750000</td>\n",
              "      <td>1096.666667</td>\n",
              "      <td>2012.0</td>\n",
              "      <td>71687 674 5 1 5.0 111.0 1 1012.0 1004.75 1096....</td>\n",
              "      <td>Tuesday</td>\n",
              "      <td>6</td>\n",
              "    </tr>\n",
              "    <tr>\n",
              "      <th>9845</th>\n",
              "      <td>73356</td>\n",
              "      <td>350</td>\n",
              "      <td>3</td>\n",
              "      <td>0</td>\n",
              "      <td>2014-06-09</td>\n",
              "      <td>Gladys, you are great. Drinks: Sit at the bar ...</td>\n",
              "      <td>1139</td>\n",
              "      <td>206</td>\n",
              "      <td>4</td>\n",
              "      <td>5.502415</td>\n",
              "      <td>34</td>\n",
              "      <td>1</td>\n",
              "      <td>3.0</td>\n",
              "      <td>206.0</td>\n",
              "      <td>1</td>\n",
              "      <td>1075.0</td>\n",
              "      <td>1004.093333</td>\n",
              "      <td>1115.906667</td>\n",
              "      <td>2075.0</td>\n",
              "      <td>73356 350 3 1 3.0 206.0 1 1075.0 1004.09333333...</td>\n",
              "      <td>Monday</td>\n",
              "      <td>27</td>\n",
              "    </tr>\n",
              "    <tr>\n",
              "      <th>10799</th>\n",
              "      <td>73826</td>\n",
              "      <td>352</td>\n",
              "      <td>4</td>\n",
              "      <td>0</td>\n",
              "      <td>2013-07-15</td>\n",
              "      <td>Yummyyy! Love kati rolls! I've had the chicken...</td>\n",
              "      <td>342</td>\n",
              "      <td>67</td>\n",
              "      <td>3</td>\n",
              "      <td>5.029412</td>\n",
              "      <td>11</td>\n",
              "      <td>1</td>\n",
              "      <td>4.0</td>\n",
              "      <td>67.0</td>\n",
              "      <td>1</td>\n",
              "      <td>1694.0</td>\n",
              "      <td>1003.789625</td>\n",
              "      <td>1088.766571</td>\n",
              "      <td>2694.0</td>\n",
              "      <td>73826 352 4 1 4.0 67.0 1 1694.0 1003.789625360...</td>\n",
              "      <td>Monday</td>\n",
              "      <td>4</td>\n",
              "    </tr>\n",
              "    <tr>\n",
              "      <th>2732</th>\n",
              "      <td>68819</td>\n",
              "      <td>312</td>\n",
              "      <td>4</td>\n",
              "      <td>1</td>\n",
              "      <td>2009-08-31</td>\n",
              "      <td>Absolutely fantastic. One of the best meals I'...</td>\n",
              "      <td>168</td>\n",
              "      <td>31</td>\n",
              "      <td>1</td>\n",
              "      <td>5.250000</td>\n",
              "      <td>5</td>\n",
              "      <td>2</td>\n",
              "      <td>4.0</td>\n",
              "      <td>76.0</td>\n",
              "      <td>1</td>\n",
              "      <td>1122.0</td>\n",
              "      <td>1003.762295</td>\n",
              "      <td>1083.385246</td>\n",
              "      <td>2122.0</td>\n",
              "      <td>68819 312 4 2 4.0 76.0 1 1122.0 1003.762295081...</td>\n",
              "      <td>Monday</td>\n",
              "      <td>3</td>\n",
              "    </tr>\n",
              "  </tbody>\n",
              "</table>\n",
              "<p>4369 rows × 22 columns</p>\n",
              "</div>"
            ],
            "text/plain": [
              "       user_id  prod_id  ...  day_of_week  title_word_count\n",
              "516       4162      250  ...      Tuesday                34\n",
              "7036     56480      439  ...    Wednesday                 7\n",
              "3033     70537      330  ...     Saturday                 6\n",
              "15458    76105      363  ...     Thursday                19\n",
              "8091    118558      278  ...      Tuesday                 5\n",
              "...        ...      ...  ...          ...               ...\n",
              "13123     4181      632  ...     Thursday                 5\n",
              "3264     71687      674  ...      Tuesday                 6\n",
              "9845     73356      350  ...       Monday                27\n",
              "10799    73826      352  ...       Monday                 4\n",
              "2732     68819      312  ...       Monday                 3\n",
              "\n",
              "[4369 rows x 22 columns]"
            ]
          },
          "metadata": {
            "tags": []
          },
          "execution_count": 40
        }
      ]
    },
    {
      "cell_type": "code",
      "metadata": {
        "id": "cJzzfIOl0_Og"
      },
      "source": [
        "def create_model(is_predicting, input_ids, input_mask, segment_ids, labels,\r\n",
        "                 num_labels):\r\n",
        "  \"\"\"Creates a classification model.\"\"\"\r\n",
        "\r\n",
        "  bert_module = hub.Module(\r\n",
        "      BERT_MODEL_HUB,\r\n",
        "      trainable=True)\r\n",
        "  bert_inputs = dict(\r\n",
        "      input_ids=input_ids,\r\n",
        "      input_mask=input_mask,\r\n",
        "      segment_ids=segment_ids)\r\n",
        "  bert_outputs = bert_module(\r\n",
        "      inputs=bert_inputs,\r\n",
        "      signature=\"tokens\",\r\n",
        "      as_dict=True)\r\n",
        "\r\n",
        "  # Use \"pooled_output\" for classification tasks on an entire sentence.\r\n",
        "  # Use \"sequence_outputs\" for token-level output.\r\n",
        "  output_layer = bert_outputs[\"pooled_output\"]\r\n",
        "\r\n",
        "  hidden_size = output_layer.shape[-1].value\r\n",
        "\r\n",
        "  # Create our own layer to tune for politeness data.\r\n",
        "  output_weights = tf.get_variable(\r\n",
        "      \"output_weights\", [num_labels, hidden_size],\r\n",
        "      initializer=tf.truncated_normal_initializer(stddev=0.02))\r\n",
        "\r\n",
        "  output_bias = tf.get_variable(\r\n",
        "      \"output_bias\", [num_labels], initializer=tf.zeros_initializer())\r\n",
        "\r\n",
        "  with tf.variable_scope(\"loss\"):\r\n",
        "\r\n",
        "    # Dropout helps prevent overfitting\r\n",
        "    output_layer = tf.nn.dropout(output_layer, keep_prob=0.7)\r\n",
        "\r\n",
        "    logits = tf.matmul(output_layer, output_weights, transpose_b=True)\r\n",
        "    logits = tf.nn.bias_add(logits, output_bias)\r\n",
        "    log_probs = tf.nn.log_softmax(logits, axis=-1)\r\n",
        "\r\n",
        "    # Convert labels into one-hot encoding\r\n",
        "    one_hot_labels = tf.one_hot(labels, depth=num_labels, dtype=tf.float32)\r\n",
        "\r\n",
        "    predicted_labels = tf.squeeze(tf.argmax(log_probs, axis=-1, output_type=tf.int32))\r\n",
        "    # If we're predicting, we want predicted labels and the probabiltiies.\r\n",
        "    if is_predicting:\r\n",
        "      return (predicted_labels, log_probs)\r\n",
        "\r\n",
        "    # If we're train/eval, compute loss between predicted and actual label\r\n",
        "    per_example_loss = -tf.reduce_sum(one_hot_labels * log_probs, axis=-1)\r\n",
        "    loss = tf.reduce_mean(per_example_loss)\r\n",
        "    return (loss, predicted_labels, log_probs)"
      ],
      "execution_count": 41,
      "outputs": []
    },
    {
      "cell_type": "code",
      "metadata": {
        "id": "STb7M5Sm1E1Z"
      },
      "source": [
        "# model_fn_builder actually creates our model function\r\n",
        "# using the passed parameters for num_labels, learning_rate, etc.\r\n",
        "def model_fn_builder(num_labels, learning_rate, num_train_steps,\r\n",
        "                     num_warmup_steps):\r\n",
        "  \"\"\"Returns `model_fn` closure for TPUEstimator.\"\"\"\r\n",
        "  def model_fn(features, labels, mode, params):  # pylint: disable=unused-argument\r\n",
        "    \"\"\"The `model_fn` for TPUEstimator.\"\"\"\r\n",
        "\r\n",
        "    input_ids = features[\"input_ids\"]\r\n",
        "    input_mask = features[\"input_mask\"]\r\n",
        "    segment_ids = features[\"segment_ids\"]\r\n",
        "    label_ids = features[\"label_ids\"]\r\n",
        "\r\n",
        "    is_predicting = (mode == tf.estimator.ModeKeys.PREDICT)\r\n",
        "    \r\n",
        "    # TRAIN and EVAL\r\n",
        "    if not is_predicting:\r\n",
        "\r\n",
        "      (loss, predicted_labels, log_probs) = create_model(\r\n",
        "        is_predicting, input_ids, input_mask, segment_ids, label_ids, num_labels)\r\n",
        "\r\n",
        "      train_op = bert.optimization.create_optimizer(\r\n",
        "          loss, learning_rate, num_train_steps, num_warmup_steps, use_tpu=False)\r\n",
        "\r\n",
        "      # Calculate evaluation metrics. \r\n",
        "      def metric_fn(label_ids, predicted_labels):\r\n",
        "        accuracy = tf.metrics.accuracy(label_ids, predicted_labels)\r\n",
        "        f1_score = tf.contrib.metrics.f1_score(\r\n",
        "            label_ids,\r\n",
        "            predicted_labels)\r\n",
        "        auc = tf.metrics.auc(\r\n",
        "            label_ids,\r\n",
        "            predicted_labels)\r\n",
        "        recall = tf.metrics.recall(\r\n",
        "            label_ids,\r\n",
        "            predicted_labels)\r\n",
        "        precision = tf.metrics.precision(\r\n",
        "            label_ids,\r\n",
        "            predicted_labels) \r\n",
        "        true_pos = tf.metrics.true_positives(\r\n",
        "            label_ids,\r\n",
        "            predicted_labels)\r\n",
        "        true_neg = tf.metrics.true_negatives(\r\n",
        "            label_ids,\r\n",
        "            predicted_labels)   \r\n",
        "        false_pos = tf.metrics.false_positives(\r\n",
        "            label_ids,\r\n",
        "            predicted_labels)  \r\n",
        "        false_neg = tf.metrics.false_negatives(\r\n",
        "            label_ids,\r\n",
        "            predicted_labels)\r\n",
        "        return {\r\n",
        "            \"eval_accuracy\": accuracy,\r\n",
        "            \"f1_score\": f1_score,\r\n",
        "            \"auc\": auc,\r\n",
        "            \"precision\": precision,\r\n",
        "            \"recall\": recall,\r\n",
        "            \"true_positives\": true_pos,\r\n",
        "            \"true_negatives\": true_neg,\r\n",
        "            \"false_positives\": false_pos,\r\n",
        "            \"false_negatives\": false_neg\r\n",
        "        }\r\n",
        "\r\n",
        "      eval_metrics = metric_fn(label_ids, predicted_labels)\r\n",
        "\r\n",
        "      if mode == tf.estimator.ModeKeys.TRAIN:\r\n",
        "        return tf.estimator.EstimatorSpec(mode=mode,\r\n",
        "          loss=loss,\r\n",
        "          train_op=train_op)\r\n",
        "      else:\r\n",
        "          return tf.estimator.EstimatorSpec(mode=mode,\r\n",
        "            loss=loss,\r\n",
        "            eval_metric_ops=eval_metrics)\r\n",
        "    else:\r\n",
        "      (predicted_labels, log_probs) = create_model(\r\n",
        "        is_predicting, input_ids, input_mask, segment_ids, label_ids, num_labels)\r\n",
        "\r\n",
        "      predictions = {\r\n",
        "          'probabilities': log_probs,\r\n",
        "          'labels': predicted_labels\r\n",
        "      }\r\n",
        "      return tf.estimator.EstimatorSpec(mode, predictions=predictions)\r\n",
        "\r\n",
        "  # Return the actual model function in the closure\r\n",
        "  return model_fn"
      ],
      "execution_count": 42,
      "outputs": []
    },
    {
      "cell_type": "code",
      "metadata": {
        "id": "uIAss8Yo1YCQ"
      },
      "source": [
        "# Compute train and warmup steps from batch size\r\n",
        "# These hyperparameters are copied from this colab notebook (https://colab.sandbox.google.com/github/tensorflow/tpu/blob/master/tools/colab/bert_finetuning_with_cloud_tpus.ipynb)\r\n",
        "BATCH_SIZE = 32\r\n",
        "LEARNING_RATE = 2e-5\r\n",
        "NUM_TRAIN_EPOCHS = 2.0\r\n",
        "# Warmup is a period of time where hte learning rate \r\n",
        "# is small and gradually increases--usually helps train.\r\n",
        "WARMUP_PROPORTION = 0.1\r\n",
        "# Model configs\r\n",
        "SAVE_CHECKPOINTS_STEPS = 500\r\n",
        "SAVE_SUMMARY_STEPS = 100"
      ],
      "execution_count": 43,
      "outputs": []
    },
    {
      "cell_type": "code",
      "metadata": {
        "id": "N6NdRoyo1bOj"
      },
      "source": [
        "# Compute # train and warmup steps from batch size\r\n",
        "num_train_steps = int(len(train_features) / BATCH_SIZE * NUM_TRAIN_EPOCHS)\r\n",
        "num_warmup_steps = int(num_train_steps * WARMUP_PROPORTION)"
      ],
      "execution_count": 44,
      "outputs": []
    },
    {
      "cell_type": "code",
      "metadata": {
        "colab": {
          "base_uri": "https://localhost:8080/"
        },
        "id": "G-v-CrTl1jJM",
        "outputId": "babbe123-b654-40eb-aadd-e056e87cb3d3"
      },
      "source": [
        "num_train_steps"
      ],
      "execution_count": 45,
      "outputs": [
        {
          "output_type": "execute_result",
          "data": {
            "text/plain": [
              "437"
            ]
          },
          "metadata": {
            "tags": []
          },
          "execution_count": 45
        }
      ]
    },
    {
      "cell_type": "code",
      "metadata": {
        "id": "pwkw-Cts1lgd"
      },
      "source": [
        "# Specify outpit directory and number of checkpoint steps to save\r\n",
        "run_config = tf.estimator.RunConfig(\r\n",
        "    model_dir=OUTPUT_DIR,\r\n",
        "    save_summary_steps=SAVE_SUMMARY_STEPS,\r\n",
        "    save_checkpoints_steps=SAVE_CHECKPOINTS_STEPS)"
      ],
      "execution_count": 46,
      "outputs": []
    },
    {
      "cell_type": "code",
      "metadata": {
        "colab": {
          "base_uri": "https://localhost:8080/"
        },
        "id": "hhMdQarK1qet",
        "outputId": "5da1c924-3087-4e67-cdbf-e1cd08ab7381"
      },
      "source": [
        "model_fn = model_fn_builder(\r\n",
        "  num_labels=len(label_list),\r\n",
        "  learning_rate=LEARNING_RATE,\r\n",
        "  num_train_steps=num_train_steps,\r\n",
        "  num_warmup_steps=num_warmup_steps)\r\n",
        "\r\n",
        "estimator = tf.estimator.Estimator(\r\n",
        "  model_fn=model_fn,\r\n",
        "  params={\"batch_size\": BATCH_SIZE})"
      ],
      "execution_count": 47,
      "outputs": [
        {
          "output_type": "stream",
          "text": [
            "INFO:tensorflow:Using default config.\n"
          ],
          "name": "stdout"
        },
        {
          "output_type": "stream",
          "text": [
            "INFO:tensorflow:Using default config.\n"
          ],
          "name": "stderr"
        },
        {
          "output_type": "stream",
          "text": [
            "WARNING:tensorflow:Using temporary folder as model directory: /tmp/tmpupmjtpf5\n"
          ],
          "name": "stdout"
        },
        {
          "output_type": "stream",
          "text": [
            "WARNING:tensorflow:Using temporary folder as model directory: /tmp/tmpupmjtpf5\n"
          ],
          "name": "stderr"
        },
        {
          "output_type": "stream",
          "text": [
            "INFO:tensorflow:Using config: {'_model_dir': '/tmp/tmpupmjtpf5', '_tf_random_seed': None, '_save_summary_steps': 100, '_save_checkpoints_steps': None, '_save_checkpoints_secs': 600, '_session_config': allow_soft_placement: true\n",
            "graph_options {\n",
            "  rewrite_options {\n",
            "    meta_optimizer_iterations: ONE\n",
            "  }\n",
            "}\n",
            ", '_keep_checkpoint_max': 5, '_keep_checkpoint_every_n_hours': 10000, '_log_step_count_steps': 100, '_train_distribute': None, '_device_fn': None, '_protocol': None, '_eval_distribute': None, '_experimental_distribute': None, '_experimental_max_worker_delay_secs': None, '_session_creation_timeout_secs': 7200, '_service': None, '_cluster_spec': <tensorflow.python.training.server_lib.ClusterSpec object at 0x7f758cca8b90>, '_task_type': 'worker', '_task_id': 0, '_global_id_in_cluster': 0, '_master': '', '_evaluation_master': '', '_is_chief': True, '_num_ps_replicas': 0, '_num_worker_replicas': 1}\n"
          ],
          "name": "stdout"
        },
        {
          "output_type": "stream",
          "text": [
            "INFO:tensorflow:Using config: {'_model_dir': '/tmp/tmpupmjtpf5', '_tf_random_seed': None, '_save_summary_steps': 100, '_save_checkpoints_steps': None, '_save_checkpoints_secs': 600, '_session_config': allow_soft_placement: true\n",
            "graph_options {\n",
            "  rewrite_options {\n",
            "    meta_optimizer_iterations: ONE\n",
            "  }\n",
            "}\n",
            ", '_keep_checkpoint_max': 5, '_keep_checkpoint_every_n_hours': 10000, '_log_step_count_steps': 100, '_train_distribute': None, '_device_fn': None, '_protocol': None, '_eval_distribute': None, '_experimental_distribute': None, '_experimental_max_worker_delay_secs': None, '_session_creation_timeout_secs': 7200, '_service': None, '_cluster_spec': <tensorflow.python.training.server_lib.ClusterSpec object at 0x7f758cca8b90>, '_task_type': 'worker', '_task_id': 0, '_global_id_in_cluster': 0, '_master': '', '_evaluation_master': '', '_is_chief': True, '_num_ps_replicas': 0, '_num_worker_replicas': 1}\n"
          ],
          "name": "stderr"
        }
      ]
    },
    {
      "cell_type": "code",
      "metadata": {
        "id": "aqW_mMes1sV2"
      },
      "source": [
        "# Create an input function for training. drop_remainder = True for using TPUs.\r\n",
        "train_input_fn = bert.run_classifier.input_fn_builder(\r\n",
        "    features=train_features,\r\n",
        "    seq_length=MAX_SEQ_LENGTH,\r\n",
        "    is_training=True,\r\n",
        "    drop_remainder=False)"
      ],
      "execution_count": 48,
      "outputs": []
    },
    {
      "cell_type": "code",
      "metadata": {
        "colab": {
          "base_uri": "https://localhost:8080/"
        },
        "id": "VSxq5Z-B1wdP",
        "outputId": "9a8772a8-69d2-43a6-9d76-16a492e6f940"
      },
      "source": [
        "print(f'Beginning Training!')\r\n",
        "#current_time = datetime.now()\r\n",
        "estimator.train(input_fn=train_input_fn, max_steps=num_train_steps)\r\n",
        "print(\"Training took time \")"
      ],
      "execution_count": 49,
      "outputs": [
        {
          "output_type": "stream",
          "text": [
            "Beginning Training!\n",
            "WARNING:tensorflow:From /tensorflow-1.15.2/python3.7/tensorflow_core/python/training/training_util.py:236: Variable.initialized_value (from tensorflow.python.ops.variables) is deprecated and will be removed in a future version.\n",
            "Instructions for updating:\n",
            "Use Variable.read_value. Variables in 2.X are initialized automatically both in eager and graph (inside tf.defun) contexts.\n"
          ],
          "name": "stdout"
        },
        {
          "output_type": "stream",
          "text": [
            "WARNING:tensorflow:From /tensorflow-1.15.2/python3.7/tensorflow_core/python/training/training_util.py:236: Variable.initialized_value (from tensorflow.python.ops.variables) is deprecated and will be removed in a future version.\n",
            "Instructions for updating:\n",
            "Use Variable.read_value. Variables in 2.X are initialized automatically both in eager and graph (inside tf.defun) contexts.\n"
          ],
          "name": "stderr"
        },
        {
          "output_type": "stream",
          "text": [
            "INFO:tensorflow:Calling model_fn.\n"
          ],
          "name": "stdout"
        },
        {
          "output_type": "stream",
          "text": [
            "INFO:tensorflow:Calling model_fn.\n"
          ],
          "name": "stderr"
        },
        {
          "output_type": "stream",
          "text": [
            "INFO:tensorflow:Saver not created because there are no variables in the graph to restore\n"
          ],
          "name": "stdout"
        },
        {
          "output_type": "stream",
          "text": [
            "INFO:tensorflow:Saver not created because there are no variables in the graph to restore\n"
          ],
          "name": "stderr"
        },
        {
          "output_type": "stream",
          "text": [
            "WARNING:tensorflow:From <ipython-input-41-de93265b2c41>:34: calling dropout (from tensorflow.python.ops.nn_ops) with keep_prob is deprecated and will be removed in a future version.\n",
            "Instructions for updating:\n",
            "Please use `rate` instead of `keep_prob`. Rate should be set to `rate = 1 - keep_prob`.\n"
          ],
          "name": "stdout"
        },
        {
          "output_type": "stream",
          "text": [
            "WARNING:tensorflow:From <ipython-input-41-de93265b2c41>:34: calling dropout (from tensorflow.python.ops.nn_ops) with keep_prob is deprecated and will be removed in a future version.\n",
            "Instructions for updating:\n",
            "Please use `rate` instead of `keep_prob`. Rate should be set to `rate = 1 - keep_prob`.\n"
          ],
          "name": "stderr"
        },
        {
          "output_type": "stream",
          "text": [
            "WARNING:tensorflow:From /usr/local/lib/python3.7/dist-packages/bert/optimization.py:27: The name tf.train.get_or_create_global_step is deprecated. Please use tf.compat.v1.train.get_or_create_global_step instead.\n",
            "\n"
          ],
          "name": "stdout"
        },
        {
          "output_type": "stream",
          "text": [
            "WARNING:tensorflow:From /usr/local/lib/python3.7/dist-packages/bert/optimization.py:27: The name tf.train.get_or_create_global_step is deprecated. Please use tf.compat.v1.train.get_or_create_global_step instead.\n",
            "\n"
          ],
          "name": "stderr"
        },
        {
          "output_type": "stream",
          "text": [
            "WARNING:tensorflow:From /usr/local/lib/python3.7/dist-packages/bert/optimization.py:32: The name tf.train.polynomial_decay is deprecated. Please use tf.compat.v1.train.polynomial_decay instead.\n",
            "\n"
          ],
          "name": "stdout"
        },
        {
          "output_type": "stream",
          "text": [
            "WARNING:tensorflow:From /usr/local/lib/python3.7/dist-packages/bert/optimization.py:32: The name tf.train.polynomial_decay is deprecated. Please use tf.compat.v1.train.polynomial_decay instead.\n",
            "\n"
          ],
          "name": "stderr"
        },
        {
          "output_type": "stream",
          "text": [
            "WARNING:tensorflow:From /usr/local/lib/python3.7/dist-packages/bert/optimization.py:70: The name tf.trainable_variables is deprecated. Please use tf.compat.v1.trainable_variables instead.\n",
            "\n"
          ],
          "name": "stdout"
        },
        {
          "output_type": "stream",
          "text": [
            "WARNING:tensorflow:From /usr/local/lib/python3.7/dist-packages/bert/optimization.py:70: The name tf.trainable_variables is deprecated. Please use tf.compat.v1.trainable_variables instead.\n",
            "\n"
          ],
          "name": "stderr"
        },
        {
          "output_type": "stream",
          "text": [
            "WARNING:tensorflow:From /tensorflow-1.15.2/python3.7/tensorflow_core/python/ops/math_grad.py:1375: where (from tensorflow.python.ops.array_ops) is deprecated and will be removed in a future version.\n",
            "Instructions for updating:\n",
            "Use tf.where in 2.0, which has the same broadcast rule as np.where\n"
          ],
          "name": "stdout"
        },
        {
          "output_type": "stream",
          "text": [
            "WARNING:tensorflow:From /tensorflow-1.15.2/python3.7/tensorflow_core/python/ops/math_grad.py:1375: where (from tensorflow.python.ops.array_ops) is deprecated and will be removed in a future version.\n",
            "Instructions for updating:\n",
            "Use tf.where in 2.0, which has the same broadcast rule as np.where\n",
            "/tensorflow-1.15.2/python3.7/tensorflow_core/python/framework/indexed_slices.py:424: UserWarning: Converting sparse IndexedSlices to a dense Tensor of unknown shape. This may consume a large amount of memory.\n",
            "  \"Converting sparse IndexedSlices to a dense Tensor of unknown shape. \"\n"
          ],
          "name": "stderr"
        },
        {
          "output_type": "stream",
          "text": [
            "WARNING:tensorflow:\n",
            "The TensorFlow contrib module will not be included in TensorFlow 2.0.\n",
            "For more information, please see:\n",
            "  * https://github.com/tensorflow/community/blob/master/rfcs/20180907-contrib-sunset.md\n",
            "  * https://github.com/tensorflow/addons\n",
            "  * https://github.com/tensorflow/io (for I/O related ops)\n",
            "If you depend on functionality not listed there, please file an issue.\n",
            "\n"
          ],
          "name": "stdout"
        },
        {
          "output_type": "stream",
          "text": [
            "WARNING:tensorflow:\n",
            "The TensorFlow contrib module will not be included in TensorFlow 2.0.\n",
            "For more information, please see:\n",
            "  * https://github.com/tensorflow/community/blob/master/rfcs/20180907-contrib-sunset.md\n",
            "  * https://github.com/tensorflow/addons\n",
            "  * https://github.com/tensorflow/io (for I/O related ops)\n",
            "If you depend on functionality not listed there, please file an issue.\n",
            "\n"
          ],
          "name": "stderr"
        },
        {
          "output_type": "stream",
          "text": [
            "WARNING:tensorflow:From /tensorflow-1.15.2/python3.7/tensorflow_core/contrib/metrics/python/metrics/classification.py:162: div (from tensorflow.python.ops.math_ops) is deprecated and will be removed in a future version.\n",
            "Instructions for updating:\n",
            "Deprecated in favor of operator or tf.math.divide.\n"
          ],
          "name": "stdout"
        },
        {
          "output_type": "stream",
          "text": [
            "WARNING:tensorflow:From /tensorflow-1.15.2/python3.7/tensorflow_core/contrib/metrics/python/metrics/classification.py:162: div (from tensorflow.python.ops.math_ops) is deprecated and will be removed in a future version.\n",
            "Instructions for updating:\n",
            "Deprecated in favor of operator or tf.math.divide.\n"
          ],
          "name": "stderr"
        },
        {
          "output_type": "stream",
          "text": [
            "INFO:tensorflow:Done calling model_fn.\n"
          ],
          "name": "stdout"
        },
        {
          "output_type": "stream",
          "text": [
            "INFO:tensorflow:Done calling model_fn.\n"
          ],
          "name": "stderr"
        },
        {
          "output_type": "stream",
          "text": [
            "INFO:tensorflow:Create CheckpointSaverHook.\n"
          ],
          "name": "stdout"
        },
        {
          "output_type": "stream",
          "text": [
            "INFO:tensorflow:Create CheckpointSaverHook.\n"
          ],
          "name": "stderr"
        },
        {
          "output_type": "stream",
          "text": [
            "INFO:tensorflow:Graph was finalized.\n"
          ],
          "name": "stdout"
        },
        {
          "output_type": "stream",
          "text": [
            "INFO:tensorflow:Graph was finalized.\n"
          ],
          "name": "stderr"
        },
        {
          "output_type": "stream",
          "text": [
            "INFO:tensorflow:Running local_init_op.\n"
          ],
          "name": "stdout"
        },
        {
          "output_type": "stream",
          "text": [
            "INFO:tensorflow:Running local_init_op.\n"
          ],
          "name": "stderr"
        },
        {
          "output_type": "stream",
          "text": [
            "INFO:tensorflow:Done running local_init_op.\n"
          ],
          "name": "stdout"
        },
        {
          "output_type": "stream",
          "text": [
            "INFO:tensorflow:Done running local_init_op.\n"
          ],
          "name": "stderr"
        },
        {
          "output_type": "stream",
          "text": [
            "INFO:tensorflow:Saving checkpoints for 0 into /tmp/tmpupmjtpf5/model.ckpt.\n"
          ],
          "name": "stdout"
        },
        {
          "output_type": "stream",
          "text": [
            "INFO:tensorflow:Saving checkpoints for 0 into /tmp/tmpupmjtpf5/model.ckpt.\n"
          ],
          "name": "stderr"
        },
        {
          "output_type": "stream",
          "text": [
            "INFO:tensorflow:loss = 0.70491654, step = 1\n"
          ],
          "name": "stdout"
        },
        {
          "output_type": "stream",
          "text": [
            "INFO:tensorflow:loss = 0.70491654, step = 1\n"
          ],
          "name": "stderr"
        },
        {
          "output_type": "stream",
          "text": [
            "INFO:tensorflow:Saving checkpoints for 14 into /tmp/tmpupmjtpf5/model.ckpt.\n"
          ],
          "name": "stdout"
        },
        {
          "output_type": "stream",
          "text": [
            "INFO:tensorflow:Saving checkpoints for 14 into /tmp/tmpupmjtpf5/model.ckpt.\n"
          ],
          "name": "stderr"
        },
        {
          "output_type": "stream",
          "text": [
            "INFO:tensorflow:Saving checkpoints for 28 into /tmp/tmpupmjtpf5/model.ckpt.\n"
          ],
          "name": "stdout"
        },
        {
          "output_type": "stream",
          "text": [
            "INFO:tensorflow:Saving checkpoints for 28 into /tmp/tmpupmjtpf5/model.ckpt.\n"
          ],
          "name": "stderr"
        },
        {
          "output_type": "stream",
          "text": [
            "INFO:tensorflow:Saving checkpoints for 42 into /tmp/tmpupmjtpf5/model.ckpt.\n"
          ],
          "name": "stdout"
        },
        {
          "output_type": "stream",
          "text": [
            "INFO:tensorflow:Saving checkpoints for 42 into /tmp/tmpupmjtpf5/model.ckpt.\n"
          ],
          "name": "stderr"
        },
        {
          "output_type": "stream",
          "text": [
            "INFO:tensorflow:Saving checkpoints for 56 into /tmp/tmpupmjtpf5/model.ckpt.\n"
          ],
          "name": "stdout"
        },
        {
          "output_type": "stream",
          "text": [
            "INFO:tensorflow:Saving checkpoints for 56 into /tmp/tmpupmjtpf5/model.ckpt.\n"
          ],
          "name": "stderr"
        },
        {
          "output_type": "stream",
          "text": [
            "INFO:tensorflow:Saving checkpoints for 70 into /tmp/tmpupmjtpf5/model.ckpt.\n"
          ],
          "name": "stdout"
        },
        {
          "output_type": "stream",
          "text": [
            "INFO:tensorflow:Saving checkpoints for 70 into /tmp/tmpupmjtpf5/model.ckpt.\n"
          ],
          "name": "stderr"
        },
        {
          "output_type": "stream",
          "text": [
            "WARNING:tensorflow:From /tensorflow-1.15.2/python3.7/tensorflow_core/python/training/saver.py:963: remove_checkpoint (from tensorflow.python.training.checkpoint_management) is deprecated and will be removed in a future version.\n",
            "Instructions for updating:\n",
            "Use standard file APIs to delete files with this prefix.\n"
          ],
          "name": "stdout"
        },
        {
          "output_type": "stream",
          "text": [
            "WARNING:tensorflow:From /tensorflow-1.15.2/python3.7/tensorflow_core/python/training/saver.py:963: remove_checkpoint (from tensorflow.python.training.checkpoint_management) is deprecated and will be removed in a future version.\n",
            "Instructions for updating:\n",
            "Use standard file APIs to delete files with this prefix.\n"
          ],
          "name": "stderr"
        },
        {
          "output_type": "stream",
          "text": [
            "INFO:tensorflow:Saving checkpoints for 84 into /tmp/tmpupmjtpf5/model.ckpt.\n"
          ],
          "name": "stdout"
        },
        {
          "output_type": "stream",
          "text": [
            "INFO:tensorflow:Saving checkpoints for 84 into /tmp/tmpupmjtpf5/model.ckpt.\n"
          ],
          "name": "stderr"
        },
        {
          "output_type": "stream",
          "text": [
            "WARNING:tensorflow:It seems that global step (tf.train.get_global_step) has not been increased. Current value (could be stable): 93 vs previous value: 93. You could increase the global step by passing tf.train.get_global_step() to Optimizer.apply_gradients or Optimizer.minimize.\n"
          ],
          "name": "stdout"
        },
        {
          "output_type": "stream",
          "text": [
            "WARNING:tensorflow:It seems that global step (tf.train.get_global_step) has not been increased. Current value (could be stable): 93 vs previous value: 93. You could increase the global step by passing tf.train.get_global_step() to Optimizer.apply_gradients or Optimizer.minimize.\n"
          ],
          "name": "stderr"
        },
        {
          "output_type": "stream",
          "text": [
            "WARNING:tensorflow:It seems that global step (tf.train.get_global_step) has not been increased. Current value (could be stable): 95 vs previous value: 95. You could increase the global step by passing tf.train.get_global_step() to Optimizer.apply_gradients or Optimizer.minimize.\n"
          ],
          "name": "stdout"
        },
        {
          "output_type": "stream",
          "text": [
            "WARNING:tensorflow:It seems that global step (tf.train.get_global_step) has not been increased. Current value (could be stable): 95 vs previous value: 95. You could increase the global step by passing tf.train.get_global_step() to Optimizer.apply_gradients or Optimizer.minimize.\n"
          ],
          "name": "stderr"
        },
        {
          "output_type": "stream",
          "text": [
            "INFO:tensorflow:Saving checkpoints for 98 into /tmp/tmpupmjtpf5/model.ckpt.\n"
          ],
          "name": "stdout"
        },
        {
          "output_type": "stream",
          "text": [
            "INFO:tensorflow:Saving checkpoints for 98 into /tmp/tmpupmjtpf5/model.ckpt.\n"
          ],
          "name": "stderr"
        },
        {
          "output_type": "stream",
          "text": [
            "INFO:tensorflow:global_step/sec: 0.0222399\n"
          ],
          "name": "stdout"
        },
        {
          "output_type": "stream",
          "text": [
            "INFO:tensorflow:global_step/sec: 0.0222399\n"
          ],
          "name": "stderr"
        },
        {
          "output_type": "stream",
          "text": [
            "INFO:tensorflow:loss = 0.25904164, step = 101 (4496.463 sec)\n"
          ],
          "name": "stdout"
        },
        {
          "output_type": "stream",
          "text": [
            "INFO:tensorflow:loss = 0.25904164, step = 101 (4496.463 sec)\n"
          ],
          "name": "stderr"
        },
        {
          "output_type": "stream",
          "text": [
            "WARNING:tensorflow:It seems that global step (tf.train.get_global_step) has not been increased. Current value (could be stable): 101 vs previous value: 101. You could increase the global step by passing tf.train.get_global_step() to Optimizer.apply_gradients or Optimizer.minimize.\n"
          ],
          "name": "stdout"
        },
        {
          "output_type": "stream",
          "text": [
            "WARNING:tensorflow:It seems that global step (tf.train.get_global_step) has not been increased. Current value (could be stable): 101 vs previous value: 101. You could increase the global step by passing tf.train.get_global_step() to Optimizer.apply_gradients or Optimizer.minimize.\n"
          ],
          "name": "stderr"
        },
        {
          "output_type": "stream",
          "text": [
            "WARNING:tensorflow:It seems that global step (tf.train.get_global_step) has not been increased. Current value (could be stable): 103 vs previous value: 103. You could increase the global step by passing tf.train.get_global_step() to Optimizer.apply_gradients or Optimizer.minimize.\n"
          ],
          "name": "stdout"
        },
        {
          "output_type": "stream",
          "text": [
            "WARNING:tensorflow:It seems that global step (tf.train.get_global_step) has not been increased. Current value (could be stable): 103 vs previous value: 103. You could increase the global step by passing tf.train.get_global_step() to Optimizer.apply_gradients or Optimizer.minimize.\n"
          ],
          "name": "stderr"
        },
        {
          "output_type": "stream",
          "text": [
            "WARNING:tensorflow:It seems that global step (tf.train.get_global_step) has not been increased. Current value (could be stable): 106 vs previous value: 106. You could increase the global step by passing tf.train.get_global_step() to Optimizer.apply_gradients or Optimizer.minimize.\n"
          ],
          "name": "stdout"
        },
        {
          "output_type": "stream",
          "text": [
            "WARNING:tensorflow:It seems that global step (tf.train.get_global_step) has not been increased. Current value (could be stable): 106 vs previous value: 106. You could increase the global step by passing tf.train.get_global_step() to Optimizer.apply_gradients or Optimizer.minimize.\n"
          ],
          "name": "stderr"
        },
        {
          "output_type": "stream",
          "text": [
            "INFO:tensorflow:Saving checkpoints for 111 into /tmp/tmpupmjtpf5/model.ckpt.\n"
          ],
          "name": "stdout"
        },
        {
          "output_type": "stream",
          "text": [
            "INFO:tensorflow:Saving checkpoints for 111 into /tmp/tmpupmjtpf5/model.ckpt.\n"
          ],
          "name": "stderr"
        },
        {
          "output_type": "stream",
          "text": [
            "INFO:tensorflow:Saving checkpoints for 125 into /tmp/tmpupmjtpf5/model.ckpt.\n"
          ],
          "name": "stdout"
        },
        {
          "output_type": "stream",
          "text": [
            "INFO:tensorflow:Saving checkpoints for 125 into /tmp/tmpupmjtpf5/model.ckpt.\n"
          ],
          "name": "stderr"
        },
        {
          "output_type": "stream",
          "text": [
            "INFO:tensorflow:Saving checkpoints for 139 into /tmp/tmpupmjtpf5/model.ckpt.\n"
          ],
          "name": "stdout"
        },
        {
          "output_type": "stream",
          "text": [
            "INFO:tensorflow:Saving checkpoints for 139 into /tmp/tmpupmjtpf5/model.ckpt.\n"
          ],
          "name": "stderr"
        },
        {
          "output_type": "stream",
          "text": [
            "INFO:tensorflow:Saving checkpoints for 153 into /tmp/tmpupmjtpf5/model.ckpt.\n"
          ],
          "name": "stdout"
        },
        {
          "output_type": "stream",
          "text": [
            "INFO:tensorflow:Saving checkpoints for 153 into /tmp/tmpupmjtpf5/model.ckpt.\n"
          ],
          "name": "stderr"
        },
        {
          "output_type": "stream",
          "text": [
            "INFO:tensorflow:Saving checkpoints for 167 into /tmp/tmpupmjtpf5/model.ckpt.\n"
          ],
          "name": "stdout"
        },
        {
          "output_type": "stream",
          "text": [
            "INFO:tensorflow:Saving checkpoints for 167 into /tmp/tmpupmjtpf5/model.ckpt.\n"
          ],
          "name": "stderr"
        },
        {
          "output_type": "stream",
          "text": [
            "INFO:tensorflow:Saving checkpoints for 181 into /tmp/tmpupmjtpf5/model.ckpt.\n"
          ],
          "name": "stdout"
        },
        {
          "output_type": "stream",
          "text": [
            "INFO:tensorflow:Saving checkpoints for 181 into /tmp/tmpupmjtpf5/model.ckpt.\n"
          ],
          "name": "stderr"
        },
        {
          "output_type": "stream",
          "text": [
            "INFO:tensorflow:Saving checkpoints for 195 into /tmp/tmpupmjtpf5/model.ckpt.\n"
          ],
          "name": "stdout"
        },
        {
          "output_type": "stream",
          "text": [
            "INFO:tensorflow:Saving checkpoints for 195 into /tmp/tmpupmjtpf5/model.ckpt.\n"
          ],
          "name": "stderr"
        },
        {
          "output_type": "stream",
          "text": [
            "INFO:tensorflow:global_step/sec: 0.0220149\n"
          ],
          "name": "stdout"
        },
        {
          "output_type": "stream",
          "text": [
            "INFO:tensorflow:global_step/sec: 0.0220149\n"
          ],
          "name": "stderr"
        },
        {
          "output_type": "stream",
          "text": [
            "INFO:tensorflow:loss = 0.24476098, step = 201 (4542.349 sec)\n"
          ],
          "name": "stdout"
        },
        {
          "output_type": "stream",
          "text": [
            "INFO:tensorflow:loss = 0.24476098, step = 201 (4542.349 sec)\n"
          ],
          "name": "stderr"
        },
        {
          "output_type": "stream",
          "text": [
            "INFO:tensorflow:Saving checkpoints for 209 into /tmp/tmpupmjtpf5/model.ckpt.\n"
          ],
          "name": "stdout"
        },
        {
          "output_type": "stream",
          "text": [
            "INFO:tensorflow:Saving checkpoints for 209 into /tmp/tmpupmjtpf5/model.ckpt.\n"
          ],
          "name": "stderr"
        },
        {
          "output_type": "stream",
          "text": [
            "INFO:tensorflow:Saving checkpoints for 223 into /tmp/tmpupmjtpf5/model.ckpt.\n"
          ],
          "name": "stdout"
        },
        {
          "output_type": "stream",
          "text": [
            "INFO:tensorflow:Saving checkpoints for 223 into /tmp/tmpupmjtpf5/model.ckpt.\n"
          ],
          "name": "stderr"
        },
        {
          "output_type": "stream",
          "text": [
            "INFO:tensorflow:Saving checkpoints for 237 into /tmp/tmpupmjtpf5/model.ckpt.\n"
          ],
          "name": "stdout"
        },
        {
          "output_type": "stream",
          "text": [
            "INFO:tensorflow:Saving checkpoints for 237 into /tmp/tmpupmjtpf5/model.ckpt.\n"
          ],
          "name": "stderr"
        },
        {
          "output_type": "stream",
          "text": [
            "INFO:tensorflow:Saving checkpoints for 251 into /tmp/tmpupmjtpf5/model.ckpt.\n"
          ],
          "name": "stdout"
        },
        {
          "output_type": "stream",
          "text": [
            "INFO:tensorflow:Saving checkpoints for 251 into /tmp/tmpupmjtpf5/model.ckpt.\n"
          ],
          "name": "stderr"
        },
        {
          "output_type": "stream",
          "text": [
            "INFO:tensorflow:Saving checkpoints for 265 into /tmp/tmpupmjtpf5/model.ckpt.\n"
          ],
          "name": "stdout"
        },
        {
          "output_type": "stream",
          "text": [
            "INFO:tensorflow:Saving checkpoints for 265 into /tmp/tmpupmjtpf5/model.ckpt.\n"
          ],
          "name": "stderr"
        },
        {
          "output_type": "stream",
          "text": [
            "INFO:tensorflow:Saving checkpoints for 279 into /tmp/tmpupmjtpf5/model.ckpt.\n"
          ],
          "name": "stdout"
        },
        {
          "output_type": "stream",
          "text": [
            "INFO:tensorflow:Saving checkpoints for 279 into /tmp/tmpupmjtpf5/model.ckpt.\n"
          ],
          "name": "stderr"
        },
        {
          "output_type": "stream",
          "text": [
            "INFO:tensorflow:Saving checkpoints for 293 into /tmp/tmpupmjtpf5/model.ckpt.\n"
          ],
          "name": "stdout"
        },
        {
          "output_type": "stream",
          "text": [
            "INFO:tensorflow:Saving checkpoints for 293 into /tmp/tmpupmjtpf5/model.ckpt.\n"
          ],
          "name": "stderr"
        },
        {
          "output_type": "stream",
          "text": [
            "INFO:tensorflow:global_step/sec: 0.0219547\n"
          ],
          "name": "stdout"
        },
        {
          "output_type": "stream",
          "text": [
            "INFO:tensorflow:global_step/sec: 0.0219547\n"
          ],
          "name": "stderr"
        },
        {
          "output_type": "stream",
          "text": [
            "INFO:tensorflow:loss = 0.22413605, step = 301 (4554.827 sec)\n"
          ],
          "name": "stdout"
        },
        {
          "output_type": "stream",
          "text": [
            "INFO:tensorflow:loss = 0.22413605, step = 301 (4554.827 sec)\n"
          ],
          "name": "stderr"
        },
        {
          "output_type": "stream",
          "text": [
            "INFO:tensorflow:Saving checkpoints for 307 into /tmp/tmpupmjtpf5/model.ckpt.\n"
          ],
          "name": "stdout"
        },
        {
          "output_type": "stream",
          "text": [
            "INFO:tensorflow:Saving checkpoints for 307 into /tmp/tmpupmjtpf5/model.ckpt.\n"
          ],
          "name": "stderr"
        },
        {
          "output_type": "stream",
          "text": [
            "INFO:tensorflow:Saving checkpoints for 321 into /tmp/tmpupmjtpf5/model.ckpt.\n"
          ],
          "name": "stdout"
        },
        {
          "output_type": "stream",
          "text": [
            "INFO:tensorflow:Saving checkpoints for 321 into /tmp/tmpupmjtpf5/model.ckpt.\n"
          ],
          "name": "stderr"
        },
        {
          "output_type": "stream",
          "text": [
            "INFO:tensorflow:Saving checkpoints for 335 into /tmp/tmpupmjtpf5/model.ckpt.\n"
          ],
          "name": "stdout"
        },
        {
          "output_type": "stream",
          "text": [
            "INFO:tensorflow:Saving checkpoints for 335 into /tmp/tmpupmjtpf5/model.ckpt.\n"
          ],
          "name": "stderr"
        },
        {
          "output_type": "stream",
          "text": [
            "INFO:tensorflow:Saving checkpoints for 349 into /tmp/tmpupmjtpf5/model.ckpt.\n"
          ],
          "name": "stdout"
        },
        {
          "output_type": "stream",
          "text": [
            "INFO:tensorflow:Saving checkpoints for 349 into /tmp/tmpupmjtpf5/model.ckpt.\n"
          ],
          "name": "stderr"
        },
        {
          "output_type": "stream",
          "text": [
            "INFO:tensorflow:Saving checkpoints for 363 into /tmp/tmpupmjtpf5/model.ckpt.\n"
          ],
          "name": "stdout"
        },
        {
          "output_type": "stream",
          "text": [
            "INFO:tensorflow:Saving checkpoints for 363 into /tmp/tmpupmjtpf5/model.ckpt.\n"
          ],
          "name": "stderr"
        },
        {
          "output_type": "stream",
          "text": [
            "INFO:tensorflow:Saving checkpoints for 377 into /tmp/tmpupmjtpf5/model.ckpt.\n"
          ],
          "name": "stdout"
        },
        {
          "output_type": "stream",
          "text": [
            "INFO:tensorflow:Saving checkpoints for 377 into /tmp/tmpupmjtpf5/model.ckpt.\n"
          ],
          "name": "stderr"
        },
        {
          "output_type": "stream",
          "text": [
            "INFO:tensorflow:Saving checkpoints for 391 into /tmp/tmpupmjtpf5/model.ckpt.\n"
          ],
          "name": "stdout"
        },
        {
          "output_type": "stream",
          "text": [
            "INFO:tensorflow:Saving checkpoints for 391 into /tmp/tmpupmjtpf5/model.ckpt.\n"
          ],
          "name": "stderr"
        },
        {
          "output_type": "stream",
          "text": [
            "INFO:tensorflow:global_step/sec: 0.0220629\n"
          ],
          "name": "stdout"
        },
        {
          "output_type": "stream",
          "text": [
            "INFO:tensorflow:global_step/sec: 0.0220629\n"
          ],
          "name": "stderr"
        },
        {
          "output_type": "stream",
          "text": [
            "INFO:tensorflow:loss = 0.032687135, step = 401 (4532.498 sec)\n"
          ],
          "name": "stdout"
        },
        {
          "output_type": "stream",
          "text": [
            "INFO:tensorflow:loss = 0.032687135, step = 401 (4532.498 sec)\n"
          ],
          "name": "stderr"
        },
        {
          "output_type": "stream",
          "text": [
            "INFO:tensorflow:Saving checkpoints for 405 into /tmp/tmpupmjtpf5/model.ckpt.\n"
          ],
          "name": "stdout"
        },
        {
          "output_type": "stream",
          "text": [
            "INFO:tensorflow:Saving checkpoints for 405 into /tmp/tmpupmjtpf5/model.ckpt.\n"
          ],
          "name": "stderr"
        },
        {
          "output_type": "stream",
          "text": [
            "INFO:tensorflow:Saving checkpoints for 419 into /tmp/tmpupmjtpf5/model.ckpt.\n"
          ],
          "name": "stdout"
        },
        {
          "output_type": "stream",
          "text": [
            "INFO:tensorflow:Saving checkpoints for 419 into /tmp/tmpupmjtpf5/model.ckpt.\n"
          ],
          "name": "stderr"
        },
        {
          "output_type": "stream",
          "text": [
            "INFO:tensorflow:Saving checkpoints for 433 into /tmp/tmpupmjtpf5/model.ckpt.\n"
          ],
          "name": "stdout"
        },
        {
          "output_type": "stream",
          "text": [
            "INFO:tensorflow:Saving checkpoints for 433 into /tmp/tmpupmjtpf5/model.ckpt.\n"
          ],
          "name": "stderr"
        },
        {
          "output_type": "stream",
          "text": [
            "INFO:tensorflow:Saving checkpoints for 437 into /tmp/tmpupmjtpf5/model.ckpt.\n"
          ],
          "name": "stdout"
        },
        {
          "output_type": "stream",
          "text": [
            "INFO:tensorflow:Saving checkpoints for 437 into /tmp/tmpupmjtpf5/model.ckpt.\n"
          ],
          "name": "stderr"
        },
        {
          "output_type": "stream",
          "text": [
            "INFO:tensorflow:Loss for final step: 0.26725894.\n"
          ],
          "name": "stdout"
        },
        {
          "output_type": "stream",
          "text": [
            "INFO:tensorflow:Loss for final step: 0.26725894.\n"
          ],
          "name": "stderr"
        },
        {
          "output_type": "stream",
          "text": [
            "Training took time \n"
          ],
          "name": "stdout"
        }
      ]
    },
    {
      "cell_type": "code",
      "metadata": {
        "id": "9VYIMOy0xwYt"
      },
      "source": [
        "valid_input_fn = run_classifier.input_fn_builder(\r\n",
        "    features=valid_features,\r\n",
        "    seq_length=MAX_SEQ_LENGTH,\r\n",
        "    is_training=False,\r\n",
        "    drop_remainder=False)"
      ],
      "execution_count": 50,
      "outputs": []
    },
    {
      "cell_type": "code",
      "metadata": {
        "colab": {
          "base_uri": "https://localhost:8080/"
        },
        "id": "cB6jOhi4e2xv",
        "outputId": "6e5deb5e-5ace-4b0d-f9d3-cc3ad4fb0e1f"
      },
      "source": [
        "estimator.evaluate(input_fn=valid_input_fn, steps=None)"
      ],
      "execution_count": 51,
      "outputs": [
        {
          "output_type": "stream",
          "text": [
            "INFO:tensorflow:Calling model_fn.\n"
          ],
          "name": "stdout"
        },
        {
          "output_type": "stream",
          "text": [
            "INFO:tensorflow:Calling model_fn.\n"
          ],
          "name": "stderr"
        },
        {
          "output_type": "stream",
          "text": [
            "INFO:tensorflow:Saver not created because there are no variables in the graph to restore\n"
          ],
          "name": "stdout"
        },
        {
          "output_type": "stream",
          "text": [
            "INFO:tensorflow:Saver not created because there are no variables in the graph to restore\n",
            "/tensorflow-1.15.2/python3.7/tensorflow_core/python/framework/indexed_slices.py:424: UserWarning: Converting sparse IndexedSlices to a dense Tensor of unknown shape. This may consume a large amount of memory.\n",
            "  \"Converting sparse IndexedSlices to a dense Tensor of unknown shape. \"\n"
          ],
          "name": "stderr"
        },
        {
          "output_type": "stream",
          "text": [
            "INFO:tensorflow:Done calling model_fn.\n"
          ],
          "name": "stdout"
        },
        {
          "output_type": "stream",
          "text": [
            "INFO:tensorflow:Done calling model_fn.\n"
          ],
          "name": "stderr"
        },
        {
          "output_type": "stream",
          "text": [
            "INFO:tensorflow:Starting evaluation at 2021-03-08T20:16:23Z\n"
          ],
          "name": "stdout"
        },
        {
          "output_type": "stream",
          "text": [
            "INFO:tensorflow:Starting evaluation at 2021-03-08T20:16:23Z\n"
          ],
          "name": "stderr"
        },
        {
          "output_type": "stream",
          "text": [
            "INFO:tensorflow:Graph was finalized.\n"
          ],
          "name": "stdout"
        },
        {
          "output_type": "stream",
          "text": [
            "INFO:tensorflow:Graph was finalized.\n"
          ],
          "name": "stderr"
        },
        {
          "output_type": "stream",
          "text": [
            "INFO:tensorflow:Restoring parameters from /tmp/tmpupmjtpf5/model.ckpt-437\n"
          ],
          "name": "stdout"
        },
        {
          "output_type": "stream",
          "text": [
            "INFO:tensorflow:Restoring parameters from /tmp/tmpupmjtpf5/model.ckpt-437\n"
          ],
          "name": "stderr"
        },
        {
          "output_type": "stream",
          "text": [
            "INFO:tensorflow:Running local_init_op.\n"
          ],
          "name": "stdout"
        },
        {
          "output_type": "stream",
          "text": [
            "INFO:tensorflow:Running local_init_op.\n"
          ],
          "name": "stderr"
        },
        {
          "output_type": "stream",
          "text": [
            "INFO:tensorflow:Done running local_init_op.\n"
          ],
          "name": "stdout"
        },
        {
          "output_type": "stream",
          "text": [
            "INFO:tensorflow:Done running local_init_op.\n"
          ],
          "name": "stderr"
        },
        {
          "output_type": "stream",
          "text": [
            "INFO:tensorflow:Finished evaluation at 2021-03-08-20:48:27\n"
          ],
          "name": "stdout"
        },
        {
          "output_type": "stream",
          "text": [
            "INFO:tensorflow:Finished evaluation at 2021-03-08-20:48:27\n"
          ],
          "name": "stderr"
        },
        {
          "output_type": "stream",
          "text": [
            "INFO:tensorflow:Saving dict for global step 437: auc = 0.95811623, eval_accuracy = 0.9498741, f1_score = 0.9572015, false_negatives = 212.0, false_positives = 7.0, global_step = 437, loss = 0.15714765, precision = 0.9971498, recall = 0.9203307, true_negatives = 1701.0, true_positives = 2449.0\n"
          ],
          "name": "stdout"
        },
        {
          "output_type": "stream",
          "text": [
            "INFO:tensorflow:Saving dict for global step 437: auc = 0.95811623, eval_accuracy = 0.9498741, f1_score = 0.9572015, false_negatives = 212.0, false_positives = 7.0, global_step = 437, loss = 0.15714765, precision = 0.9971498, recall = 0.9203307, true_negatives = 1701.0, true_positives = 2449.0\n"
          ],
          "name": "stderr"
        },
        {
          "output_type": "stream",
          "text": [
            "INFO:tensorflow:Saving 'checkpoint_path' summary for global step 437: /tmp/tmpupmjtpf5/model.ckpt-437\n"
          ],
          "name": "stdout"
        },
        {
          "output_type": "stream",
          "text": [
            "INFO:tensorflow:Saving 'checkpoint_path' summary for global step 437: /tmp/tmpupmjtpf5/model.ckpt-437\n"
          ],
          "name": "stderr"
        },
        {
          "output_type": "execute_result",
          "data": {
            "text/plain": [
              "{'auc': 0.95811623,\n",
              " 'eval_accuracy': 0.9498741,\n",
              " 'f1_score': 0.9572015,\n",
              " 'false_negatives': 212.0,\n",
              " 'false_positives': 7.0,\n",
              " 'global_step': 437,\n",
              " 'loss': 0.15714765,\n",
              " 'precision': 0.9971498,\n",
              " 'recall': 0.9203307,\n",
              " 'true_negatives': 1701.0,\n",
              " 'true_positives': 2449.0}"
            ]
          },
          "metadata": {
            "tags": []
          },
          "execution_count": 51
        }
      ]
    },
    {
      "cell_type": "code",
      "metadata": {
        "id": "uMWQ2yv2e5bp"
      },
      "source": [
        "test_input_fn = run_classifier.input_fn_builder(\r\n",
        "    features=test_features,\r\n",
        "    seq_length=MAX_SEQ_LENGTH,\r\n",
        "    is_training=False,\r\n",
        "    drop_remainder=False)"
      ],
      "execution_count": 54,
      "outputs": []
    },
    {
      "cell_type": "code",
      "metadata": {
        "colab": {
          "base_uri": "https://localhost:8080/"
        },
        "id": "meyarx8Yml0v",
        "outputId": "8f66b714-f359-4d3b-e314-5dfb4c2f5384"
      },
      "source": [
        "estimator.evaluate(input_fn=test_input_fn, steps=None)"
      ],
      "execution_count": 55,
      "outputs": [
        {
          "output_type": "stream",
          "text": [
            "INFO:tensorflow:Calling model_fn.\n"
          ],
          "name": "stdout"
        },
        {
          "output_type": "stream",
          "text": [
            "INFO:tensorflow:Calling model_fn.\n"
          ],
          "name": "stderr"
        },
        {
          "output_type": "stream",
          "text": [
            "INFO:tensorflow:Saver not created because there are no variables in the graph to restore\n"
          ],
          "name": "stdout"
        },
        {
          "output_type": "stream",
          "text": [
            "INFO:tensorflow:Saver not created because there are no variables in the graph to restore\n",
            "/tensorflow-1.15.2/python3.7/tensorflow_core/python/framework/indexed_slices.py:424: UserWarning: Converting sparse IndexedSlices to a dense Tensor of unknown shape. This may consume a large amount of memory.\n",
            "  \"Converting sparse IndexedSlices to a dense Tensor of unknown shape. \"\n"
          ],
          "name": "stderr"
        },
        {
          "output_type": "stream",
          "text": [
            "INFO:tensorflow:Done calling model_fn.\n"
          ],
          "name": "stdout"
        },
        {
          "output_type": "stream",
          "text": [
            "INFO:tensorflow:Done calling model_fn.\n"
          ],
          "name": "stderr"
        },
        {
          "output_type": "stream",
          "text": [
            "INFO:tensorflow:Starting evaluation at 2021-03-08T20:51:54Z\n"
          ],
          "name": "stdout"
        },
        {
          "output_type": "stream",
          "text": [
            "INFO:tensorflow:Starting evaluation at 2021-03-08T20:51:54Z\n"
          ],
          "name": "stderr"
        },
        {
          "output_type": "stream",
          "text": [
            "INFO:tensorflow:Graph was finalized.\n"
          ],
          "name": "stdout"
        },
        {
          "output_type": "stream",
          "text": [
            "INFO:tensorflow:Graph was finalized.\n"
          ],
          "name": "stderr"
        },
        {
          "output_type": "stream",
          "text": [
            "INFO:tensorflow:Restoring parameters from /tmp/tmpupmjtpf5/model.ckpt-437\n"
          ],
          "name": "stdout"
        },
        {
          "output_type": "stream",
          "text": [
            "INFO:tensorflow:Restoring parameters from /tmp/tmpupmjtpf5/model.ckpt-437\n"
          ],
          "name": "stderr"
        },
        {
          "output_type": "stream",
          "text": [
            "INFO:tensorflow:Running local_init_op.\n"
          ],
          "name": "stdout"
        },
        {
          "output_type": "stream",
          "text": [
            "INFO:tensorflow:Running local_init_op.\n"
          ],
          "name": "stderr"
        },
        {
          "output_type": "stream",
          "text": [
            "INFO:tensorflow:Done running local_init_op.\n"
          ],
          "name": "stdout"
        },
        {
          "output_type": "stream",
          "text": [
            "INFO:tensorflow:Done running local_init_op.\n"
          ],
          "name": "stderr"
        },
        {
          "output_type": "stream",
          "text": [
            "INFO:tensorflow:Finished evaluation at 2021-03-08-21:27:57\n"
          ],
          "name": "stdout"
        },
        {
          "output_type": "stream",
          "text": [
            "INFO:tensorflow:Finished evaluation at 2021-03-08-21:27:57\n"
          ],
          "name": "stderr"
        },
        {
          "output_type": "stream",
          "text": [
            "INFO:tensorflow:Saving dict for global step 437: auc = 0.9569698, eval_accuracy = 0.9495899, f1_score = 0.9555241, false_negatives = 247.0, false_positives = 5.0, global_step = 437, loss = 0.15803981, precision = 0.99815637, recall = 0.9163846, true_negatives = 2040.0, true_positives = 2707.0\n"
          ],
          "name": "stdout"
        },
        {
          "output_type": "stream",
          "text": [
            "INFO:tensorflow:Saving dict for global step 437: auc = 0.9569698, eval_accuracy = 0.9495899, f1_score = 0.9555241, false_negatives = 247.0, false_positives = 5.0, global_step = 437, loss = 0.15803981, precision = 0.99815637, recall = 0.9163846, true_negatives = 2040.0, true_positives = 2707.0\n"
          ],
          "name": "stderr"
        },
        {
          "output_type": "stream",
          "text": [
            "INFO:tensorflow:Saving 'checkpoint_path' summary for global step 437: /tmp/tmpupmjtpf5/model.ckpt-437\n"
          ],
          "name": "stdout"
        },
        {
          "output_type": "stream",
          "text": [
            "INFO:tensorflow:Saving 'checkpoint_path' summary for global step 437: /tmp/tmpupmjtpf5/model.ckpt-437\n"
          ],
          "name": "stderr"
        },
        {
          "output_type": "execute_result",
          "data": {
            "text/plain": [
              "{'auc': 0.9569698,\n",
              " 'eval_accuracy': 0.9495899,\n",
              " 'f1_score': 0.9555241,\n",
              " 'false_negatives': 247.0,\n",
              " 'false_positives': 5.0,\n",
              " 'global_step': 437,\n",
              " 'loss': 0.15803981,\n",
              " 'precision': 0.99815637,\n",
              " 'recall': 0.9163846,\n",
              " 'true_negatives': 2040.0,\n",
              " 'true_positives': 2707.0}"
            ]
          },
          "metadata": {
            "tags": []
          },
          "execution_count": 55
        }
      ]
    },
    {
      "cell_type": "code",
      "metadata": {
        "colab": {
          "base_uri": "https://localhost:8080/",
          "height": 418
        },
        "id": "p7XzG8_bnB0M",
        "outputId": "78c09b52-fa33-4ceb-d37f-06110904018c"
      },
      "source": [
        "predictions = estimator.predict(test_input_fn)\r\n",
        "#list(predictions)[0]\r\n",
        "pred = pd.DataFrame(list(predictions))\r\n",
        "pred.head()"
      ],
      "execution_count": 56,
      "outputs": [
        {
          "output_type": "stream",
          "text": [
            "INFO:tensorflow:Calling model_fn.\n"
          ],
          "name": "stdout"
        },
        {
          "output_type": "stream",
          "text": [
            "INFO:tensorflow:Calling model_fn.\n"
          ],
          "name": "stderr"
        },
        {
          "output_type": "stream",
          "text": [
            "INFO:tensorflow:Saver not created because there are no variables in the graph to restore\n"
          ],
          "name": "stdout"
        },
        {
          "output_type": "stream",
          "text": [
            "INFO:tensorflow:Saver not created because there are no variables in the graph to restore\n"
          ],
          "name": "stderr"
        },
        {
          "output_type": "stream",
          "text": [
            "INFO:tensorflow:Done calling model_fn.\n"
          ],
          "name": "stdout"
        },
        {
          "output_type": "stream",
          "text": [
            "INFO:tensorflow:Done calling model_fn.\n"
          ],
          "name": "stderr"
        },
        {
          "output_type": "stream",
          "text": [
            "INFO:tensorflow:Graph was finalized.\n"
          ],
          "name": "stdout"
        },
        {
          "output_type": "stream",
          "text": [
            "INFO:tensorflow:Graph was finalized.\n"
          ],
          "name": "stderr"
        },
        {
          "output_type": "stream",
          "text": [
            "INFO:tensorflow:Restoring parameters from /tmp/tmpupmjtpf5/model.ckpt-437\n"
          ],
          "name": "stdout"
        },
        {
          "output_type": "stream",
          "text": [
            "INFO:tensorflow:Restoring parameters from /tmp/tmpupmjtpf5/model.ckpt-437\n"
          ],
          "name": "stderr"
        },
        {
          "output_type": "stream",
          "text": [
            "INFO:tensorflow:Running local_init_op.\n"
          ],
          "name": "stdout"
        },
        {
          "output_type": "stream",
          "text": [
            "INFO:tensorflow:Running local_init_op.\n"
          ],
          "name": "stderr"
        },
        {
          "output_type": "stream",
          "text": [
            "INFO:tensorflow:Done running local_init_op.\n"
          ],
          "name": "stdout"
        },
        {
          "output_type": "stream",
          "text": [
            "INFO:tensorflow:Done running local_init_op.\n"
          ],
          "name": "stderr"
        },
        {
          "output_type": "execute_result",
          "data": {
            "text/html": [
              "<div>\n",
              "<style scoped>\n",
              "    .dataframe tbody tr th:only-of-type {\n",
              "        vertical-align: middle;\n",
              "    }\n",
              "\n",
              "    .dataframe tbody tr th {\n",
              "        vertical-align: top;\n",
              "    }\n",
              "\n",
              "    .dataframe thead th {\n",
              "        text-align: right;\n",
              "    }\n",
              "</style>\n",
              "<table border=\"1\" class=\"dataframe\">\n",
              "  <thead>\n",
              "    <tr style=\"text-align: right;\">\n",
              "      <th></th>\n",
              "      <th>probabilities</th>\n",
              "      <th>labels</th>\n",
              "    </tr>\n",
              "  </thead>\n",
              "  <tbody>\n",
              "    <tr>\n",
              "      <th>0</th>\n",
              "      <td>[-0.07446306, -2.634453]</td>\n",
              "      <td>0</td>\n",
              "    </tr>\n",
              "    <tr>\n",
              "      <th>1</th>\n",
              "      <td>[-5.9705033, -0.0025562725]</td>\n",
              "      <td>1</td>\n",
              "    </tr>\n",
              "    <tr>\n",
              "      <th>2</th>\n",
              "      <td>[-0.17238678, -1.8429703]</td>\n",
              "      <td>0</td>\n",
              "    </tr>\n",
              "    <tr>\n",
              "      <th>3</th>\n",
              "      <td>[-0.09522686, -2.3987284]</td>\n",
              "      <td>0</td>\n",
              "    </tr>\n",
              "    <tr>\n",
              "      <th>4</th>\n",
              "      <td>[-5.7959676, -0.003044377]</td>\n",
              "      <td>1</td>\n",
              "    </tr>\n",
              "  </tbody>\n",
              "</table>\n",
              "</div>"
            ],
            "text/plain": [
              "                 probabilities  labels\n",
              "0     [-0.07446306, -2.634453]       0\n",
              "1  [-5.9705033, -0.0025562725]       1\n",
              "2    [-0.17238678, -1.8429703]       0\n",
              "3    [-0.09522686, -2.3987284]       0\n",
              "4   [-5.7959676, -0.003044377]       1"
            ]
          },
          "metadata": {
            "tags": []
          },
          "execution_count": 56
        }
      ]
    },
    {
      "cell_type": "code",
      "metadata": {
        "colab": {
          "base_uri": "https://localhost:8080/",
          "height": 391
        },
        "id": "-giHvFJGvvuG",
        "outputId": "995a8426-ac04-4c4b-f739-ae012471d8c2"
      },
      "source": [
        "pred[:100]"
      ],
      "execution_count": 57,
      "outputs": [
        {
          "output_type": "execute_result",
          "data": {
            "text/html": [
              "<div>\n",
              "<style scoped>\n",
              "    .dataframe tbody tr th:only-of-type {\n",
              "        vertical-align: middle;\n",
              "    }\n",
              "\n",
              "    .dataframe tbody tr th {\n",
              "        vertical-align: top;\n",
              "    }\n",
              "\n",
              "    .dataframe thead th {\n",
              "        text-align: right;\n",
              "    }\n",
              "</style>\n",
              "<table border=\"1\" class=\"dataframe\">\n",
              "  <thead>\n",
              "    <tr style=\"text-align: right;\">\n",
              "      <th></th>\n",
              "      <th>probabilities</th>\n",
              "      <th>labels</th>\n",
              "    </tr>\n",
              "  </thead>\n",
              "  <tbody>\n",
              "    <tr>\n",
              "      <th>0</th>\n",
              "      <td>[-0.07446306, -2.634453]</td>\n",
              "      <td>0</td>\n",
              "    </tr>\n",
              "    <tr>\n",
              "      <th>1</th>\n",
              "      <td>[-5.9705033, -0.0025562725]</td>\n",
              "      <td>1</td>\n",
              "    </tr>\n",
              "    <tr>\n",
              "      <th>2</th>\n",
              "      <td>[-0.17238678, -1.8429703]</td>\n",
              "      <td>0</td>\n",
              "    </tr>\n",
              "    <tr>\n",
              "      <th>3</th>\n",
              "      <td>[-0.09522686, -2.3987284]</td>\n",
              "      <td>0</td>\n",
              "    </tr>\n",
              "    <tr>\n",
              "      <th>4</th>\n",
              "      <td>[-5.7959676, -0.003044377]</td>\n",
              "      <td>1</td>\n",
              "    </tr>\n",
              "    <tr>\n",
              "      <th>...</th>\n",
              "      <td>...</td>\n",
              "      <td>...</td>\n",
              "    </tr>\n",
              "    <tr>\n",
              "      <th>95</th>\n",
              "      <td>[-0.17796595, -1.8138264]</td>\n",
              "      <td>0</td>\n",
              "    </tr>\n",
              "    <tr>\n",
              "      <th>96</th>\n",
              "      <td>[-0.20513979, -1.6848805]</td>\n",
              "      <td>0</td>\n",
              "    </tr>\n",
              "    <tr>\n",
              "      <th>97</th>\n",
              "      <td>[-5.8052254, -0.003016329]</td>\n",
              "      <td>1</td>\n",
              "    </tr>\n",
              "    <tr>\n",
              "      <th>98</th>\n",
              "      <td>[-0.038750265, -3.269929]</td>\n",
              "      <td>0</td>\n",
              "    </tr>\n",
              "    <tr>\n",
              "      <th>99</th>\n",
              "      <td>[-0.041708365, -3.1978345]</td>\n",
              "      <td>0</td>\n",
              "    </tr>\n",
              "  </tbody>\n",
              "</table>\n",
              "<p>100 rows × 2 columns</p>\n",
              "</div>"
            ],
            "text/plain": [
              "                  probabilities  labels\n",
              "0      [-0.07446306, -2.634453]       0\n",
              "1   [-5.9705033, -0.0025562725]       1\n",
              "2     [-0.17238678, -1.8429703]       0\n",
              "3     [-0.09522686, -2.3987284]       0\n",
              "4    [-5.7959676, -0.003044377]       1\n",
              "..                          ...     ...\n",
              "95    [-0.17796595, -1.8138264]       0\n",
              "96    [-0.20513979, -1.6848805]       0\n",
              "97   [-5.8052254, -0.003016329]       1\n",
              "98    [-0.038750265, -3.269929]       0\n",
              "99   [-0.041708365, -3.1978345]       0\n",
              "\n",
              "[100 rows x 2 columns]"
            ]
          },
          "metadata": {
            "tags": []
          },
          "execution_count": 57
        }
      ]
    },
    {
      "cell_type": "code",
      "metadata": {
        "colab": {
          "base_uri": "https://localhost:8080/",
          "height": 191
        },
        "id": "v1uksg-64dBD",
        "outputId": "7037d3a4-374f-43ef-8bd3-ca7c3944f751"
      },
      "source": [
        "import numpy as np\r\n",
        "pred[['log_p0', 'log_p1']] = pd.DataFrame(pred.probabilities.tolist()) \r\n",
        "pred['p1']= np.exp(pred['log_p1'])\r\n",
        "\r\n",
        "pred.head()"
      ],
      "execution_count": 58,
      "outputs": [
        {
          "output_type": "execute_result",
          "data": {
            "text/html": [
              "<div>\n",
              "<style scoped>\n",
              "    .dataframe tbody tr th:only-of-type {\n",
              "        vertical-align: middle;\n",
              "    }\n",
              "\n",
              "    .dataframe tbody tr th {\n",
              "        vertical-align: top;\n",
              "    }\n",
              "\n",
              "    .dataframe thead th {\n",
              "        text-align: right;\n",
              "    }\n",
              "</style>\n",
              "<table border=\"1\" class=\"dataframe\">\n",
              "  <thead>\n",
              "    <tr style=\"text-align: right;\">\n",
              "      <th></th>\n",
              "      <th>probabilities</th>\n",
              "      <th>labels</th>\n",
              "      <th>log_p0</th>\n",
              "      <th>log_p1</th>\n",
              "      <th>p1</th>\n",
              "    </tr>\n",
              "  </thead>\n",
              "  <tbody>\n",
              "    <tr>\n",
              "      <th>0</th>\n",
              "      <td>[-0.07446306, -2.634453]</td>\n",
              "      <td>0</td>\n",
              "      <td>-0.074463</td>\n",
              "      <td>-2.634453</td>\n",
              "      <td>0.071758</td>\n",
              "    </tr>\n",
              "    <tr>\n",
              "      <th>1</th>\n",
              "      <td>[-5.9705033, -0.0025562725]</td>\n",
              "      <td>1</td>\n",
              "      <td>-5.970503</td>\n",
              "      <td>-0.002556</td>\n",
              "      <td>0.997447</td>\n",
              "    </tr>\n",
              "    <tr>\n",
              "      <th>2</th>\n",
              "      <td>[-0.17238678, -1.8429703]</td>\n",
              "      <td>0</td>\n",
              "      <td>-0.172387</td>\n",
              "      <td>-1.842970</td>\n",
              "      <td>0.158346</td>\n",
              "    </tr>\n",
              "    <tr>\n",
              "      <th>3</th>\n",
              "      <td>[-0.09522686, -2.3987284]</td>\n",
              "      <td>0</td>\n",
              "      <td>-0.095227</td>\n",
              "      <td>-2.398728</td>\n",
              "      <td>0.090833</td>\n",
              "    </tr>\n",
              "    <tr>\n",
              "      <th>4</th>\n",
              "      <td>[-5.7959676, -0.003044377]</td>\n",
              "      <td>1</td>\n",
              "      <td>-5.795968</td>\n",
              "      <td>-0.003044</td>\n",
              "      <td>0.996960</td>\n",
              "    </tr>\n",
              "  </tbody>\n",
              "</table>\n",
              "</div>"
            ],
            "text/plain": [
              "                 probabilities  labels    log_p0    log_p1        p1\n",
              "0     [-0.07446306, -2.634453]       0 -0.074463 -2.634453  0.071758\n",
              "1  [-5.9705033, -0.0025562725]       1 -5.970503 -0.002556  0.997447\n",
              "2    [-0.17238678, -1.8429703]       0 -0.172387 -1.842970  0.158346\n",
              "3    [-0.09522686, -2.3987284]       0 -0.095227 -2.398728  0.090833\n",
              "4   [-5.7959676, -0.003044377]       1 -5.795968 -0.003044  0.996960"
            ]
          },
          "metadata": {
            "tags": []
          },
          "execution_count": 58
        }
      ]
    },
    {
      "cell_type": "code",
      "metadata": {
        "colab": {
          "base_uri": "https://localhost:8080/"
        },
        "id": "D5rY9LtP4kek",
        "outputId": "ad046cd1-ce8a-4db5-eaaf-f8ec37a58ca8"
      },
      "source": [
        "test = (test).reset_index()\r\n",
        "(test.label == pred.labels).value_counts()"
      ],
      "execution_count": 60,
      "outputs": [
        {
          "output_type": "execute_result",
          "data": {
            "text/plain": [
              "True     4746\n",
              "False     253\n",
              "dtype: int64"
            ]
          },
          "metadata": {
            "tags": []
          },
          "execution_count": 60
        }
      ]
    },
    {
      "cell_type": "code",
      "metadata": {
        "colab": {
          "base_uri": "https://localhost:8080/",
          "height": 191
        },
        "id": "Pd5AkdvL4rDV",
        "outputId": "2598e8d0-4373-4336-fd87-44b5976f603a"
      },
      "source": [
        "pred['true_labels'] = test.label\r\n",
        "pred['abs_dif'] = np.abs(pred.true_labels-pred.p1)\r\n",
        "pred['review'] = test['review']\r\n",
        "pred.head()"
      ],
      "execution_count": 61,
      "outputs": [
        {
          "output_type": "execute_result",
          "data": {
            "text/html": [
              "<div>\n",
              "<style scoped>\n",
              "    .dataframe tbody tr th:only-of-type {\n",
              "        vertical-align: middle;\n",
              "    }\n",
              "\n",
              "    .dataframe tbody tr th {\n",
              "        vertical-align: top;\n",
              "    }\n",
              "\n",
              "    .dataframe thead th {\n",
              "        text-align: right;\n",
              "    }\n",
              "</style>\n",
              "<table border=\"1\" class=\"dataframe\">\n",
              "  <thead>\n",
              "    <tr style=\"text-align: right;\">\n",
              "      <th></th>\n",
              "      <th>probabilities</th>\n",
              "      <th>labels</th>\n",
              "      <th>log_p0</th>\n",
              "      <th>log_p1</th>\n",
              "      <th>p1</th>\n",
              "      <th>true_labels</th>\n",
              "      <th>abs_dif</th>\n",
              "      <th>review</th>\n",
              "    </tr>\n",
              "  </thead>\n",
              "  <tbody>\n",
              "    <tr>\n",
              "      <th>0</th>\n",
              "      <td>[-0.07446306, -2.634453]</td>\n",
              "      <td>0</td>\n",
              "      <td>-0.074463</td>\n",
              "      <td>-2.634453</td>\n",
              "      <td>0.071758</td>\n",
              "      <td>0</td>\n",
              "      <td>0.071758</td>\n",
              "      <td>Possibly one of the most expensive restaurants...</td>\n",
              "    </tr>\n",
              "    <tr>\n",
              "      <th>1</th>\n",
              "      <td>[-5.9705033, -0.0025562725]</td>\n",
              "      <td>1</td>\n",
              "      <td>-5.970503</td>\n",
              "      <td>-0.002556</td>\n",
              "      <td>0.997447</td>\n",
              "      <td>1</td>\n",
              "      <td>0.002553</td>\n",
              "      <td>Very cozy little restaurant with more outdoor ...</td>\n",
              "    </tr>\n",
              "    <tr>\n",
              "      <th>2</th>\n",
              "      <td>[-0.17238678, -1.8429703]</td>\n",
              "      <td>0</td>\n",
              "      <td>-0.172387</td>\n",
              "      <td>-1.842970</td>\n",
              "      <td>0.158346</td>\n",
              "      <td>1</td>\n",
              "      <td>0.841654</td>\n",
              "      <td>I went to Miriam's expecting a nice time and m...</td>\n",
              "    </tr>\n",
              "    <tr>\n",
              "      <th>3</th>\n",
              "      <td>[-0.09522686, -2.3987284]</td>\n",
              "      <td>0</td>\n",
              "      <td>-0.095227</td>\n",
              "      <td>-2.398728</td>\n",
              "      <td>0.090833</td>\n",
              "      <td>0</td>\n",
              "      <td>0.090833</td>\n",
              "      <td>It might be unwise to be a buzz-kill for a pla...</td>\n",
              "    </tr>\n",
              "    <tr>\n",
              "      <th>4</th>\n",
              "      <td>[-5.7959676, -0.003044377]</td>\n",
              "      <td>1</td>\n",
              "      <td>-5.795968</td>\n",
              "      <td>-0.003044</td>\n",
              "      <td>0.996960</td>\n",
              "      <td>1</td>\n",
              "      <td>0.003040</td>\n",
              "      <td>It's my favorite place in Korea town. They hav...</td>\n",
              "    </tr>\n",
              "  </tbody>\n",
              "</table>\n",
              "</div>"
            ],
            "text/plain": [
              "                 probabilities  ...                                             review\n",
              "0     [-0.07446306, -2.634453]  ...  Possibly one of the most expensive restaurants...\n",
              "1  [-5.9705033, -0.0025562725]  ...  Very cozy little restaurant with more outdoor ...\n",
              "2    [-0.17238678, -1.8429703]  ...  I went to Miriam's expecting a nice time and m...\n",
              "3    [-0.09522686, -2.3987284]  ...  It might be unwise to be a buzz-kill for a pla...\n",
              "4   [-5.7959676, -0.003044377]  ...  It's my favorite place in Korea town. They hav...\n",
              "\n",
              "[5 rows x 8 columns]"
            ]
          },
          "metadata": {
            "tags": []
          },
          "execution_count": 61
        }
      ]
    },
    {
      "cell_type": "code",
      "metadata": {
        "id": "cwNkiuKJ41Hy"
      },
      "source": [
        "pred.to_csv(r'/content/test-data-analysis.csv')"
      ],
      "execution_count": 62,
      "outputs": []
    },
    {
      "cell_type": "code",
      "metadata": {
        "id": "ewcNUhBj6ZsV"
      },
      "source": [
        "train.to_csv(r'/content/featured-mini.csv')"
      ],
      "execution_count": 63,
      "outputs": []
    },
    {
      "cell_type": "code",
      "metadata": {
        "colab": {
          "base_uri": "https://localhost:8080/"
        },
        "id": "stw1RAek6kxb",
        "outputId": "72048bbb-b964-4fd1-97d0-2d88603efccf"
      },
      "source": [
        "from sklearn import metrics\r\n",
        "fpr, tpr, thresholds = metrics.roc_curve(pred.true_labels , pred.p1)\r\n",
        "auc = metrics.roc_auc_score(pred.true_labels , pred.p1)\r\n",
        "print(\"Auc ROC is \",auc)\r\n",
        "precision, recall, thresholds = metrics.precision_recall_curve(pred.true_labels , pred.p1)\r\n",
        "auc = metrics.auc(recall, precision)\r\n",
        "print(\"Auc PRC is \",auc)\r\n",
        "f1 = metrics.f1_score(pred.true_labels, pred.labels)\r\n",
        "print(\"F1 score is\",f1)\r\n",
        "print(\"Log loss is \",metrics.log_loss(pred.true_labels , pred.p1))"
      ],
      "execution_count": 64,
      "outputs": [
        {
          "output_type": "stream",
          "text": [
            "Auc ROC is  0.9694161329464172\n",
            "Auc PRC is  0.9835544447277909\n",
            "F1 score is 0.9553398058252427\n",
            "Log loss is  0.15862500200258767\n"
          ],
          "name": "stdout"
        }
      ]
    },
    {
      "cell_type": "code",
      "metadata": {
        "colab": {
          "base_uri": "https://localhost:8080/",
          "height": 278
        },
        "id": "xAa65p6P6tJt",
        "outputId": "1cda7bf2-11ed-4815-c050-383e7aaf4e47"
      },
      "source": [
        "import matplotlib.pyplot as plt\r\n",
        "plt.plot(fpr, tpr, linestyle='--', label='BERT')\r\n",
        "plt.xlabel('False Positive Rate')\r\n",
        "plt.ylabel('True Positive Rate')\r\n",
        "plt.legend()\r\n",
        "plt.show()"
      ],
      "execution_count": 65,
      "outputs": [
        {
          "output_type": "display_data",
          "data": {
            "image/png": "[encoded data removed]",
            "text/plain": [
              "<Figure size 432x288 with 1 Axes>"
            ]
          },
          "metadata": {
            "tags": [],
            "needs_background": "light"
          }
        }
      ]
    },
    {
      "cell_type": "code",
      "metadata": {
        "id": "S_UExDv9611U"
      },
      "source": [
        "results = pd.DataFrame()\r\n",
        "results['prob'] = pred.p1\r\n",
        "results['predictions'] = pred.labels\r\n",
        "results['labels'] = pred.true_labels\r\n",
        "results.to_csv('/content/BERT.csv') "
      ],
      "execution_count": 68,
      "outputs": []
    },
    {
      "cell_type": "code",
      "metadata": {
        "id": "mrGgY4yE7xqo"
      },
      "source": [
        ""
      ],
      "execution_count": null,
      "outputs": []
    }
  ]
}